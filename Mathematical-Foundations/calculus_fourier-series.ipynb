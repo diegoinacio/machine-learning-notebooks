{
 "cells": [
  {
   "cell_type": "markdown",
   "metadata": {},
   "source": [
    "# Calculus - Fourier Series\n",
    "---\n",
    "- Author: Diego Inácio\n",
    "- GitHub: [github.com/diegoinacio](https://github.com/diegoinacio)\n",
    "- Notebook: [calculus_fourier-series.ipynb](https://github.com/diegoinacio/machine-learning-notebooks/blob/master/Mathematical-Foundations/calculus_fourier-series.ipynb)\n",
    "---\n",
    "Brief overview of *Fourier series*."
   ]
  },
  {
   "cell_type": "code",
   "execution_count": null,
   "metadata": {},
   "outputs": [],
   "source": [
    "%matplotlib inline\n",
    "import matplotlib.pyplot as plt\n",
    "import numpy as np\n",
    "\n",
    "from calculus_fourierSeries__utils import *"
   ]
  },
  {
   "cell_type": "code",
   "execution_count": null,
   "metadata": {},
   "outputs": [],
   "source": [
    "plt.rcParams['figure.figsize'] = (18, 6)"
   ]
  },
  {
   "cell_type": "markdown",
   "metadata": {},
   "source": [
    "Given an arbitrary function defined in the interval $[-\\pi, \\pi]$:\n",
    "\n",
    "$$ \\large\n",
    "f(t)=\\frac{t}{\\pi}, \\quad \\text{for} -\\pi \\leq t \\leq \\pi\n",
    "$$"
   ]
  },
  {
   "cell_type": "code",
   "execution_count": null,
   "metadata": {},
   "outputs": [],
   "source": [
    "# Function f(t)\n",
    "f = lambda t: t/np.pi\n",
    "\n",
    "# visualization\n",
    "plot_function1(f)"
   ]
  },
  {
   "cell_type": "markdown",
   "metadata": {},
   "source": [
    "The periodic fourier serie (in sine-cosine form) of the function $f(t)$ is:\n",
    "\n",
    "$$ \\large\n",
    "s(t)=\\frac{a_0}{2} + \\sum_{n=1}^{\\infty}a_n\\cos(nt) + \\sum_{n=1}^{\\infty}b_n\\sin(nt)\n",
    "$$\n",
    "\n",
    "Where the coeficients $a_0$, $a_n$ and $b_n$ are calculated by:\n",
    "\n",
    "$$ \\large\n",
    "\\begin{aligned}\n",
    "a_0 &= \\frac{1}{\\pi} \\int_{-\\pi}^{\\pi} f(t) dt \\\\\n",
    "a_n &= \\frac{1}{\\pi} \\int_{-\\pi}^{\\pi} f(t) \\cos(nt) dt \\\\\n",
    "b_n &= \\frac{1}{\\pi} \\int_{-\\pi}^{\\pi} f(t) \\sin(nt) dt\n",
    "\\end{aligned}\n",
    "$$\n",
    "\n",
    "The resulting serie is a periodic and infinity function. Even if it has jump discontinuity (it happens only in the infinity), its values are always finites, so that:\n",
    "\n",
    "$$ \\large\n",
    "s(t_i)=\\frac{\\displaystyle \\lim_{t_i\\rightarrow t^+}f(t) + \\lim_{t_i\\rightarrow t^-}f(t)}{2}\n",
    "$$"
   ]
  },
  {
   "cell_type": "code",
   "execution_count": null,
   "metadata": {},
   "outputs": [],
   "source": [
    "# Visualize periodic function\n",
    "periodic_function1(f)"
   ]
  },
  {
   "cell_type": "markdown",
   "metadata": {},
   "source": [
    "The first step is to calculate $a_0$:\n",
    "\n",
    "$$ \\large\n",
    "\\begin{aligned}\n",
    "a_0 &= \\frac{1}{\\pi} \\int_{-\\pi}^{\\pi} \\frac{t}{\\pi} dt  \\\\\n",
    "    &= \\frac{1}{\\pi} \\frac{t^2}{2\\pi} \\biggr\\rvert_{-\\pi}^{\\pi} \\\\\n",
    "a_0 &= 0\n",
    "\\end{aligned}\n",
    "$$\n",
    "\n",
    "Fourier series has a very strong behaviour where *odd functions* has the $\\large a$'s ($a_0$ and $a_n$) coefficients equal to zero and *even functions* has the $\\large b_n$ coefficient equal to zero. When the functions is neither even nor odd, the function will be decomposed into all coefficients. So, as we can expect (given our $f(t)$ is an odd function), the coefficient $a_n$ is going to be equal to zero.\n",
    "\n",
    "$$ \\large\n",
    "\\begin{aligned}\n",
    "a_n &= \\frac{1}{\\pi} \\int_{-\\pi}^{\\pi} \\frac{t}{\\pi} \\cos(nt) dt \\\\\n",
    "    &= \\frac{1}{\\pi^2} \\left. \\left[ \\frac{t \\sin(nt)}{n} \\right|_{-\\pi}^{\\pi} -\\int_{-\\pi}^{\\pi} \\frac{\\sin(nt)}{n} dt \\right] \\\\\n",
    "    &= \\frac{1}{\\pi^2} \\left[ 0 - \\left. \\left( - \\frac{cos(nt)}{n^2} \\right) \\right|_{-\\pi}^{\\pi} \\right] \\\\\n",
    "    &= \\frac{1}{\\pi} \\left[ \\frac{cos(n\\pi)}{n^2} - \\frac{cos(-n\\pi)}{n^2} \\right] \\\\\n",
    "    &= \\frac{1}{\\pi} \\cdot 0 \\quad , \\quad \\text{due} \\cos(n\\pi) =  \\cos(-n\\pi) \\\\\n",
    "a_n &= 0\n",
    "\\end{aligned}\n",
    "$$\n",
    "\n",
    "The $b_n$ coefficient must be calculated. To do that we have to keep in mind 2 things:\n",
    "- The cosine function is even so $cos(nt) = cos(-nt)$\n",
    "- The cosine function is an alternator for harmonics of $\\pi$ what it means that when $n$ is *even* the result is $1$ and when it is *odd* the result is $-1$.\n",
    "\n",
    "$$ \\large\n",
    "\\begin{aligned}\n",
    "b_n &= \\frac{1}{\\pi} \\int_{-\\pi}^{\\pi} \\frac{t}{\\pi} \\sin(nt) dt \\\\\n",
    "    &= \\frac{1}{\\pi^2} \\left. \\left[ - \\frac{t \\cos(nt)}{n} \\right|_{-\\pi}^{\\pi} -\\int_{-\\pi}^{\\pi} - \\frac{\\cos(nt)}{n} dt \\right] \\\\\n",
    "    &= \\frac{1}{\\pi^2} \\left[ - \\left[ \\frac{\\pi \\cos(n\\pi)}{n} - \\frac{(-\\pi) \\cos(-n\\pi)}{n} \\right] + \\left. \\frac{t\\sin(nt)}{n^2} \\right|_{-\\pi}^{\\pi} \\right] \\\\\n",
    "    &= \\frac{1}{\\pi^2} \\left[ - \\frac{2\\pi cos(n\\pi)}{n} + 0 \\right] \\quad , \\quad \\text{due} \\cos(n\\pi) =  \\cos(-n\\pi) \\\\\n",
    "    &= - \\frac{2\\cos(n\\pi)}{n\\pi} \\\\\n",
    "    &= \\begin{cases}\n",
    "- \\frac{2}{n\\pi} &, \\text{n is even} \\\\\n",
    "\\frac{2}{n\\pi} &, \\text{n is odd}\n",
    "\\end{cases} \\\\\n",
    "b_n &= \\frac{2}{\\pi}\\frac{(-1)^{n+1}}{n} \\quad , \\quad n \\geq 1\n",
    "\\end{aligned}\n",
    "$$\n",
    "\n",
    "Notice that we transposed the cosine function into a serie alternator given the behavior of the result depending on the value of $n$. Having that, our fourier serie of $f(t)$ is defined by:\n",
    "\n",
    "$$ \\large\n",
    "s(t) = \\frac{2}{\\pi} \\sum_{n=1}^{\\infty} \\frac{(-1)^{n+1}}{n} \\sin(nt)\n",
    "$$"
   ]
  },
  {
   "cell_type": "code",
   "execution_count": null,
   "metadata": {},
   "outputs": [],
   "source": [
    "# Number of serie elements.\n",
    "# Tends to the infinity\n",
    "N = 100\n",
    "\n",
    "# The Fourier serie\n",
    "s = lambda t: 2/np.pi*np.sum(\n",
    "    [(-1)**(n+1)/n*np.sin(n*t) for n in range(1, N + 1)],\n",
    "    axis=0\n",
    ")\n",
    "\n",
    "# visualization\n",
    "serie_function1(s)"
   ]
  },
  {
   "cell_type": "markdown",
   "metadata": {},
   "source": [
    "## Example 1. Even function\n",
    "---\n",
    "Given de even function in the interval $[-\\pi, \\pi]$:\n",
    "\n",
    "$$ \\large\n",
    "f(t) = t^2, \\quad \\text{for} -\\pi \\leq t \\leq \\pi\n",
    "$$"
   ]
  },
  {
   "cell_type": "code",
   "execution_count": null,
   "metadata": {},
   "outputs": [],
   "source": [
    "# Function f(t)\n",
    "f = lambda t: t**2\n",
    "\n",
    "# visualization\n",
    "plot_function2(f)"
   ]
  },
  {
   "cell_type": "markdown",
   "metadata": {},
   "source": [
    "The resulting poriodic function has a removable discontinuity."
   ]
  },
  {
   "cell_type": "code",
   "execution_count": null,
   "metadata": {},
   "outputs": [],
   "source": [
    "# Visualize periodic function\n",
    "periodic_function2(f)"
   ]
  },
  {
   "cell_type": "markdown",
   "metadata": {},
   "source": [
    "The final result of the coefficients $a_0$, $b_0$ and $b_n$ are:\n",
    "\n",
    "$$ \\large\n",
    "\\begin{aligned}\n",
    "a_0 &= \\frac{2\\pi^2}{3} \\\\\n",
    "a_n &= \\frac{4}{n^2} \\cos(n\\pi) = (-1)^n \\frac{4}{n^2} \\\\\n",
    "b_n &= 0\n",
    "\\end{aligned}\n",
    "$$\n",
    "\n",
    "The coefficient $b_n$ is null due the function $f(t)$ being even. Thus, the fourier serie is defined as:\n",
    "\n",
    "$$ \\large\n",
    "\\begin{aligned}\n",
    "s(t) &= \\frac{a_0}{2} + \\sum_{n=1}^{\\infty}a_n\\cos(nt) + \\sum_{n=1}^{\\infty}b_n\\sin(nt) \\\\\n",
    "s(t) &= \\frac{\\pi^2}{3} + \\sum_{n=1}^{\\infty} (-1)^n \\frac{4}{n^2} \\cos(nt)\n",
    "\\end{aligned}\n",
    "$$"
   ]
  },
  {
   "cell_type": "code",
   "execution_count": null,
   "metadata": {},
   "outputs": [],
   "source": [
    "# Number of serie elements.\n",
    "# Tends to the infinity\n",
    "N = 16\n",
    "\n",
    "# The Fourier serie\n",
    "s = lambda t: np.pi**2/3 + np.sum(\n",
    "    [(-1)**n*4/n**2*np.cos(n*t) for n in range(1, N + 1)],\n",
    "    axis=0\n",
    ")\n",
    "\n",
    "# visualization\n",
    "serie_function2(s)"
   ]
  },
  {
   "cell_type": "markdown",
   "metadata": {},
   "source": [
    "## General form\n",
    "---\n",
    "As we can notice, the functions $f(t)$ were defined in the interval $[-\\pi, \\pi]$. It happened because the base period $L$ of a periodic function is usually $2\\pi$ but we can define the fourier serie of a function in any interval. Considering $L=2P$, the general form can be understood as:\n",
    "\n",
    "$$ \\large\n",
    "s(t)=\\frac{a_0}{2} + \\sum_{n=1}^{\\infty}a_n\\cos \\left(\\frac{\\pi nt}{P}\\right) + \\sum_{n=1}^{\\infty}b_n\\sin \\left(\\frac{\\pi nt}{P}\\right)\n",
    "$$\n",
    "\n",
    "Now, the interval is going to be $[-P, P]$ if it steel centered in 0. If it has a phase offset, we can undestand the interval as $[\\theta - P, \\theta + P]$.\n",
    "\n",
    "$$ \\large\n",
    "\\begin{aligned}\n",
    "a_0 &= \\frac{1}{P} \\int_{\\theta - P}^{\\theta + P} f(t) dt \\\\\n",
    "a_n &= \\frac{1}{P} \\int_{\\theta - P}^{\\theta + P} f(t) \\cos \\left(\\frac{\\pi nt}{P}\\right) dt \\\\\n",
    "b_n &= \\frac{1}{P} \\int_{\\theta - P}^{\\theta + P} f(t) \\sin \\left(\\frac{\\pi nt}{P}\\right) dt\n",
    "\\end{aligned}\n",
    "$$"
   ]
  }
 ],
 "metadata": {
  "kernelspec": {
   "display_name": "Python 3",
   "language": "python",
   "name": "python3"
  },
  "language_info": {
   "codemirror_mode": {
    "name": "ipython",
    "version": 3
   },
   "file_extension": ".py",
   "mimetype": "text/x-python",
   "name": "python",
   "nbconvert_exporter": "python",
   "pygments_lexer": "ipython3",
   "version": "3.7.7"
  }
 },
 "nbformat": 4,
 "nbformat_minor": 2
}
