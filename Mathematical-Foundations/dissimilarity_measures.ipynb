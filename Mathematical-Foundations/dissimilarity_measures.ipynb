{
 "cells": [
  {
   "cell_type": "markdown",
   "metadata": {},
   "source": [
    "# Dissimilarity Measure\n",
    "---\n",
    "- Author: Diego Inácio\n",
    "- GitHub: [github.com/diegoinacio](https://github.com/diegoinacio)\n",
    "- Notebook: [dissimilarity_measures.ipynb](https://github.com/diegoinacio/machine-learning-notebooks/blob/master/Mathematical-Foundations/dissimilarity_measures.ipynb)\n",
    "---\n",
    "Overview about dissimilarity and distance measure."
   ]
  },
  {
   "cell_type": "code",
   "execution_count": null,
   "metadata": {},
   "outputs": [],
   "source": [
    "%matplotlib inline\n",
    "import numpy as np"
   ]
  },
  {
   "cell_type": "code",
   "execution_count": null,
   "metadata": {},
   "outputs": [],
   "source": [
    "from dissimilarity__utils import *"
   ]
  },
  {
   "cell_type": "markdown",
   "metadata": {},
   "source": [
    "## 1. Euclidian Distance\n",
    "---\n",
    "\n",
    "$$ \\large \\displaystyle\n",
    "    d(x,y) \\mapsto \\|x-y\\|_2 = \\left[\\sum_{i}^{n}(x_i-y_i)^2\\right]^\\frac{1}{2} = \\sqrt{\\sum_{i}^{n}(x_i-y_i)^2}\n",
    "$$"
   ]
  },
  {
   "cell_type": "code",
   "execution_count": null,
   "metadata": {},
   "outputs": [],
   "source": [
    "eucl = lambda x, y: np.sum((x - y)**2, axis=1)**0.5"
   ]
  },
  {
   "cell_type": "code",
   "execution_count": null,
   "metadata": {},
   "outputs": [],
   "source": [
    "x = np.array([0, 0])\n",
    "dA = eucl(x, yA)\n",
    "dB = eucl(x, yB).reshape(s.shape)"
   ]
  },
  {
   "cell_type": "code",
   "execution_count": null,
   "metadata": {},
   "outputs": [],
   "source": [
    "%%time\n",
    "plotDist(x, dA, dB, 'euclidean_distance', save=False)"
   ]
  },
  {
   "cell_type": "markdown",
   "metadata": {},
   "source": [
    "## 2. Manhattan Distance\n",
    "---\n",
    "\n",
    "$$ \\large \\displaystyle\n",
    "    d(x,y) \\mapsto \\|x-y\\|_1 = \\sum_{i}^{n}|x_i-y_i|\n",
    "$$"
   ]
  },
  {
   "cell_type": "code",
   "execution_count": null,
   "metadata": {},
   "outputs": [],
   "source": [
    "manh = lambda x, y: np.sum(np.absolute(x - y), axis = 1)"
   ]
  },
  {
   "cell_type": "code",
   "execution_count": null,
   "metadata": {},
   "outputs": [],
   "source": [
    "x = np.array([0, 0])\n",
    "dA = manh(x, yA)\n",
    "dB = manh(x, yB).reshape(s.shape)"
   ]
  },
  {
   "cell_type": "code",
   "execution_count": null,
   "metadata": {},
   "outputs": [],
   "source": [
    "%%time\n",
    "plotDist(x, dA, dB, 'manhattan_distance', save=False)"
   ]
  },
  {
   "cell_type": "markdown",
   "metadata": {},
   "source": [
    "## 3. Chebyshev Distance\n",
    "---\n",
    "\n",
    "$$ \\large \\displaystyle\n",
    "    d(x,y) \\mapsto \\|x-y\\|_\\infty = \\lim_{p\\to\\infty} \\left(\\sum_{i}^{n}|x_i-y_i|^p\\right)^\\frac{1}{p} = \\overset{n}{\\underset{i}{\\max}}|x_i-y_i|\n",
    "$$"
   ]
  },
  {
   "cell_type": "code",
   "execution_count": null,
   "metadata": {},
   "outputs": [],
   "source": [
    "cheb = lambda x, y: np.max(np.absolute(x - y), axis = 1)"
   ]
  },
  {
   "cell_type": "code",
   "execution_count": null,
   "metadata": {},
   "outputs": [],
   "source": [
    "x = np.array([0, 0])\n",
    "dA = cheb(x, yA)\n",
    "dB = cheb(x, yB).reshape(s.shape)"
   ]
  },
  {
   "cell_type": "code",
   "execution_count": null,
   "metadata": {},
   "outputs": [],
   "source": [
    "%%time\n",
    "plotDist(x, dA, dB, 'chebyshev_distance', save=False)"
   ]
  },
  {
   "cell_type": "markdown",
   "metadata": {},
   "source": [
    "## 4. Minkowski Distance\n",
    "---\n",
    "\n",
    "$$ \\large \\displaystyle\n",
    "    d(x,y) \\mapsto \\|x-y\\|_p = \\left(\\sum_{i}^{n}|x_i-y_i|^p\\right)^\\frac{1}{p}\n",
    "$$"
   ]
  },
  {
   "cell_type": "code",
   "execution_count": null,
   "metadata": {},
   "outputs": [],
   "source": [
    "mink = lambda x, y, p: np.sum(np.absolute(x - y)**p, axis = 1)**(1/p)"
   ]
  },
  {
   "cell_type": "code",
   "execution_count": null,
   "metadata": {},
   "outputs": [],
   "source": [
    "x = np.array([0, 0])\n",
    "p = 2**-1\n",
    "dA = mink(x, yA, p)\n",
    "dB = mink(x, yB, p).reshape(s.shape)"
   ]
  },
  {
   "cell_type": "code",
   "execution_count": null,
   "metadata": {},
   "outputs": [],
   "source": [
    "%%time\n",
    "plotDist(x, dA, dB, 'minkowski_distance_A', ctitle=r'$p=2^{0}{2}{1}={3}$'.format('{', '}', -1, p), save=False)"
   ]
  },
  {
   "cell_type": "code",
   "execution_count": null,
   "metadata": {},
   "outputs": [],
   "source": [
    "%%time\n",
    "fig, axes = plt.subplots(2, 4, sharex=True, sharey=True)\n",
    "\n",
    "for j, axs in enumerate(axes):\n",
    "    for i, ax in enumerate(axs):\n",
    "        index = i + 4*j\n",
    "        exp = index - 3\n",
    "        pi = 2**exp\n",
    "        d = mink(x, yB, pi).reshape(s.shape)\n",
    "        plotContour(ax, d,\n",
    "                    r'$p=2^{0}{2}{1}={3}$'.format('{', '}', exp, pi),\n",
    "                    fsize=8)\n",
    "figname = 'minkowski_distance_B'\n",
    "fig.suptitle(' '.join([e.capitalize() for e in figname.split('_')]))\n",
    "#fig.savefig('_output/similarity_{}.png'.format(figname), bbox_inches='tight')"
   ]
  },
  {
   "cell_type": "markdown",
   "metadata": {},
   "source": [
    "## 5. Canberra Distance\n",
    "---\n",
    "\n",
    "$$ \\large \\displaystyle\n",
    "    d(x,y) = \\sum_{i}^{n}\\frac{|x_i-y_i|}{|x_i|+|y_i|}\n",
    "$$"
   ]
  },
  {
   "cell_type": "code",
   "execution_count": null,
   "metadata": {},
   "outputs": [],
   "source": [
    "def canb(x, y):\n",
    "    num = np.absolute(x - y)\n",
    "    den = np.absolute(x) + np.absolute(y)\n",
    "    return np.sum(num/den, axis = 1)"
   ]
  },
  {
   "cell_type": "code",
   "execution_count": null,
   "metadata": {},
   "outputs": [],
   "source": [
    "x = np.array([0.25, 0.25])\n",
    "dA = canb(x, yA)\n",
    "dB = canb(x, yB).reshape(s.shape)"
   ]
  },
  {
   "cell_type": "code",
   "execution_count": null,
   "metadata": {},
   "outputs": [],
   "source": [
    "%%time\n",
    "plotDist(x, dA, dB, 'canberra_distance', save=False)"
   ]
  },
  {
   "cell_type": "markdown",
   "metadata": {},
   "source": [
    "## 6. Cosine Distance\n",
    "---\n",
    "\n",
    "$$ \\large \\displaystyle\n",
    "    d(x,y) \\mapsto 1 - \\frac{x \\cdotp y}{\\|x\\|_2\\|y\\|_2} = 1 - \\frac{\\sum_{i}^{n}x_i y_i}{\\sqrt{\\sum_{i}^{n}x_i^2}\\sqrt{\\sum_{i}^{n}y_i^2}}\n",
    "$$"
   ]
  },
  {
   "cell_type": "code",
   "execution_count": null,
   "metadata": {},
   "outputs": [],
   "source": [
    "def coss(x, y):\n",
    "    if x.ndim == 1:\n",
    "        x = x[np.newaxis]\n",
    "    num = np.sum(x*y, axis=1)\n",
    "    den = np.sum(x**2, axis = 1)**0.5\n",
    "    den = den*np.sum(y**2, axis = 1)**0.5\n",
    "    return 1 - num/den"
   ]
  },
  {
   "cell_type": "code",
   "execution_count": null,
   "metadata": {},
   "outputs": [],
   "source": [
    "x = np.array([1e-7, 1e-7])\n",
    "dA = coss(x, yA)\n",
    "dB = coss(x, yB).reshape(s.shape)"
   ]
  },
  {
   "cell_type": "code",
   "execution_count": null,
   "metadata": {},
   "outputs": [],
   "source": [
    "%%time\n",
    "plotDist(x, dA, dB, 'cosine_distance', save=False)"
   ]
  },
  {
   "cell_type": "markdown",
   "metadata": {},
   "source": [
    "## 7. Hamming Distance\n",
    "---\n",
    "\n",
    "$$ \\large \\displaystyle\n",
    "    d(x,y) = \\sum_{i}^{n}w_i[x_i \\neq y_i]\n",
    "$$"
   ]
  },
  {
   "cell_type": "code",
   "execution_count": null,
   "metadata": {},
   "outputs": [],
   "source": [
    "def hamm(x, y):\n",
    "    lmax = max(len(x), len(y))\n",
    "    x, y = x.ljust(lmax), y.rjust(lmax)\n",
    "    return sum([a != b for a, b in zip(x, y)])"
   ]
  },
  {
   "cell_type": "code",
   "execution_count": null,
   "metadata": {},
   "outputs": [],
   "source": [
    "prec = 16\n",
    "x = np.array([0, 0])\n",
    "X = ieee754_realBin(x[0], n=prec) + ieee754_realBin(x[1], n=prec)\n",
    "YA = np.vectorize(ieee754_realBin)(yA, n=prec)\n",
    "YA = np.vectorize(lambda a, b: a + b)(YA[:,0], YA[:,1])\n",
    "dA = np.vectorize(hamm)(X, YA)\n",
    "\n",
    "YB = np.vectorize(ieee754_realBin)(yB, n=prec)\n",
    "YB = np.vectorize(lambda a, b: a + b)(YB[:,0], YB[:,1])\n",
    "dB = np.vectorize(hamm)(X, YB)\n",
    "dB = dB.reshape(256, 256)"
   ]
  },
  {
   "cell_type": "code",
   "execution_count": null,
   "metadata": {},
   "outputs": [],
   "source": [
    "%%time\n",
    "plotDist(x, dA, dB, 'hamming_distance_A', save=False)"
   ]
  },
  {
   "cell_type": "code",
   "execution_count": null,
   "metadata": {},
   "outputs": [],
   "source": [
    "x = 'Lampião'\n",
    "yT = clni.split()\n",
    "dT = {pal:hamm(x, pal) for pal in yT}"
   ]
  },
  {
   "cell_type": "code",
   "execution_count": null,
   "metadata": {},
   "outputs": [],
   "source": [
    "%%time\n",
    "plotText(x, clni, dT, 'hamming_distance_B', save=False)"
   ]
  }
 ],
 "metadata": {
  "kernelspec": {
   "display_name": "Python 3",
   "language": "python",
   "name": "python3"
  },
  "language_info": {
   "codemirror_mode": {
    "name": "ipython",
    "version": 3
   },
   "file_extension": ".py",
   "mimetype": "text/x-python",
   "name": "python",
   "nbconvert_exporter": "python",
   "pygments_lexer": "ipython3",
   "version": "3.7.7"
  }
 },
 "nbformat": 4,
 "nbformat_minor": 2
}
