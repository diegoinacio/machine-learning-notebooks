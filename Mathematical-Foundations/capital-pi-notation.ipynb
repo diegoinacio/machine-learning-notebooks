{
 "cells": [
  {
   "cell_type": "markdown",
   "id": "cathedral-while",
   "metadata": {},
   "source": [
    "# Capital-pi notation\n",
    "---\n",
    "- Author: Diego Inácio\n",
    "- GitHub: [github.com/diegoinacio](https://github.com/diegoinacio)\n",
    "- Notebook: [capital-pi-notation.ipynb](https://github.com/diegoinacio/machine-learning-notebooks/blob/master/Mathematical-Foundations/capital-pi-notation.ipynb)\n",
    "---\n",
    "Brief notes and practical examples with the *product* operator."
   ]
  },
  {
   "cell_type": "code",
   "execution_count": null,
   "id": "selective-syria",
   "metadata": {},
   "outputs": [],
   "source": [
    "import numpy as np"
   ]
  },
  {
   "cell_type": "markdown",
   "id": "natural-inflation",
   "metadata": {},
   "source": [
    "## Product notation\n",
    "---\n",
    "From the Greek alphabet, the capital Pi letter, represented by the symbol $\\large \\Pi$, is mathematical notation for *product*. This operator has as function the product or multiplication of multiples elements of a sequence. It is commonly associated to another mathematical symbol (greek capital Sigma, $\\large \\Sigma$), but its functionality is easily memorized by the sound of the word \"product\": **Ppp**roduct = **Ppp**i.\n",
    "\n",
    "$$ \\large\n",
    "\\prod_{i=m}^n x_i = x_m \\cdot x_{m+1} \\cdot x_{m+2} \\cdot \\cdots \\cdot x_{n-2} \\cdot x_{n-1} \\cdot x_{n}\n",
    "$$\n",
    "\n",
    "where:\n",
    "- $i$ is the index of product;\n",
    "- $m$ is the *lower bound of product*;\n",
    "- $n$ is the *upper bound of product*;\n",
    "- $x_i$ is the indexed variable.\n",
    "\n",
    "For example, given the explicit sequence [1, 3, 7, 9, 13], the summation of all 5 elements is denoted as:\n",
    "\n",
    "$$ \\large\n",
    "\\begin{aligned}\n",
    "\\prod_{i=1}^5 x_i &= x_1 + x_2 + x_3 + x_4 + x_5 \\\\\n",
    "&= 1 \\cdot 3 \\cdot 7 \\cdot 9 \\cdot 13 \\\\\n",
    "&= 2457\n",
    "\\end{aligned}\n",
    "$$"
   ]
  },
  {
   "cell_type": "code",
   "execution_count": null,
   "id": "scheduled-proposition",
   "metadata": {},
   "outputs": [],
   "source": [
    "seq = [1, 3, 7, 9, 13]\n",
    "\n",
    "result = 1\n",
    "for x in seq:\n",
    "    result *= x\n",
    "\n",
    "print(result)"
   ]
  },
  {
   "cell_type": "markdown",
   "id": "introductory-freeze",
   "metadata": {},
   "source": [
    "Notice that in many algorithms the lower and the upper bounds are represented by the interval $[0,N-1]$, which denote the index bound of a digital array. Although, the main idea is still the same.\n",
    "\n",
    "$$ \\large\n",
    "\\prod_{k=0}^{N-1} = \\prod_{k}^N\n",
    "$$"
   ]
  },
  {
   "cell_type": "code",
   "execution_count": null,
   "id": "bibliographic-particle",
   "metadata": {},
   "outputs": [],
   "source": [
    "x = [1, 3, 7, 9, 13]\n",
    "\n",
    "result = x[0] * x[1] * x[2] * x[3] * x[4]\n",
    "\n",
    "print(result)"
   ]
  },
  {
   "cell_type": "markdown",
   "id": "racial-liechtenstein",
   "metadata": {},
   "source": [
    "The library [Numpy](https://numpy.org/) has a very convenient method that makes the summing process easier and much more readable."
   ]
  },
  {
   "cell_type": "code",
   "execution_count": null,
   "id": "forced-ticket",
   "metadata": {},
   "outputs": [],
   "source": [
    "x = np.array([1, 3, 7, 9, 13])\n",
    "\n",
    "result = x.prod()  # or np.prod(x)\n",
    "\n",
    "print(result)"
   ]
  },
  {
   "cell_type": "markdown",
   "id": "latter-hierarchy",
   "metadata": {},
   "source": [
    "### Multidimensional\n",
    "---\n",
    "This operator can be nested:\n",
    "\n",
    "$$ \\large\n",
    "\\begin{aligned}\n",
    "\\prod_{i=2}^4 \\prod_{j=5}^6 (i + j) &= [(2 + 5) \\cdot (2 + 6)] \\cdot [(3 + 5) \\cdot (3 + 6)] \\cdot [(4 + 5) \\cdot (4 + 6)] \\\\\n",
    "&= (7 \\cdot 8) \\cdot (8 \\cdot 9) \\cdot (9 \\cdot 10) \\\\\n",
    "&= 56 \\cdot 72 \\cdot 90 \\\\\n",
    "&= 362880\n",
    "\\end{aligned}\n",
    "$$"
   ]
  },
  {
   "cell_type": "code",
   "execution_count": null,
   "id": "smaller-salon",
   "metadata": {},
   "outputs": [],
   "source": [
    "result = 1\n",
    "for i in range(2, 4+1):\n",
    "    for j in range(5, 6+1):\n",
    "        result *= i + j\n",
    "\n",
    "print(result)"
   ]
  },
  {
   "cell_type": "markdown",
   "id": "refined-addiction",
   "metadata": {},
   "source": [
    "Nested product are very commonly used to notate multidimensional isotropic or anisotropic objects. For example, given the matrix:\n",
    "\n",
    "$$ \\large\n",
    "M = \n",
    "\\begin{bmatrix}\n",
    "1 & 2 \\\\\n",
    "2 & 3 \\\\\n",
    "3 & 4\n",
    "\\end{bmatrix}\n",
    "$$\n",
    "\n",
    "The product of all elements can be expressed as:\n",
    "\n",
    "$$ \\large\n",
    "\\begin{aligned}\n",
    "\\prod_i^M \\prod_j^N M_{ij} &= 1 \\cdot 2 \\cdot 2 \\cdot 3 \\cdot 3 \\cdot 4 \\\\\n",
    "&= 144\n",
    "\\end{aligned}\n",
    "$$"
   ]
  },
  {
   "cell_type": "code",
   "execution_count": null,
   "id": "after-career",
   "metadata": {},
   "outputs": [],
   "source": [
    "matrix = np.array([\n",
    "    [1, 2], \n",
    "    [2, 3], \n",
    "    [3, 4]\n",
    "])\n",
    "\n",
    "M = len(matrix)\n",
    "N = len(matrix[0])\n",
    "\n",
    "result = 1\n",
    "for i in range(M):\n",
    "    for j in range(N):\n",
    "        result *= matrix[i][j]\n",
    "\n",
    "print(result, np.prod(matrix))"
   ]
  },
  {
   "cell_type": "markdown",
   "id": "mexican-acquisition",
   "metadata": {},
   "source": [
    "## Properties\n",
    "---\n",
    "Follow some basic properties and identities."
   ]
  },
  {
   "cell_type": "markdown",
   "id": "clear-embassy",
   "metadata": {},
   "source": [
    "- If all elements are identical, the product is the same as *exponentiation*:\n",
    "\n",
    "$$ \\large\n",
    "\\prod_i^N x_i = \\prod_i^N x = x \\cdot x \\cdot ... \\cdot x = x^N\n",
    "$$"
   ]
  },
  {
   "cell_type": "code",
   "execution_count": null,
   "id": "chief-illustration",
   "metadata": {},
   "outputs": [],
   "source": [
    "x = 10\n",
    "N = 4\n",
    "\n",
    "print(np.prod([x for _ in range(N)]))\n",
    "print(x**N)\n",
    "print(np.prod([x]*N))"
   ]
  },
  {
   "cell_type": "markdown",
   "id": "heard-bathroom",
   "metadata": {},
   "source": [
    "- The [commutativity](https://en.wikipedia.org/wiki/Commutative_property) and [associative](https://en.wikipedia.org/wiki/Associative_property) properties are denoted as:\n",
    "\n",
    "$$ \\large\n",
    "\\prod_i^N x_i \\cdot y_i = \\left(\\prod_i^N x_i\\right) \\cdot \\left(\\prod_i^N y_i\\right)\n",
    "$$"
   ]
  },
  {
   "cell_type": "code",
   "execution_count": null,
   "id": "affected-slovakia",
   "metadata": {},
   "outputs": [],
   "source": [
    "x = np.array([1, 20, 3, 40])\n",
    "y = np.array([10, 2, 30, 4])\n",
    "\n",
    "print(np.prod(x) * np.prod(y))\n",
    "print(np.prod(x * y))"
   ]
  },
  {
   "cell_type": "markdown",
   "id": "prerequisite-wyoming",
   "metadata": {},
   "source": [
    "## Examples\n",
    "---\n",
    "Follow some example of product operator applications."
   ]
  },
  {
   "cell_type": "markdown",
   "id": "minute-estate",
   "metadata": {},
   "source": [
    "- **Factorials**: One of the most common application of the product operator is in *factorials*, where:\n",
    "\n",
    "$$ \\large\n",
    "n! = \\prod_{k=0}^{n-1}=n \\cdot (n-1) \\cdot (n-2) \\cdot \\dots \\cdot 2 \\cdot 1\n",
    "$$"
   ]
  },
  {
   "cell_type": "code",
   "execution_count": null,
   "id": "guilty-brief",
   "metadata": {},
   "outputs": [],
   "source": [
    "n = 5\n",
    "N = np.arange(n) + 1\n",
    "\n",
    "print(np.prod(N))"
   ]
  },
  {
   "cell_type": "markdown",
   "id": "sorted-information",
   "metadata": {},
   "source": [
    "**Infinity product**: An infinite product is when the upper bound is infinity and its product result converges to a known theoretical number. For example, the [John Wallis product](https://en.wikipedia.org/wiki/Wallis_product):\n",
    "\n",
    "$$ \\large\n",
    "\\lim_{k \\rightarrow \\infty} \\prod_{n=1}^k \\frac{4n^2}{4n^2 - 1} = \\frac{\\pi}{2}\n",
    "$$"
   ]
  },
  {
   "cell_type": "code",
   "execution_count": null,
   "id": "hired-singer",
   "metadata": {},
   "outputs": [],
   "source": [
    "N = np.arange(1e6) + 1.\n",
    "\n",
    "result = np.prod(4*N**2/(4*N**2 - 1))\n",
    "\n",
    "print(result, np.pi/2)"
   ]
  }
 ],
 "metadata": {
  "kernelspec": {
   "display_name": "Python [conda env:root] *",
   "language": "python",
   "name": "conda-root-py"
  },
  "language_info": {
   "codemirror_mode": {
    "name": "ipython",
    "version": 3
   },
   "file_extension": ".py",
   "mimetype": "text/x-python",
   "name": "python",
   "nbconvert_exporter": "python",
   "pygments_lexer": "ipython3",
   "version": "3.7.10"
  }
 },
 "nbformat": 4,
 "nbformat_minor": 5
}
