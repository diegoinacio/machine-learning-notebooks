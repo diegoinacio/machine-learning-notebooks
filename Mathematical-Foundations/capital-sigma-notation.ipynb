{
 "cells": [
  {
   "cell_type": "markdown",
   "id": "binary-cream",
   "metadata": {},
   "source": [
    "# Capital-sigma notation\n",
    "---\n",
    "- Author: Diego Inácio\n",
    "- GitHub: [github.com/diegoinacio](https://github.com/diegoinacio)\n",
    "- Notebook: [capital-sigma-notation.ipynb](https://github.com/diegoinacio/machine-learning-notebooks/blob/master/Mathematical-Foundations/capital-sigma-notation.ipynb)\n",
    "---\n",
    "Brief notes and practical examples with the *summation* operator."
   ]
  },
  {
   "cell_type": "code",
   "execution_count": null,
   "id": "partial-hundred",
   "metadata": {},
   "outputs": [],
   "source": [
    "import numpy as np"
   ]
  },
  {
   "cell_type": "markdown",
   "id": "fifteen-owner",
   "metadata": {},
   "source": [
    "## Summation notation\n",
    "---\n",
    "From the Greek alphabet, the capital Sigma letter, represented by the symbol $\\large \\Sigma$, is mathematical notation for *summation*. This operator has as function the sum or addition of multiples elements of a sequence. It is commonly associated to another mathematical symbol (greek capital Pi, $\\large \\Pi$), but its functionality is easily memorized by the sound of the word \"sum\": **Sss**um = **Sss**igma.\n",
    "\n",
    "$$ \\large\n",
    "\\sum_{i=m}^n x_i = x_m + x_{m+1} + x_{m+2} + \\cdots + x_{n-2} + x_{n-1} + x_{n}\n",
    "$$\n",
    "\n",
    "where:\n",
    "- $i$ is the index of summation;\n",
    "- $m$ is the *lower bound of summation*;\n",
    "- $n$ is the *upper bound of summation*;\n",
    "- $x_i$ is the indexed variable.\n",
    "\n",
    "For example, given the explicit sequence [1, 3, 7, 9, 13], the summation of all 5 elements is denoted as:\n",
    "\n",
    "$$ \\large\n",
    "\\begin{aligned}\n",
    "\\sum_{i=1}^5 x_i &= x_1 + x_2 + x_3 + x_4 + x_5 \\\\\n",
    "&= 1 + 3 + 7 + 9 + 13 \\\\\n",
    "&= 33\n",
    "\\end{aligned}\n",
    "$$"
   ]
  },
  {
   "cell_type": "code",
   "execution_count": null,
   "id": "administrative-overhead",
   "metadata": {},
   "outputs": [],
   "source": [
    "seq = [1, 3, 7, 9, 13]\n",
    "\n",
    "result = 0\n",
    "for x in seq:\n",
    "    result += x\n",
    "\n",
    "print(result)"
   ]
  },
  {
   "cell_type": "markdown",
   "id": "latter-jumping",
   "metadata": {},
   "source": [
    "Notice that in many algorithms the lower and the upper bounds are represented by the interval $[0,N-1]$, which denote the index bound of a digital array. Although, the main idea is still the same.\n",
    "\n",
    "$$ \\large\n",
    "\\sum_{k=0}^{N-1} = \\sum_{k}^N\n",
    "$$"
   ]
  },
  {
   "cell_type": "code",
   "execution_count": null,
   "id": "satisfied-sheet",
   "metadata": {},
   "outputs": [],
   "source": [
    "x = [1, 3, 7, 9, 13]\n",
    "\n",
    "result = x[0] + x[1] + x[2] + x[3] + x[4]\n",
    "\n",
    "print(result)"
   ]
  },
  {
   "cell_type": "markdown",
   "id": "peaceful-experience",
   "metadata": {},
   "source": [
    "The library [Numpy](https://numpy.org/) has a very convenient method that makes the summing process easier and much more readable."
   ]
  },
  {
   "cell_type": "code",
   "execution_count": null,
   "id": "unique-allen",
   "metadata": {},
   "outputs": [],
   "source": [
    "x = np.array([1, 3, 7, 9, 13])\n",
    "\n",
    "result = x.sum()  # or np.sum(x)\n",
    "\n",
    "print(result)"
   ]
  },
  {
   "cell_type": "markdown",
   "id": "pressed-samba",
   "metadata": {},
   "source": [
    "### Multidimensional\n",
    "---\n",
    "This operator can be nested:\n",
    "\n",
    "$$ \\large\n",
    "\\begin{aligned}\n",
    "\\sum_{i=2}^4 \\sum_{j=5}^6 (i \\cdot j) &= (2 \\cdot 5 + 2 \\cdot 6) + (3 \\cdot 5 + 3 \\cdot 6) + (4 \\cdot 5 + 4 \\cdot 6) \\\\\n",
    "&= (10 + 12) + (15 + 18) + (20 + 24) \\\\\n",
    "&= 22 + 33 + 44 \\\\\n",
    "&= 99\n",
    "\\end{aligned}\n",
    "$$"
   ]
  },
  {
   "cell_type": "code",
   "execution_count": null,
   "id": "intensive-fiber",
   "metadata": {},
   "outputs": [],
   "source": [
    "result = 0\n",
    "for i in range(2, 4+1):\n",
    "    for j in range(5, 6+1):\n",
    "        result += i*j\n",
    "\n",
    "print(result)"
   ]
  },
  {
   "cell_type": "markdown",
   "id": "liberal-headset",
   "metadata": {},
   "source": [
    "Nested summations are very commonly used to notate multidimensional isotropic or anisotropic objects. For example, given the matrix:\n",
    "\n",
    "$$ \\large\n",
    "M = \n",
    "\\begin{bmatrix}\n",
    "1 & 2 \\\\\n",
    "2 & 3 \\\\\n",
    "3 & 4\n",
    "\\end{bmatrix}\n",
    "$$\n",
    "\n",
    "The sum of all elements can be expressed as:\n",
    "\n",
    "$$ \\large\n",
    "\\begin{aligned}\n",
    "\\sum_i^M \\sum_j^N M_{ij} &= 1 + 2 + 2 + 3 + 3 + 4 \\\\\n",
    "&= 15\n",
    "\\end{aligned}\n",
    "$$"
   ]
  },
  {
   "cell_type": "code",
   "execution_count": null,
   "id": "palestinian-cleanup",
   "metadata": {},
   "outputs": [],
   "source": [
    "matrix = np.array([\n",
    "    [1, 2], \n",
    "    [2, 3], \n",
    "    [3, 4]\n",
    "])\n",
    "\n",
    "M = len(matrix)\n",
    "N = len(matrix[0])\n",
    "\n",
    "result = 0\n",
    "for i in range(M):\n",
    "    for j in range(N):\n",
    "        result += matrix[i][j]\n",
    "\n",
    "print(result, np.sum(matrix))"
   ]
  },
  {
   "cell_type": "markdown",
   "id": "lesbian-advocate",
   "metadata": {},
   "source": [
    "## Properties\n",
    "---\n",
    "Follow some basic properties and identities."
   ]
  },
  {
   "cell_type": "markdown",
   "id": "monthly-understanding",
   "metadata": {},
   "source": [
    "- The summation of a constant $\\large c$ is the same of its multiplication by the factor $N$:\n",
    "\n",
    "$$ \\large\n",
    "\\sum_i^N c = N \\cdot c\n",
    "$$"
   ]
  },
  {
   "cell_type": "code",
   "execution_count": null,
   "id": "dominant-stack",
   "metadata": {},
   "outputs": [],
   "source": [
    "N = 10\n",
    "c = 2\n",
    "\n",
    "print(np.sum([c for _ in range(N)]))\n",
    "print(N*c)\n",
    "print(np.sum([c]*N))"
   ]
  },
  {
   "cell_type": "markdown",
   "id": "subject-connectivity",
   "metadata": {},
   "source": [
    "- The [commutativity](https://en.wikipedia.org/wiki/Commutative_property) and [associative](https://en.wikipedia.org/wiki/Associative_property) properties are denoted as:\n",
    "\n",
    "$$ \\large\n",
    "\\sum_i^N x_i \\pm \\sum_i^N y_i = \\sum_i^N (x_i \\pm y_i)\n",
    "$$"
   ]
  },
  {
   "cell_type": "code",
   "execution_count": null,
   "id": "brazilian-bearing",
   "metadata": {},
   "outputs": [],
   "source": [
    "x = np.array([1, 20, 3, 40])\n",
    "y = np.array([10, 2, 30, 4])\n",
    "\n",
    "print(np.sum(x) - np.sum(y))\n",
    "print(np.sum(x - y))"
   ]
  },
  {
   "cell_type": "markdown",
   "id": "cleared-techno",
   "metadata": {},
   "source": [
    "## Examples\n",
    "---\n",
    "Follow some example of summation operator applications."
   ]
  },
  {
   "cell_type": "markdown",
   "id": "lasting-cleveland",
   "metadata": {},
   "source": [
    "- **Infinity serie**: An infinite serie is when the upper bound is infinity and its summation result converges to a known theoretical number. For example, the [Basel problem](https://en.wikipedia.org/wiki/Basel_problem):\n",
    "\n",
    "$$ \\large\n",
    "\\sum_{k=1}^\\infty \\frac{1}{k^2} = \\lim_{n \\rightarrow \\infty} \\sum_{k=1}^n \\frac{1}{k^2} = \\frac{\\pi^2}{6}\n",
    "$$"
   ]
  },
  {
   "cell_type": "code",
   "execution_count": null,
   "id": "filled-heath",
   "metadata": {},
   "outputs": [],
   "source": [
    "K = np.arange(1e6) + 1\n",
    "\n",
    "result = np.sum(1/K**2)\n",
    "\n",
    "print(result, np.pi**2/6)"
   ]
  },
  {
   "cell_type": "markdown",
   "id": "convenient-prescription",
   "metadata": {},
   "source": [
    "- **Alternating serie**: The signs of the general terms alternate between positive and negative and its infinite serie always converges.\n",
    "\n",
    "$$ \\large\n",
    "\\sum_{k=1}^n=\\frac{(-1)^{k+1}}{k^2}\n",
    "$$"
   ]
  },
  {
   "cell_type": "code",
   "execution_count": null,
   "id": "divine-lunch",
   "metadata": {},
   "outputs": [],
   "source": [
    "K = np.arange(100) + 1\n",
    "\n",
    "result = np.sum((-1)**(K+1)/K**2)\n",
    "\n",
    "print(result)"
   ]
  }
 ],
 "metadata": {
  "kernelspec": {
   "display_name": "Python [conda env:root] *",
   "language": "python",
   "name": "conda-root-py"
  },
  "language_info": {
   "codemirror_mode": {
    "name": "ipython",
    "version": 3
   },
   "file_extension": ".py",
   "mimetype": "text/x-python",
   "name": "python",
   "nbconvert_exporter": "python",
   "pygments_lexer": "ipython3",
   "version": "3.7.10"
  }
 },
 "nbformat": 4,
 "nbformat_minor": 5
}
