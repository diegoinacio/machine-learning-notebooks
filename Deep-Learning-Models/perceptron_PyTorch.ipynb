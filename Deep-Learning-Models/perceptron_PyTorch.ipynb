{
 "cells": [
  {
   "cell_type": "markdown",
   "metadata": {},
   "source": [
    "# Perceptron [PyTorch]\n",
    "---\n",
    "- Author: Diego Inácio\n",
    "- GitHub: [github.com/diegoinacio](https://github.com/diegoinacio)\n",
    "- Notebook: [perceptron_PyTorch.ipynb](https://github.com/diegoinacio/machine-learning-notebooks/blob/master/Deep-Learning-Models/perceptron_PyTorch.ipynb)\n",
    "---\n",
    "Implementation of *Perceptron* model using using PyTorch library."
   ]
  },
  {
   "cell_type": "code",
   "execution_count": null,
   "metadata": {},
   "outputs": [],
   "source": [
    "%matplotlib inline\n",
    "import matplotlib\n",
    "import matplotlib.pyplot as plt\n",
    "import numpy as np\n",
    "\n",
    "import torch\n",
    "from torchvision import datasets, transforms"
   ]
  },
  {
   "cell_type": "code",
   "execution_count": null,
   "metadata": {},
   "outputs": [],
   "source": [
    "plt.rcParams['figure.figsize'] = (16, 8)"
   ]
  },
  {
   "cell_type": "code",
   "execution_count": null,
   "metadata": {},
   "outputs": [],
   "source": [
    "train_set = datasets.MNIST(root='./mnist', train=True, transform=None, download=True)\n",
    "test_set = datasets.MNIST(root='./mnist', train=False, transform=None, download=True)\n",
    "X_train, Y_train = train_set.train_data.numpy(), train_set.train_labels.numpy()\n",
    "X_test, Y_test = test_set.test_data.numpy(), test_set.test_labels.numpy()\n",
    "\n",
    "# data cleaning\n",
    "# using only zeros and ones\n",
    "X_train = X_train[Y_train <= 1]\n",
    "Y_train = Y_train[Y_train <= 1]\n",
    "X_test = X_test[Y_test <= 1]\n",
    "Y_test = Y_test[Y_test <= 1]\n",
    "\n",
    "print('X_train:', X_train.shape)\n",
    "print('Y_train:', Y_train.shape)\n",
    "print('X_test:', X_test.shape)\n",
    "print('Y_test:', Y_test.shape)"
   ]
  },
  {
   "cell_type": "code",
   "execution_count": null,
   "metadata": {},
   "outputs": [],
   "source": [
    "fig, AX = plt.subplots(3, 6, sharex=True, sharey=True)\n",
    "\n",
    "np.random.seed(1234)\n",
    "for ax in AX.ravel():\n",
    "    rindex = np.random.randint(Y_train.size)\n",
    "    ax.imshow(X_train[rindex])\n",
    "    ax.set_title('label: {}'.format(Y_train[rindex]))\n",
    "plt.grid(False)"
   ]
  },
  {
   "cell_type": "code",
   "execution_count": null,
   "metadata": {},
   "outputs": [],
   "source": [
    "# data preparation\n",
    "# scales, dimensions and dtypes\n",
    "x_train, y_train = X_train/255, Y_train[np.newaxis].T\n",
    "x_test, y_test = X_test/255, Y_test[np.newaxis].T\n",
    "\n",
    "x_train = x_train.astype(np.float32).reshape(-1, 28*28)\n",
    "y_train = y_train.astype(np.float32)\n",
    "x_test = x_test.astype(np.float32).reshape(-1, 28*28)\n",
    "y_test = y_test.astype(np.float32)\n",
    "\n",
    "print('x_train:', x_train.shape)\n",
    "print('y_train:', y_train.shape)\n",
    "print('x_test:', x_test.shape)\n",
    "print('y_test:', y_test.shape)"
   ]
  },
  {
   "cell_type": "markdown",
   "metadata": {},
   "source": [
    "## Perceptron\n",
    "---\n",
    "![perceptron](sourceimages/perceptron.png \"Perceptron\")"
   ]
  },
  {
   "cell_type": "code",
   "execution_count": null,
   "metadata": {},
   "outputs": [],
   "source": [
    "EPOCHS = 500  # epochs\n",
    "ALPHA = 0.001 # learning rate\n",
    "BATCH = 100   # batch size\n",
    "\n",
    "# m is the number of examples\n",
    "# n_x is the input size 28x28=784\n",
    "m, n_x = x_train.shape\n",
    "\n",
    "# model\n",
    "Z = torch.nn.Linear(n_x, 1, bias=True)\n",
    "torch.nn.init.zeros_(Z.weight)\n",
    "\n",
    "# training graph and optimization\n",
    "loss = torch.nn.MSELoss()\n",
    "optimizer = torch.optim.SGD(Z.parameters(), lr=ALPHA)\n",
    "\n",
    "# loss and accuracy storage\n",
    "loss_plot = []; accA_plot = []\n",
    "\n",
    "for epoch in range(EPOCHS + 1):\n",
    "    # randomic batch definition\n",
    "    rbatch = np.random.choice(Y_train.size, size=BATCH)\n",
    "    # variables initialization\n",
    "    X = torch.autograd.Variable(torch.FloatTensor(x_train[rbatch]))\n",
    "    Y = torch.autograd.Variable(torch.FloatTensor(y_train[rbatch]))\n",
    "    # training, metrics and storage\n",
    "    optimizer.zero_grad()\n",
    "    L = loss(torch.sigmoid(Z(X)), Y)\n",
    "    L.backward()\n",
    "    optimizer.step()\n",
    "    \n",
    "    X_ = torch.autograd.Variable(torch.FloatTensor(x_test))\n",
    "    Y_ = torch.autograd.Variable(torch.FloatTensor(y_test))\n",
    "    prediction = torch.round(torch.sigmoid(Z(X_)))\n",
    "    compare = torch.eq(prediction, Y_)\n",
    "    cast = compare.float()\n",
    "    acc = torch.mean(cast)*100\n",
    "    \n",
    "    loss_plot += [L.detach().numpy()]; accA_plot += [acc]\n",
    "    if (not epoch % 100) and (epoch != 0):\n",
    "        print('epoch: {0:04d} | loss: {1:.3f} | accuracy: {2:06.2f} %'.format(epoch, L, acc))\n",
    "w_ = Z.weight.detach().numpy()\n",
    "b_ = Z.bias.detach().numpy()"
   ]
  },
  {
   "cell_type": "code",
   "execution_count": null,
   "metadata": {},
   "outputs": [],
   "source": [
    "axA = plt.subplot(121)\n",
    "axA.imshow(w_.T.reshape(28, 28))\n",
    "cb = axA.set_title('W')\n",
    "\n",
    "axB = plt.subplot(222)\n",
    "axB.plot(loss_plot)\n",
    "axB.set_ylabel('loss')\n",
    "\n",
    "axC = plt.subplot(224)\n",
    "axC.plot(accA_plot)\n",
    "axC.set_ylabel('accuracy')\n",
    "\n",
    "plt.xlabel('epochs')\n",
    "\n",
    "plt.show()"
   ]
  },
  {
   "cell_type": "code",
   "execution_count": null,
   "metadata": {},
   "outputs": [],
   "source": [
    "fig, AX = plt.subplots(3, 6, figsize=(2048//72, 1024//72))\n",
    "AX = [b for a in AX for b in a]\n",
    "\n",
    "np.random.seed(1)\n",
    "for ax in AX:\n",
    "    index = np.random.randint(y_test.size)\n",
    "    z_ = np.dot(w_, x_test[index]) + b_\n",
    "    a_ = 1/(1 + np.exp(-z_))\n",
    "    y_ = 1 if a_ > 0.5 else 0\n",
    "    if y_ == y_test[index]:\n",
    "        ax.imshow(x_test[index].reshape(28, 28))\n",
    "    else:\n",
    "        ax.imshow(1 - x_test[index].reshape(28, 28))\n",
    "    ax.set_title(r'$\\hat{y_i}$ = ' + str(y_) + r' ; $a_i$ = {:.03f}'.format(float(a_)), fontsize=20)"
   ]
  }
 ],
 "metadata": {
  "kernelspec": {
   "display_name": "Python 3",
   "language": "python",
   "name": "python3"
  },
  "language_info": {
   "codemirror_mode": {
    "name": "ipython",
    "version": 3
   },
   "file_extension": ".py",
   "mimetype": "text/x-python",
   "name": "python",
   "nbconvert_exporter": "python",
   "pygments_lexer": "ipython3",
   "version": "3.7.7"
  }
 },
 "nbformat": 4,
 "nbformat_minor": 2
}
