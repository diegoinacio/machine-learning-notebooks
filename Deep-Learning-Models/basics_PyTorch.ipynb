{
 "cells": [
  {
   "cell_type": "markdown",
   "metadata": {},
   "source": [
    "# Basics [PyTorch]\n",
    "---\n",
    "- Author: Diego Inácio\n",
    "- GitHub: [github.com/diegoinacio](https://github.com/diegoinacio)\n",
    "- Notebook: [MCLR_PyTorch.ipynb](https://github.com/diegoinacio/machine-learning-notebooks/blob/master/Deep-Learning-Models/MCLR_PyTorch.ipynb)\n",
    "---\n",
    "Basic functions and operations using PyTorch library."
   ]
  },
  {
   "cell_type": "code",
   "execution_count": null,
   "metadata": {},
   "outputs": [],
   "source": [
    "import numpy as np"
   ]
  },
  {
   "cell_type": "markdown",
   "metadata": {},
   "source": [
    "## Instalation\n",
    "---\n",
    "``` python\n",
    ">>> conda install -c pytorch pytorch\n",
    "```\n",
    "or\n",
    "``` python\n",
    ">>> pip install pytorch\n",
    "```"
   ]
  },
  {
   "cell_type": "code",
   "execution_count": null,
   "metadata": {},
   "outputs": [],
   "source": [
    "import torch"
   ]
  },
  {
   "cell_type": "code",
   "execution_count": null,
   "metadata": {},
   "outputs": [],
   "source": [
    "# un-initialized tensor\n",
    "a = torch.Tensor(3, 4)\n",
    "# initialized tensor\n",
    "b = torch.Tensor(np.arange(12).reshape(3, 4))\n",
    "\n",
    "print(a, a.shape, a.dtype)\n",
    "print(b, b.shape, b.dtype)"
   ]
  },
  {
   "cell_type": "markdown",
   "metadata": {},
   "source": [
    "## Sessions Objects and Output\n",
    "---"
   ]
  },
  {
   "cell_type": "code",
   "execution_count": null,
   "metadata": {},
   "outputs": [],
   "source": [
    "a = torch.Tensor(np.arange(4))\n",
    "b = torch.Tensor(np.arange(4)*10)\n",
    "c = torch.add(a, b)\n",
    "print(c)"
   ]
  },
  {
   "cell_type": "code",
   "execution_count": null,
   "metadata": {},
   "outputs": [],
   "source": [
    "out = c.numpy()\n",
    "\n",
    "print(out)"
   ]
  },
  {
   "cell_type": "code",
   "execution_count": null,
   "metadata": {},
   "outputs": [],
   "source": [
    "out = torch.Tensor(a.shape)\n",
    "torch.add(a, b, out=out)\n",
    "out = out.numpy()\n",
    "\n",
    "print(out)"
   ]
  },
  {
   "cell_type": "markdown",
   "metadata": {},
   "source": [
    "## Basic Operations\n",
    "---"
   ]
  },
  {
   "cell_type": "code",
   "execution_count": null,
   "metadata": {},
   "outputs": [],
   "source": [
    "s = 3                            # scalar\n",
    "v = torch.Tensor(np.arange(5))                # vactor n=5\n",
    "m = torch.Tensor(np.arange(20).reshape(4, 5)) # matrix 4 x 5"
   ]
  },
  {
   "cell_type": "code",
   "execution_count": null,
   "metadata": {},
   "outputs": [],
   "source": [
    "# print S\n",
    "print('    S:', s)\n",
    "\n",
    "# V x S product\n",
    "vs = v*s\n",
    "print('V x S:', vs.numpy())\n",
    "\n",
    "# M x S product\n",
    "ms = m*s\n",
    "print('M x S:\\n', ms.numpy())"
   ]
  },
  {
   "cell_type": "code",
   "execution_count": null,
   "metadata": {},
   "outputs": [],
   "source": [
    "# print V\n",
    "print('    V:', v.numpy())\n",
    "\n",
    "# V x V > dot product\n",
    "vv = torch.dot(v, v)\n",
    "print('V x V:', vv.numpy())\n",
    "\n",
    "# M x V product\n",
    "mv = torch.mv(m, v)\n",
    "print('M x V:', mv.numpy())"
   ]
  },
  {
   "cell_type": "code",
   "execution_count": null,
   "metadata": {},
   "outputs": [],
   "source": [
    "# print M\n",
    "print('     M:\\n', m.numpy())\n",
    "\n",
    "# M x M product\n",
    "m1 = torch.Tensor(np.arange(15).reshape(5, 3)) # the M1's dimensions are 5 x 3\n",
    "mm = torch.mm(m, m1)                           # the result dimensions must be 4 x 3\n",
    "\n",
    "print('\\nM x M1:\\n', mm.numpy())"
   ]
  }
 ],
 "metadata": {
  "kernelspec": {
   "display_name": "Python 3",
   "language": "python",
   "name": "python3"
  },
  "language_info": {
   "codemirror_mode": {
    "name": "ipython",
    "version": 3
   },
   "file_extension": ".py",
   "mimetype": "text/x-python",
   "name": "python",
   "nbconvert_exporter": "python",
   "pygments_lexer": "ipython3",
   "version": "3.7.7"
  }
 },
 "nbformat": 4,
 "nbformat_minor": 2
}
