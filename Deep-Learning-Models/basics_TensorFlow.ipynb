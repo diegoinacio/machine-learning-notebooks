{
 "cells": [
  {
   "cell_type": "markdown",
   "metadata": {},
   "source": [
    "# Basics [TensorFlow]\n",
    "---\n",
    "- Author: Diego Inácio\n",
    "- GitHub: [github.com/diegoinacio](https://github.com/diegoinacio)\n",
    "- Notebook: [basics_TensorFlow.ipynb](https://github.com/diegoinacio/machine-learning-notebooks/blob/master/Deep-Learning-Models/basics_TensorFlow.ipynb)\n",
    "---\n",
    "Basic functions and operations using TensorFlow library."
   ]
  },
  {
   "cell_type": "code",
   "execution_count": null,
   "metadata": {},
   "outputs": [],
   "source": [
    "import numpy as np"
   ]
  },
  {
   "cell_type": "markdown",
   "metadata": {},
   "source": [
    "## Instalation\n",
    "---\n",
    "``` python\n",
    ">>> conda install -c conda-forge tensorflow\n",
    "```\n",
    "or\n",
    "``` python\n",
    ">>> pip install tensorflow\n",
    "```"
   ]
  },
  {
   "cell_type": "code",
   "execution_count": null,
   "metadata": {},
   "outputs": [],
   "source": [
    "import tensorflow as tf"
   ]
  },
  {
   "cell_type": "code",
   "execution_count": null,
   "metadata": {},
   "outputs": [],
   "source": [
    "# un-initialized tensor\n",
    "a = tf.placeholder(tf.float32, shape=(3, 4), name='a')\n",
    "# initialized tensor\n",
    "b = tf.constant(np.arange(12).reshape(3, 4), name='b')\n",
    "\n",
    "print(a, a.shape, a.dtype)\n",
    "print(b, b.shape, b.dtype)"
   ]
  },
  {
   "cell_type": "markdown",
   "metadata": {},
   "source": [
    "## Sessions Objects and Output\n",
    "---"
   ]
  },
  {
   "cell_type": "code",
   "execution_count": null,
   "metadata": {},
   "outputs": [],
   "source": [
    "a = tf.constant(np.arange(4), name='a')\n",
    "b = tf.constant(np.arange(4)*10, name='b')\n",
    "c = tf.add(a, b)\n",
    "print(c)"
   ]
  },
  {
   "cell_type": "code",
   "execution_count": null,
   "metadata": {},
   "outputs": [],
   "source": [
    "# Iteractive session\n",
    "sess = tf.InteractiveSession()\n",
    "out = c.eval()\n",
    "sess.close()\n",
    "\n",
    "print(out)"
   ]
  },
  {
   "cell_type": "code",
   "execution_count": null,
   "metadata": {},
   "outputs": [],
   "source": [
    "# Non-Iteractive session\n",
    "sess = tf.Session()\n",
    "out = c.eval(session=sess)\n",
    "sess.close()\n",
    "\n",
    "print(out)"
   ]
  },
  {
   "cell_type": "code",
   "execution_count": null,
   "metadata": {},
   "outputs": [],
   "source": [
    "# Non-Iteractive session using context manager\n",
    "with tf.Session() as sess:\n",
    "    out1 = sess.run(c)\n",
    "    out2 = c.eval()\n",
    "\n",
    "print(out1)\n",
    "print(out2)"
   ]
  },
  {
   "cell_type": "markdown",
   "metadata": {},
   "source": [
    "### Un-initialized tensor and feed dictionary"
   ]
  },
  {
   "cell_type": "code",
   "execution_count": null,
   "metadata": {},
   "outputs": [],
   "source": [
    "a = tf.placeholder(tf.int32, name='a')\n",
    "b = tf.placeholder(tf.int32, name='b')\n",
    "c = tf.add(a, b)\n",
    "\n",
    "with tf.Session() as sess:\n",
    "    out = sess.run(c, feed_dict={a: 3, b: 4})\n",
    "\n",
    "print(out)"
   ]
  },
  {
   "cell_type": "markdown",
   "metadata": {},
   "source": [
    "## Basic Operations\n",
    "---"
   ]
  },
  {
   "cell_type": "code",
   "execution_count": null,
   "metadata": {},
   "outputs": [],
   "source": [
    "s = tf.constant(3)                           # scalar\n",
    "v = tf.constant(np.arange(5))                # vactor n=5\n",
    "m = tf.constant(np.arange(20).reshape(4, 5)) # matrix 4 x 5"
   ]
  },
  {
   "cell_type": "code",
   "execution_count": null,
   "metadata": {},
   "outputs": [],
   "source": [
    "# print S\n",
    "with tf.Session() as sess:\n",
    "    print('    S:', sess.run(s))\n",
    "\n",
    "# V x S product\n",
    "vs = tf.multiply(v, s) # could be v*s as well\n",
    "with tf.Session() as sess:\n",
    "    print('V x S:', sess.run(vs))\n",
    "\n",
    "# M x S product\n",
    "ms = tf.multiply(m, s) # could be m*s as well\n",
    "with tf.Session() as sess:\n",
    "    print('M x S:\\n', sess.run(ms))"
   ]
  },
  {
   "cell_type": "code",
   "execution_count": null,
   "metadata": {},
   "outputs": [],
   "source": [
    "# print V\n",
    "with tf.Session() as sess:\n",
    "    print('    V:', sess.run(v))\n",
    "\n",
    "# V x V > dot product\n",
    "vv = tf.tensordot(v, v, axes=1)\n",
    "with tf.Session() as sess:\n",
    "    print('V x V:', sess.run(vv))\n",
    "\n",
    "# M x V product\n",
    "mv = tf.tensordot(m, v, axes=1)\n",
    "with tf.Session() as sess:\n",
    "    print('M x V:', sess.run(mv))"
   ]
  },
  {
   "cell_type": "code",
   "execution_count": null,
   "metadata": {},
   "outputs": [],
   "source": [
    "# print M\n",
    "with tf.Session() as sess:\n",
    "    print('     M:\\n', sess.run(m))\n",
    "\n",
    "# M x M product\n",
    "m1 = tf.constant(np.arange(15).reshape(5, 3)) # the M1's dimensions are 5 x 3\n",
    "mm = tf.matmul(m, m1)                         # the result dimensions must be 4 x 3\n",
    "\n",
    "with tf.Session() as sess:\n",
    "    print('\\nM x M1:\\n', sess.run(mm))"
   ]
  }
 ],
 "metadata": {
  "kernelspec": {
   "display_name": "Python 3",
   "language": "python",
   "name": "python3"
  },
  "language_info": {
   "codemirror_mode": {
    "name": "ipython",
    "version": 3
   },
   "file_extension": ".py",
   "mimetype": "text/x-python",
   "name": "python",
   "nbconvert_exporter": "python",
   "pygments_lexer": "ipython3",
   "version": "3.7.7"
  }
 },
 "nbformat": 4,
 "nbformat_minor": 2
}
