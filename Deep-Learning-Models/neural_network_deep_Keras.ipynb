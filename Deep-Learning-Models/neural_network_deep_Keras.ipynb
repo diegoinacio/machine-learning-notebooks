{
 "cells": [
  {
   "cell_type": "markdown",
   "metadata": {},
   "source": [
    "# Deep Neural Network [Keras]\n",
    "---\n",
    "- Author: Diego Inácio\n",
    "- GitHub: [github.com/diegoinacio](https://github.com/diegoinacio)\n",
    "- Notebook: [neural_network_deep_Keras.ipynb](https://github.com/diegoinacio/machine-learning-notebooks/blob/master/Deep-Learning-Models/neural_network_deep_Keras.ipynb)\n",
    "---\n",
    "Implementation of *Deep Neural Network* using Keras library."
   ]
  },
  {
   "cell_type": "code",
   "execution_count": null,
   "metadata": {},
   "outputs": [],
   "source": [
    "%matplotlib inline\n",
    "import matplotlib\n",
    "import matplotlib.pyplot as plt\n",
    "import numpy as np\n",
    "from PIL import Image\n",
    "\n",
    "import tensorflow as tf"
   ]
  },
  {
   "cell_type": "code",
   "execution_count": null,
   "metadata": {},
   "outputs": [],
   "source": [
    "plt.rcParams['figure.figsize'] = (16, 8)"
   ]
  },
  {
   "cell_type": "code",
   "execution_count": null,
   "metadata": {},
   "outputs": [],
   "source": [
    "n1, n2 = 128, 128\n",
    "# Read Image\n",
    "x = Image.open('sourceimages/mandril.png')\n",
    "# Rescale image to a lower resolution\n",
    "x = x.resize((n1, n2), Image.ANTIALIAS)\n",
    "x = np.asarray(x)/255\n",
    "n1, n2, c = x.shape\n",
    "\n",
    "### split channels ###\n",
    "r, g, b = x[:,:,0], x[:,:,1], x[:,:,2]"
   ]
  },
  {
   "cell_type": "code",
   "execution_count": null,
   "metadata": {},
   "outputs": [],
   "source": [
    "# Transform data and produce X_train\n",
    "Y_train = np.array([r.ravel(), g.ravel(), b.ravel()]).T\n",
    "t, s = np.mgrid[0:n1, 0:n2]\n",
    "s = (s - s.mean())/s.std()\n",
    "t = (t - t.mean())/t.std()\n",
    "# X_train is the normalized spatial coordinates\n",
    "X_train = np.array([s.ravel(), t.ravel()], dtype=np.float32).T"
   ]
  },
  {
   "cell_type": "code",
   "execution_count": null,
   "metadata": {},
   "outputs": [],
   "source": [
    "fig, [axA, axB] = plt.subplots(1, 2, figsize=(20, 10))\n",
    "\n",
    "st = np.stack([s, t, s*0], axis=2)\n",
    "st = (st - st.min())/(st.max() - st.min())\n",
    "st[:,:,2] = 0; axA.imshow(st); axA.axis('off')\n",
    "axA.text(5, 10, f'({s.min():.3f}, {t.min():.3f})', color='white', size=18)\n",
    "axA.text(86, 10, f'({s.max():.3f}, {t.min():.3f})', color='white', size=18)\n",
    "axA.text(5, 120, f'({s.min():.3f}, {t.max():.3f})', color='white', size=18)\n",
    "axA.text(86, 120, f'({s.max():.3f}, {t.max():.3f})', color='white', size=18)\n",
    "axA.set_title('X_Train')\n",
    "\n",
    "axB.imshow(x)\n",
    "axB.set_title('Y_Train')\n",
    "\n",
    "plt.show()"
   ]
  },
  {
   "cell_type": "code",
   "execution_count": null,
   "metadata": {},
   "outputs": [],
   "source": [
    "# Produce X_test to another scale\n",
    "# Upscale the image approximation\n",
    "N1 = N2 = 512\n",
    "t, s = np.mgrid[0:N1, 0:N2]\n",
    "s = (s - s.mean())/s.std()\n",
    "t = (t - t.mean())/t.std()\n",
    "X_test = np.array([s.ravel(), t.ravel()], dtype=np.float32).T\n",
    "\n",
    "print('X_train:', X_train.shape)\n",
    "print('Y_train:', Y_train.shape)\n",
    "print('X_test:', X_test.shape)"
   ]
  },
  {
   "cell_type": "markdown",
   "metadata": {},
   "source": [
    "## Deep Neural Network\n",
    "---\n",
    "![perceptron](sourceimages/neural_network_deep.png \"Deep Neural Network\")"
   ]
  },
  {
   "cell_type": "code",
   "execution_count": null,
   "metadata": {},
   "outputs": [],
   "source": [
    "EPOCHS = 100  # epochs\n",
    "\n",
    "# List of number of neurons for each hidden layer\n",
    "NEURONS = [32, 64, 128, 256, 512, 1024]\n",
    "\n",
    "# model \n",
    "# Input (2): x and y coordinates\n",
    "# Output (3): RGB\n",
    "model = tf.keras.Sequential([\n",
    "    tf.keras.layers.Input(2),\n",
    "    *[tf.keras.layers.Dense(n, activation='relu') for n in NEURONS],\n",
    "    tf.keras.layers.Dense(3, activation='sigmoid')\n",
    "])\n",
    "\n",
    "model.compile(\n",
    "    loss='mean_squared_error',\n",
    "    optimizer='adam',\n",
    "    metrics=['accuracy']\n",
    ")\n",
    "\n",
    "# loss and accuracy storage\n",
    "loss_plot = []; accA_plot = []\n",
    "\n",
    "for epoch in range(EPOCHS + 1):\n",
    "    model.fit(X_train, Y_train, epochs=2, verbose=0)\n",
    "    loss_plot += [e*100 for e in model.history.history['loss']]\n",
    "    accA_plot += [e*100 for e in model.history.history['accuracy']]\n",
    "    if (not epoch % 10) and (epoch != 0):\n",
    "        print(f'epoch: {epoch:04d} | loss: {loss_plot[-1]:.3f} | accuracy: {accA_plot[-1]:06.2f} %')"
   ]
  },
  {
   "cell_type": "code",
   "execution_count": null,
   "metadata": {},
   "outputs": [],
   "source": [
    "fig, [axA, axB] = plt.subplots(2, 1, sharex=True)\n",
    "\n",
    "axA.plot(loss_plot)\n",
    "axA.set_ylabel('loss')\n",
    "axB.plot(accA_plot)\n",
    "axB.set_ylabel('accuracy')\n",
    "\n",
    "plt.xlabel('epochs')\n",
    "\n",
    "plt.show()"
   ]
  },
  {
   "cell_type": "code",
   "execution_count": null,
   "metadata": {},
   "outputs": [],
   "source": [
    "fig, [axA, axB] = plt.subplots(1, 2, figsize=(20, 10))\n",
    "\n",
    "axA.imshow(x)\n",
    "axA.set_title(r'$Y_{train}$', size=20)\n",
    "# Predict using X_train (128x128x3)\n",
    "Y_predA = model.predict(X_train)\n",
    "Y_predA = Y_predA.reshape(n1, n2, c)\n",
    "axB.imshow(Y_predA)\n",
    "axB.set_title(r'$\\hat{Y}_{train}$', size=20)\n",
    "\n",
    "plt.show()"
   ]
  },
  {
   "cell_type": "code",
   "execution_count": null,
   "metadata": {},
   "outputs": [],
   "source": [
    "fig, [axA, axB] = plt.subplots(1, 2, figsize=(20, 10))\n",
    "\n",
    "axA.imshow(x)\n",
    "axA.set_title(r'$Y_{train}$', size=20)\n",
    "# Predict using X_test (512x512x3)\n",
    "Y_predB = model.predict(X_test)\n",
    "Y_predB = Y_predB.reshape(N1, N2, c)\n",
    "axB.imshow(Y_predB)\n",
    "axB.set_title(r'$\\hat{Y}_{test}$', size=20)\n",
    "\n",
    "plt.show()"
   ]
  }
 ],
 "metadata": {
  "kernelspec": {
   "display_name": "Python 3",
   "language": "python",
   "name": "python3"
  },
  "language_info": {
   "codemirror_mode": {
    "name": "ipython",
    "version": 3
   },
   "file_extension": ".py",
   "mimetype": "text/x-python",
   "name": "python",
   "nbconvert_exporter": "python",
   "pygments_lexer": "ipython3",
   "version": "3.7.7"
  }
 },
 "nbformat": 4,
 "nbformat_minor": 2
}
