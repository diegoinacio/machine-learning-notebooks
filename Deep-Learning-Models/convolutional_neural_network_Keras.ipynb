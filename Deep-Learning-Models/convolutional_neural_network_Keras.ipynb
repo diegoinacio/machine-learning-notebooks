{
 "cells": [
  {
   "cell_type": "markdown",
   "metadata": {},
   "source": [
    "# Convolutional Neural Network [Keras]\n",
    "---\n",
    "- Author: Diego Inácio\n",
    "- GitHub: [github.com/diegoinacio](https://github.com/diegoinacio)\n",
    "- Notebook: [convolutional_neural_network_Keras.ipynb](https://github.com/diegoinacio/machine-learning-notebooks/blob/master/Deep-Learning-Models/convolutional_neural_network_Keras.ipynb)\n",
    "---\n",
    "Implementation of *Convolutional Neural Network* using Keras library."
   ]
  },
  {
   "cell_type": "code",
   "execution_count": null,
   "metadata": {},
   "outputs": [],
   "source": [
    "%matplotlib inline\n",
    "import matplotlib\n",
    "import matplotlib.pyplot as plt\n",
    "import numpy as np\n",
    "from PIL import Image\n",
    "\n",
    "import tensorflow as tf"
   ]
  },
  {
   "cell_type": "code",
   "execution_count": null,
   "metadata": {},
   "outputs": [],
   "source": [
    "plt.rcParams['figure.figsize'] = (20, 10)"
   ]
  },
  {
   "cell_type": "code",
   "execution_count": null,
   "metadata": {},
   "outputs": [],
   "source": [
    "cifar10 = tf.keras.datasets.cifar10\n",
    "[X_train, Y_train],[X_test, Y_test] = cifar10.load_data()\n",
    "\n",
    "# Data preparation\n",
    "X_train, Y_train = X_train/255, Y_train\n",
    "X_test, Y_test = X_test/255, Y_test\n",
    "# Data augmentation [flip x]\n",
    "X_train = np.vstack([X_train, X_train[:,:,::-1,:]])\n",
    "Y_train = np.vstack([Y_train, Y_train])\n",
    "X_test = np.vstack([X_test, X_test[:,:,::-1,:]])\n",
    "Y_test = np.vstack([Y_test, Y_test])\n",
    "# one hot for multi-class classification\n",
    "# MNIST = 10 classes [0-9]\n",
    "Y_train_oh = np.zeros((Y_train.size, 10))\n",
    "Y_train_oh[np.arange(Y_train.size), Y_train.T] = 1\n",
    "Y_test_oh = np.zeros((Y_test.size, 10))\n",
    "Y_test_oh[np.arange(Y_test.size), Y_test.T] = 1\n",
    "\n",
    "print('X_train:', X_train.shape)\n",
    "print('Y_train:', Y_train.shape)\n",
    "print('Y_train_oh:', Y_train_oh.shape)\n",
    "print('X_test:', X_test.shape)\n",
    "print('Y_test:', Y_test.shape)\n",
    "print('Y_test_oh:', Y_test_oh.shape)"
   ]
  },
  {
   "cell_type": "code",
   "execution_count": null,
   "metadata": {},
   "outputs": [],
   "source": [
    "# Label categories\n",
    "objects = ['Plane', 'Car', 'Bird', 'Cat', 'Deer', 'Dog', 'Frog', 'Horse', 'Ship', 'Truck']\n",
    "# Get dimensions\n",
    "N1, N2, C = X_train[0].shape"
   ]
  },
  {
   "cell_type": "code",
   "execution_count": null,
   "metadata": {},
   "outputs": [],
   "source": [
    "fig, AX = plt.subplots(3, 6, sharex=True, sharey=True)\n",
    "\n",
    "np.random.seed(1234)\n",
    "for ax in AX.ravel():\n",
    "    rindex = np.random.randint(Y_train.size)\n",
    "    ax.imshow(X_train[rindex])\n",
    "    # title label + one-hot\n",
    "    title = f'{objects[Y_train[rindex][0]]} {Y_train[rindex]} :: '\n",
    "    title += ''.join([str(int(e)) for e in Y_train_oh[rindex]]) \n",
    "    ax.set_title(title)\n",
    "plt.grid(False)"
   ]
  },
  {
   "cell_type": "markdown",
   "metadata": {},
   "source": [
    "## Convolutional Neural Network\n",
    "---\n",
    "![convolutional_neural_network](sourceimages/convolutional_neural_network.png \"Convolutional Neural Network\")"
   ]
  },
  {
   "cell_type": "code",
   "execution_count": null,
   "metadata": {},
   "outputs": [],
   "source": [
    "# Model\n",
    "model = tf.keras.Sequential([\n",
    "    tf.keras.layers.Input(X_train[0].shape),\n",
    "    tf.keras.layers.Conv2D(32, 3, activation='relu'),\n",
    "    tf.keras.layers.Conv2D(64, 3, activation='relu'),\n",
    "    tf.keras.layers.MaxPooling2D(pool_size=2),\n",
    "    tf.keras.layers.Dropout(0.25),\n",
    "    tf.keras.layers.Conv2D(128, 3, activation='relu'),\n",
    "    tf.keras.layers.Conv2D(256, 3, activation='relu'),\n",
    "    tf.keras.layers.MaxPooling2D(pool_size=2),\n",
    "    tf.keras.layers.Dropout(0.25),\n",
    "    tf.keras.layers.Flatten(),\n",
    "    tf.keras.layers.Dense(N1*N2*C, activation='relu'),\n",
    "    tf.keras.layers.Dropout(0.5),\n",
    "    tf.keras.layers.Dense(10, activation='softmax')\n",
    "])\n",
    "\n",
    "model.summary()"
   ]
  },
  {
   "cell_type": "code",
   "execution_count": null,
   "metadata": {},
   "outputs": [],
   "source": [
    "model.compile(\n",
    "    loss='categorical_crossentropy',\n",
    "    optimizer='adam',\n",
    "    metrics=['accuracy']\n",
    ")\n",
    "\n",
    "model.fit(X_train, Y_train_oh, epochs=10)"
   ]
  },
  {
   "cell_type": "code",
   "execution_count": null,
   "metadata": {},
   "outputs": [],
   "source": [
    "fig, AX = plt.subplots(4, 8, sharex=True, sharey=True)\n",
    "AX = [b for a in AX for b in a]\n",
    "\n",
    "pred = model.predict(X_test)\n",
    "\n",
    "np.random.seed(1234)\n",
    "for ax in AX:\n",
    "    index = np.random.randint(Y_test.size)\n",
    "    # Prediction\n",
    "    A_ = pred[index]\n",
    "    Y_ = np.argmax(A_)\n",
    "    # Select sample image\n",
    "    imshow = X_test[index]\n",
    "    # Green square: predited correctly\n",
    "    # Red square: predicted wrongly\n",
    "    if Y_ == Y_test[index]:\n",
    "        imshow[-4:, -4:] = (0, 1, 0)\n",
    "    else:\n",
    "        imshow[-4:, -4:] = (1, 0, 0)\n",
    "    ax.imshow(imshow)\n",
    "    ax.set_title(f'{objects[Y_]} ({Y_})' + r' ; $A_i$ = {:.02f}'.format(float(A_[Y_])), fontsize=12)"
   ]
  },
  {
   "cell_type": "code",
   "execution_count": null,
   "metadata": {},
   "outputs": [],
   "source": [
    "print('Validation')\n",
    "pred1 = model.predict(X_test)\n",
    "print('Test:', np.sum((Y_test_oh - pred1)**2, axis=1).mean())\n",
    "pred2 = model.predict(X_train)\n",
    "print('Train:', np.sum((Y_train_oh - pred2)**2, axis=1).mean())"
   ]
  }
 ],
 "metadata": {
  "kernelspec": {
   "display_name": "Python [conda env:tfgpu]",
   "language": "python",
   "name": "conda-env-tfgpu-py"
  },
  "language_info": {
   "codemirror_mode": {
    "name": "ipython",
    "version": 3
   },
   "file_extension": ".py",
   "mimetype": "text/x-python",
   "name": "python",
   "nbconvert_exporter": "python",
   "pygments_lexer": "ipython3",
   "version": "3.7.7"
  }
 },
 "nbformat": 4,
 "nbformat_minor": 2
}
