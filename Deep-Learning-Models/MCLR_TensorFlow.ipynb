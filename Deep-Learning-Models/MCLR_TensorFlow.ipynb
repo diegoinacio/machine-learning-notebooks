{
 "cells": [
  {
   "cell_type": "markdown",
   "metadata": {},
   "source": [
    "# Multi-class Logistic Regression [TensorFlow]\n",
    "---\n",
    "- Author: Diego Inácio\n",
    "- GitHub: [github.com/diegoinacio](https://github.com/diegoinacio)\n",
    "- Notebook: [MCLR_TensorFlow.ipynb](https://github.com/diegoinacio/machine-learning-notebooks/blob/master/Deep-Learning-Models/MCLR_TensorFlow.ipynb)\n",
    "---\n",
    "Implementation of Multi-class Logistic Regression using TensorFlow library."
   ]
  },
  {
   "cell_type": "code",
   "execution_count": null,
   "metadata": {},
   "outputs": [],
   "source": [
    "%matplotlib inline\n",
    "import matplotlib\n",
    "import matplotlib.pyplot as plt\n",
    "import numpy as np\n",
    "\n",
    "import tensorflow as tf"
   ]
  },
  {
   "cell_type": "code",
   "execution_count": null,
   "metadata": {},
   "outputs": [],
   "source": [
    "plt.rcParams['figure.figsize'] = (16, 8)"
   ]
  },
  {
   "cell_type": "code",
   "execution_count": null,
   "metadata": {},
   "outputs": [],
   "source": [
    "mnist = tf.keras.datasets.mnist\n",
    "[X_train, Y_train],[X_test, Y_test] = mnist.load_data()\n",
    "\n",
    "# one hot for multi-class classification\n",
    "# MNIST = 10 classes [0-9]\n",
    "y_train_oh = np.zeros((Y_train.size, 10))\n",
    "y_train_oh[np.arange(Y_train.size), Y_train] = 1\n",
    "y_test_oh = np.zeros((Y_test.size, 10))\n",
    "y_test_oh[np.arange(Y_test.size), Y_test] = 1\n",
    "\n",
    "print('X_train:', X_train.shape)\n",
    "print('Y_train:', Y_train.shape)\n",
    "print('y_train_oh:', y_train_oh.shape)\n",
    "print('X_test:', X_test.shape)\n",
    "print('Y_test:', Y_test.shape)\n",
    "print('y_test_oh:', y_test_oh.shape)"
   ]
  },
  {
   "cell_type": "code",
   "execution_count": null,
   "metadata": {},
   "outputs": [],
   "source": [
    "fig, AX = plt.subplots(3, 6, sharex=True, sharey=True)\n",
    "\n",
    "np.random.seed(1234)\n",
    "for ax in AX.ravel():\n",
    "    rindex = np.random.randint(Y_train.size)\n",
    "    ax.imshow(X_train[rindex])\n",
    "    # title label + one-hot\n",
    "    title = '{} :: '.format(Y_train[rindex]) \n",
    "    title += ''.join([str(int(e)) for e in y_train_oh[rindex]]) \n",
    "    ax.set_title(title)\n",
    "plt.grid(False)"
   ]
  },
  {
   "cell_type": "code",
   "execution_count": null,
   "metadata": {},
   "outputs": [],
   "source": [
    "x_train, y_train = X_train/255, Y_train[np.newaxis].T\n",
    "x_test, y_test = X_test/255, Y_test[np.newaxis].T\n",
    "\n",
    "x_train = x_train.astype(np.float32)\n",
    "y_train = y_train.astype(np.float32)\n",
    "x_test = x_test.astype(np.float32)\n",
    "y_test = y_test.astype(np.float32)\n",
    "\n",
    "print('x_train:', x_train.shape)\n",
    "print('y_train:', y_train.shape)\n",
    "print('x_test:', x_test.shape)\n",
    "print('y_test:', y_test.shape)"
   ]
  },
  {
   "cell_type": "code",
   "execution_count": null,
   "metadata": {},
   "outputs": [],
   "source": [
    "# reshape Xs\n",
    "x_train = x_train.reshape(-1, 28*28)\n",
    "x_test = x_test.reshape(-1, 28*28)\n",
    "\n",
    "print('x_train:', x_train.shape)\n",
    "print('x_test:', x_test.shape)"
   ]
  },
  {
   "cell_type": "markdown",
   "metadata": {},
   "source": [
    "## Algorithm\n",
    "---\n",
    "Multi-class logistic regression\n",
    "![mclr](sourceimages/MCLR.png \"Multi-Class Logistic Regression\")"
   ]
  },
  {
   "cell_type": "code",
   "execution_count": null,
   "metadata": {},
   "outputs": [],
   "source": [
    "EPOCHS = 5000  # epochs\n",
    "ALPHA = 0.005  # learning rate\n",
    "BATCH = 100    # batch size\n",
    "\n",
    "# m is the number of examples\n",
    "# n_x is the input size 28x28=784\n",
    "m, n_x = x_train.shape\n",
    "\n",
    "X = tf.placeholder(tf.float32, shape=[None, n_x], name='X')\n",
    "Y = tf.placeholder(tf.float32, shape=[None, 10], name='Y')\n",
    "\n",
    "# variables initialization\n",
    "W = tf.Variable(tf.zeros([n_x, 10]), tf.float32, name='W')\n",
    "B = tf.Variable(tf.zeros([1, 10]), tf.float32, name='B')\n",
    "\n",
    "init_variables = tf.global_variables_initializer()\n",
    "\n",
    "# model\n",
    "Z = tf.add(tf.matmul(X, W), B)\n",
    "A = tf.nn.softmax(Z)\n",
    "\n",
    "# training graph and optimization\n",
    "loss = tf.reduce_mean(tf.nn.softmax_cross_entropy_with_logits_v2(logits=A, labels=Y))\n",
    "optimizer = tf.train.GradientDescentOptimizer(learning_rate=ALPHA).minimize(loss)\n",
    "accuracy = tf.reduce_mean(1 - tf.abs(Y - A))*100\n",
    "\n",
    "# loss and accuracy storage\n",
    "loss_plot = []; accA_plot = []\n",
    "\n",
    "with tf.Session() as sess:\n",
    "    sess.run(init_variables)\n",
    "    for epoch in range(EPOCHS + 1):\n",
    "        # randomic batch definition\n",
    "        rbatch = np.random.choice(Y_train.size, size=BATCH)\n",
    "        # training, metrics and storage\n",
    "        sess.run(optimizer, feed_dict={X: x_train[rbatch], Y: y_train_oh[rbatch]})\n",
    "        L = sess.run(loss, feed_dict={X: x_train[rbatch], Y: y_train_oh[rbatch]})\n",
    "        acc = sess.run(accuracy, feed_dict={X: x_test, Y: y_test_oh})\n",
    "        loss_plot += [L]; accA_plot += [acc]\n",
    "        if (not epoch % 1000) and (epoch != 0):\n",
    "            print('epoch: {0:04d} | loss: {1:.3f} | accuracy: {2:06.2f} %'.format(epoch, L, acc))\n",
    "    W_ = sess.run(W) # store W and B for visualization and test\n",
    "    B_ = sess.run(B)"
   ]
  },
  {
   "cell_type": "code",
   "execution_count": null,
   "metadata": {},
   "outputs": [],
   "source": [
    "fig, AX = plt.subplots(1, 10, sharey=True)\n",
    "\n",
    "for i in range(10):\n",
    "    AX[i].imshow(W_.T[i].reshape(28, 28))\n",
    "    AX[i].set_title(r'$W_{}$'.format(i))"
   ]
  },
  {
   "cell_type": "code",
   "execution_count": null,
   "metadata": {},
   "outputs": [],
   "source": [
    "fig, [axA, axB] = plt.subplots(2, 1, sharex=True)\n",
    "\n",
    "axA.plot(loss_plot)\n",
    "axA.set_ylabel('loss')\n",
    "axB.plot(accA_plot)\n",
    "axB.set_ylabel('accuracy')\n",
    "\n",
    "plt.xlabel('epochs')\n",
    "\n",
    "plt.show()"
   ]
  },
  {
   "cell_type": "code",
   "execution_count": null,
   "metadata": {},
   "outputs": [],
   "source": [
    "fig, AX = plt.subplots(3, 6, figsize=(2048//72, 1024//72))\n",
    "AX = [b for a in AX for b in a]\n",
    "\n",
    "np.random.seed(1)\n",
    "for ax in AX:\n",
    "    index = np.random.randint(y_test.size)\n",
    "    Z_ = np.dot(W_.T, x_test[index]) + B_\n",
    "    Y_ = np.argmax(Z_)\n",
    "    if Y_ == y_test[index]:\n",
    "        ax.imshow(x_test[index].reshape(28, 28))\n",
    "    else:\n",
    "        ax.imshow(1 - x_test[index].reshape(28, 28))\n",
    "    ez = np.exp(Z_ - Z_.max())\n",
    "    A_ = ez/ez.sum(); A_ = float(A_.T[Y_])\n",
    "    ax.set_title(r'$\\hat{Y_i}$ = ' + str(Y_) + ' ; $A_i$ = {:.03f}'.format(A_), fontsize=20)"
   ]
  }
 ],
 "metadata": {
  "kernelspec": {
   "display_name": "Python 3",
   "language": "python",
   "name": "python3"
  },
  "language_info": {
   "codemirror_mode": {
    "name": "ipython",
    "version": 3
   },
   "file_extension": ".py",
   "mimetype": "text/x-python",
   "name": "python",
   "nbconvert_exporter": "python",
   "pygments_lexer": "ipython3",
   "version": "3.7.7"
  }
 },
 "nbformat": 4,
 "nbformat_minor": 2
}
