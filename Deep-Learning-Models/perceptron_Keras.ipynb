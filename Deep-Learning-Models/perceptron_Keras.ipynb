{
 "cells": [
  {
   "cell_type": "markdown",
   "metadata": {},
   "source": [
    "# Perceptron [Keras]\n",
    "---\n",
    "- Author: Diego Inácio\n",
    "- GitHub: [github.com/diegoinacio](https://github.com/diegoinacio)\n",
    "- Notebook: [perceptron_Keras.ipynb](https://github.com/diegoinacio/machine-learning-notebooks/blob/master/Deep-Learning-Models/perceptron_Keras.ipynb)\n",
    "---\n",
    "Implementation of *Perceptron* model using using Keras library."
   ]
  },
  {
   "cell_type": "code",
   "execution_count": null,
   "metadata": {},
   "outputs": [],
   "source": [
    "%matplotlib inline\n",
    "import matplotlib\n",
    "import matplotlib.pyplot as plt\n",
    "import numpy as np\n",
    "\n",
    "import tensorflow as tf"
   ]
  },
  {
   "cell_type": "code",
   "execution_count": null,
   "metadata": {},
   "outputs": [],
   "source": [
    "plt.rcParams['figure.figsize'] = (16, 8)"
   ]
  },
  {
   "cell_type": "code",
   "execution_count": null,
   "metadata": {},
   "outputs": [],
   "source": [
    "mnist = tf.keras.datasets.mnist\n",
    "[X_train, Y_train],[X_test, Y_test] = mnist.load_data()\n",
    "\n",
    "# data cleaning\n",
    "# using only zeros and ones\n",
    "X_train = X_train[Y_train <= 1]\n",
    "Y_train = Y_train[Y_train <= 1]\n",
    "X_test = X_test[Y_test <= 1]\n",
    "Y_test = Y_test[Y_test <= 1]\n",
    "\n",
    "print('X_train:', X_train.shape)\n",
    "print('Y_train:', Y_train.shape)\n",
    "print('X_test:', X_test.shape)\n",
    "print('Y_test:', Y_test.shape)"
   ]
  },
  {
   "cell_type": "code",
   "execution_count": null,
   "metadata": {},
   "outputs": [],
   "source": [
    "fig, AX = plt.subplots(3, 6, sharex=True, sharey=True)\n",
    "\n",
    "np.random.seed(1234)\n",
    "for ax in AX.ravel():\n",
    "    rindex = np.random.randint(Y_train.size)\n",
    "    ax.imshow(X_train[rindex])\n",
    "    ax.set_title('label: {}'.format(Y_train[rindex]))\n",
    "plt.grid(False)"
   ]
  },
  {
   "cell_type": "code",
   "execution_count": null,
   "metadata": {},
   "outputs": [],
   "source": [
    "# data preparation\n",
    "# scales, dimensions and dtypes\n",
    "x_train, y_train = X_train/255, Y_train[np.newaxis].T\n",
    "x_test, y_test = X_test/255, Y_test[np.newaxis].T\n",
    "\n",
    "x_train = x_train.astype(np.float32).reshape(-1, 28*28)\n",
    "y_train = y_train.astype(np.float32)\n",
    "x_test = x_test.astype(np.float32).reshape(-1, 28*28)\n",
    "y_test = y_test.astype(np.float32)\n",
    "\n",
    "print('x_train:', x_train.shape)\n",
    "print('y_train:', y_train.shape)\n",
    "print('x_test:', x_test.shape)\n",
    "print('y_test:', y_test.shape)"
   ]
  },
  {
   "cell_type": "markdown",
   "metadata": {},
   "source": [
    "## Perceptron\n",
    "---\n",
    "![perceptron](sourceimages/perceptron.png \"Perceptron\")"
   ]
  },
  {
   "cell_type": "code",
   "execution_count": null,
   "metadata": {},
   "outputs": [],
   "source": [
    "EPOCHS = 500  # epochs\n",
    "ALPHA = 0.001 # learning rate\n",
    "BATCH = 100   # batch size\n",
    "\n",
    "# m is the number of examples\n",
    "# n_x is the input size 28x28=784\n",
    "m, n_x = x_train.shape\n",
    "\n",
    "# model\n",
    "model = tf.keras.Sequential([\n",
    "    tf.keras.layers.Input(n_x),\n",
    "    tf.keras.layers.Dense(1, activation='sigmoid')\n",
    "])\n",
    "\n",
    "# Compile model\n",
    "model.compile(\n",
    "    loss='mean_squared_error',\n",
    "    optimizer='SGD',\n",
    "    lr=ALPHA,\n",
    "    metrics=['accuracy']\n",
    ")\n",
    "\n",
    "# loss and accuracy storage\n",
    "loss_plot = []; accA_plot = []\n",
    "\n",
    "for epoch in range(EPOCHS + 1):\n",
    "    # randomic batch definition\n",
    "    rbatch = np.random.choice(Y_train.size, size=BATCH)\n",
    "    # training, metrics and storage\n",
    "    model.fit(x_train[rbatch], y_train[rbatch], epochs=1, verbose=0)\n",
    "    loss_plot += [e*100 for e in model.history.history['loss']]\n",
    "    accA_plot += [e*100 for e in model.history.history['accuracy']]\n",
    "    if (not epoch % 100) and (epoch != 0):\n",
    "        print(f'epoch: {epoch:04d} | loss: {loss_plot[-1]:.3f} | accuracy: {accA_plot[-1]:06.2f} %')\n",
    "\n",
    "w_ = model.weights[0].numpy() # store W and B for visualization and test"
   ]
  },
  {
   "cell_type": "code",
   "execution_count": null,
   "metadata": {},
   "outputs": [],
   "source": [
    "axA = plt.subplot(121)\n",
    "axA.imshow(w_.T.reshape(28, 28))\n",
    "cb = axA.set_title('W')\n",
    "\n",
    "axB = plt.subplot(222)\n",
    "axB.plot(loss_plot)\n",
    "axB.set_ylabel('loss')\n",
    "\n",
    "axC = plt.subplot(224)\n",
    "axC.plot(accA_plot)\n",
    "axC.set_ylabel('accuracy')\n",
    "\n",
    "plt.xlabel('epochs')\n",
    "\n",
    "plt.show()"
   ]
  },
  {
   "cell_type": "code",
   "execution_count": null,
   "metadata": {},
   "outputs": [],
   "source": [
    "fig, AX = plt.subplots(3, 6, figsize=(2048//72, 1024//72))\n",
    "AX = [b for a in AX for b in a]\n",
    "\n",
    "pred = model.predict(x_test)\n",
    "\n",
    "np.random.seed(1)\n",
    "for ax in AX:\n",
    "    index = np.random.randint(y_test.size)\n",
    "    a_ = pred[index]\n",
    "    y_ = 1 if a_ > 0.5 else 0\n",
    "    if y_ == y_test[index]:\n",
    "        ax.imshow(x_test[index].reshape(28, 28))\n",
    "    else:\n",
    "        ax.imshow(1 - x_test[index].reshape(28, 28))\n",
    "    ax.set_title(r'$\\hat{y_i}$ = ' + str(y_) + r' ; $a_i$ = {:.02f}'.format(float(a_)), fontsize=20)"
   ]
  }
 ],
 "metadata": {
  "kernelspec": {
   "display_name": "Python 3",
   "language": "python",
   "name": "python3"
  },
  "language_info": {
   "codemirror_mode": {
    "name": "ipython",
    "version": 3
   },
   "file_extension": ".py",
   "mimetype": "text/x-python",
   "name": "python",
   "nbconvert_exporter": "python",
   "pygments_lexer": "ipython3",
   "version": "3.7.7"
  }
 },
 "nbformat": 4,
 "nbformat_minor": 2
}
