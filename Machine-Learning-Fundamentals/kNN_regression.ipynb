{
 "cells": [
  {
   "cell_type": "markdown",
   "metadata": {},
   "source": [
    "# k-NN Regression\n",
    "---\n",
    "- Author: Diego Inácio\n",
    "- GitHub: [github.com/diegoinacio](https://github.com/diegoinacio)\n",
    "- Notebook: [kNN_regression.ipynb](https://github.com/diegoinacio/machine-learning-notebooks/blob/master/Machine-Learning-Fundamentals/kNN_regression.ipynb)\n",
    "---\n",
    "Overview and implementation of *k-Nearest Neighbor Regression*."
   ]
  },
  {
   "cell_type": "code",
   "execution_count": null,
   "metadata": {},
   "outputs": [],
   "source": [
    "%matplotlib inline\n",
    "import matplotlib\n",
    "import matplotlib.pyplot as plt\n",
    "import numpy as np\n",
    "\n",
    "from kNN__utils import *"
   ]
  },
  {
   "cell_type": "code",
   "execution_count": null,
   "metadata": {},
   "outputs": [],
   "source": [
    "# Synthetic data 3 and 4\n",
    "X, Y, Z = synthData3()\n",
    "Q1, Q2, VL = synthData4()\n",
    "Q = np.array([Q1, Q2]).T"
   ]
  },
  {
   "cell_type": "markdown",
   "metadata": {},
   "source": [
    "!['kNN regression A'](output/kNN_regressionA.png \"k-Nearest Neighbor Regression A\")"
   ]
  },
  {
   "cell_type": "markdown",
   "metadata": {},
   "source": [
    "## Algorithm\n",
    "---"
   ]
  },
  {
   "cell_type": "code",
   "execution_count": null,
   "metadata": {},
   "outputs": [],
   "source": [
    "class kNNRegr(Distance):\n",
    "    def __init__(self, k=1):\n",
    "        super(kNNRegr, self).__init__()\n",
    "        self._k = k\n",
    "        self._q = None\n",
    "        self._v = None\n",
    "    \n",
    "    def fit(self, X, y):\n",
    "        self._q = X\n",
    "        self._v = y\n",
    "        \n",
    "    def pred(self, P):\n",
    "        y, NNs = [], []\n",
    "        for i, p in enumerate(P):\n",
    "            dist = self.distance(p, self._q)\n",
    "            odist = np.argsort(dist)[:self._k]\n",
    "            fdist = np.ravel(self._v[odist])\n",
    "            ndist = dist[odist]\n",
    "            ndist /= np.sum(ndist)\n",
    "            y += [np.sum(fdist*np.flipud(ndist))]\n",
    "            NNs += [odist]\n",
    "        return np.array(y), np.array(NNs)"
   ]
  },
  {
   "cell_type": "code",
   "execution_count": null,
   "metadata": {},
   "outputs": [],
   "source": [
    "%%time\n",
    "# Synthetic data 5\n",
    "P, xi, yi = synthData5()\n",
    "\n",
    "k = 128\n",
    "knnr = kNNRegr(k)\n",
    "knnr.fit(Q, y=VL)\n",
    "y_, NNs = knnr.pred(P)"
   ]
  },
  {
   "cell_type": "markdown",
   "metadata": {},
   "source": [
    "!['kNN regression B'](output/kNN_regressionB.png \"k-Nearest Neighbor Regression B\")"
   ]
  }
 ],
 "metadata": {
  "kernelspec": {
   "display_name": "Python 3",
   "language": "python",
   "name": "python3"
  },
  "language_info": {
   "codemirror_mode": {
    "name": "ipython",
    "version": 3
   },
   "file_extension": ".py",
   "mimetype": "text/x-python",
   "name": "python",
   "nbconvert_exporter": "python",
   "pygments_lexer": "ipython3",
   "version": "3.7.7"
  }
 },
 "nbformat": 4,
 "nbformat_minor": 2
}
