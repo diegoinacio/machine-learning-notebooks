{
 "cells": [
  {
   "cell_type": "markdown",
   "metadata": {},
   "source": [
    "# k-Nearest Neighbors - Visualizations\n",
    "---\n",
    "- Author: Diego Inácio\n",
    "- GitHub: [github.com/diegoinacio](https://github.com/diegoinacio)"
   ]
  },
  {
   "cell_type": "code",
   "execution_count": null,
   "metadata": {},
   "outputs": [],
   "source": [
    "%matplotlib inline\n",
    "import matplotlib\n",
    "import matplotlib.pyplot as plt\n",
    "import matplotlib.animation as manim\n",
    "from scipy.interpolate import griddata\n",
    "import numpy as np\n",
    "import imageio as iio\n",
    "\n",
    "from kNN__utils import *"
   ]
  },
  {
   "cell_type": "code",
   "execution_count": null,
   "metadata": {},
   "outputs": [],
   "source": [
    "plt.rcParams['figure.figsize'] = (16, 8)"
   ]
  },
  {
   "cell_type": "code",
   "execution_count": null,
   "metadata": {},
   "outputs": [],
   "source": [
    "N = 32\n",
    "np.random.seed(sum([ord(c) for c in 'k-nearest neighbors']))\n",
    "q1 = np.random.uniform(0, 1, N)\n",
    "q2 = np.random.uniform(0, 1, N)\n",
    "cl = q1 >= 0.5\n",
    "\n",
    "fig, axs = plt.subplots(1, 2)\n",
    "\n",
    "r = [1024*15, 1024*60]\n",
    "l = ['k = 1, classe B', 'k = 6, classe A']\n",
    "for i, ax in enumerate(axs):\n",
    "    ax.scatter(q1[~cl], q2[~cl], label='classe A')\n",
    "    ax.scatter(q1[cl], q2[cl], label='classe B')\n",
    "    ax.scatter(0.5, 0.5, marker='*',\n",
    "               s=128, label=l[i])\n",
    "    sc = ax.scatter(0.5, 0.5, s=r[i],\n",
    "                    edgecolors='black',\n",
    "                    facecolor='none')\n",
    "    ax.legend()\n",
    "fig.savefig('output/kNN_introduction.png', bbox_inches='tight')\n",
    "plt.show()"
   ]
  },
  {
   "cell_type": "markdown",
   "metadata": {},
   "source": [
    "## 2. Classification\n",
    "---"
   ]
  },
  {
   "cell_type": "code",
   "execution_count": null,
   "metadata": {},
   "outputs": [],
   "source": [
    "class kNNClass(Distance):\n",
    "    def __init__(self, k=1):\n",
    "        super(kNNClass, self).__init__()\n",
    "        self._k = k\n",
    "        self._q = None\n",
    "        self._class = None\n",
    "    \n",
    "    def fit(self, X, y):\n",
    "        self._q = X\n",
    "        self._class = y\n",
    "    \n",
    "    def pred(self, P):\n",
    "        y, NNs = [], []\n",
    "        for i, p in enumerate(P):\n",
    "            dist = self.distance(p, self._q)\n",
    "            odist = np.argsort(dist)[:self._k]\n",
    "            fdist = np.ravel(self._class[odist])\n",
    "            hist = np.bincount(fdist)\n",
    "            index = np.argmax(hist)\n",
    "            y += [index]\n",
    "            NNs += [odist]\n",
    "        return np.array(y), np.array(NNs)"
   ]
  },
  {
   "cell_type": "code",
   "execution_count": null,
   "metadata": {},
   "outputs": [],
   "source": [
    "# Synthetic data 1\n",
    "q1, q2, CL = synthData1()\n",
    "Q = np.array([q1, q2]).T\n",
    "\n",
    "P = [[0.5, 0.5]]\n",
    "colors = ['#FF00AA', '#AAFF00', '#00AAFF']"
   ]
  },
  {
   "cell_type": "code",
   "execution_count": null,
   "metadata": {
    "scrolled": false
   },
   "outputs": [],
   "source": [
    "%%time\n",
    "fig, [axA, axB] = plt.subplots(1, 2)\n",
    "\n",
    "K = 20\n",
    "\n",
    "def animation(frame):\n",
    "    axA.cla()\n",
    "    knnc = kNNClass(frame + 1)\n",
    "    knnc.fit(Q, y=CL)\n",
    "    y_, NNs = knnc.pred(P)\n",
    "\n",
    "    axA.scatter(*Q[CL == 0].T, c=colors[0], label='class 0')\n",
    "    axA.scatter(*Q[CL == 1].T, c=colors[1], label='class 1')\n",
    "    axA.scatter(*Q[CL == 2].T, c=colors[2], label='class 2')\n",
    "    \n",
    "    hist = np.bincount(CL[NNs[0]], minlength=3)\n",
    "    axB.bar(0, hist[0] + 0.1, color=colors[0])\n",
    "    axB.bar(1, hist[1] + 0.1, color=colors[1])\n",
    "    axB.bar(2, hist[2] + 0.1, color=colors[2])\n",
    "    axB.set_ylim([0, K])\n",
    "\n",
    "    for i, c in enumerate(y_):\n",
    "        axA.scatter(0.5, 0.5, marker='*', s=256, c=colors[c], label='class %s' % c)\n",
    "        for index in NNs[i]:\n",
    "            p1 = [P[i][0], Q[index][0]]\n",
    "            p2 = [P[i][1], Q[index][1]]\n",
    "            axA.plot(p1, p2, ':', alpha=0.25, c='black', zorder=0)\n",
    "    axA.legend()\n",
    "    axA.text(1, 0, 'k = {0:02d}'.format(frame + 1), fontsize =32, ha='right')\n",
    "    \n",
    "    plt.axis('off')\n",
    "    \n",
    "    return fig.canvas.draw()\n",
    "\n",
    "anim = manim.FuncAnimation(fig, animation, frames=K, interval=500)\n",
    "    \n",
    "anim.save('output/kNN_classificationA.gif', writer=\"imagemagick\", extra_args=\"convert\")\n",
    "plt.close()\n",
    "\n",
    "# Solve repetition problem\n",
    "! magick convert output/kNN_classificationA.gif -loop 0 output/kNN_classificationA.gif\n",
    "! echo GIF exported and reconverted. Disregard the any message above."
   ]
  },
  {
   "cell_type": "code",
   "execution_count": null,
   "metadata": {},
   "outputs": [],
   "source": [
    "# Synthetic data 2\n",
    "p1, p2 = synthData2()\n",
    "P = np.array([p1, p2]).T"
   ]
  },
  {
   "cell_type": "code",
   "execution_count": null,
   "metadata": {},
   "outputs": [],
   "source": [
    "%%time\n",
    "fig, axs = plt.subplots(2, 4)\n",
    "\n",
    "for i, ax in np.ndenumerate(axs):\n",
    "    t, s = i\n",
    "    k = 2**(4*t + s)\n",
    "    knnc = kNNClass(k)\n",
    "    knnc.fit(Q, y=CL)\n",
    "\n",
    "    y_, _ = knnc.pred(P)\n",
    "    y_ = np.asarray(y_)\n",
    "    for j in range(3):\n",
    "        ax.scatter(*Q[CL == j].T,\n",
    "                   c=colors[j], s=8)\n",
    "        ax.scatter(*P[y_ == j].T,\n",
    "                   marker='*',\n",
    "                   alpha=0.1,\n",
    "                   c=colors[j],\n",
    "                   s=128,\n",
    "                   edgecolors='none')\n",
    "\n",
    "    ax.set_title('%s-NN' % k)\n",
    "    ax.axis('off')\n",
    "\n",
    "fig.savefig('output/kNN_classificationB.png', bbox_inches='tight')\n",
    "plt.show()"
   ]
  },
  {
   "cell_type": "markdown",
   "metadata": {},
   "source": [
    "## 3. Regression\n",
    "---"
   ]
  },
  {
   "cell_type": "code",
   "execution_count": null,
   "metadata": {},
   "outputs": [],
   "source": [
    "fig, (axA, axB) = plt.subplots(1, 2)\n",
    "\n",
    "# Synthetic data 3 and 4\n",
    "X, Y, Z = synthData3()\n",
    "Q1, Q2, VL = synthData4()\n",
    "Q = np.array([Q1, Q2]).T\n",
    "\n",
    "axA.pcolormesh(X, Y, Z); axA.set_title(r'Function $Z(x, y)$')\n",
    "axB.scatter(*Q.T, c=VL); axB.set_title(r'Train Dataset based on $Z$')\n",
    "fig.savefig('output/kNN_regressionA.png', bbox_inches='tight')\n",
    "plt.show()"
   ]
  },
  {
   "cell_type": "code",
   "execution_count": null,
   "metadata": {},
   "outputs": [],
   "source": [
    "class kNNRegr(Distance):\n",
    "    def __init__(self, k=1):\n",
    "        super(kNNRegr, self).__init__()\n",
    "        self._k = k\n",
    "        self._q = None\n",
    "        self._v = None\n",
    "    \n",
    "    def fit(self, X, y):\n",
    "        self._q = X\n",
    "        self._v = y\n",
    "        \n",
    "    def pred(self, P):\n",
    "        y, NNs = [], []\n",
    "        for i, p in enumerate(P):\n",
    "            dist = self.distance(p, self._q)\n",
    "            odist = np.argsort(dist)[:self._k]\n",
    "            fdist = np.ravel(self._v[odist])\n",
    "            ndist = dist[odist]\n",
    "            ndist /= np.sum(ndist)\n",
    "            y += [np.sum(fdist*np.flipud(ndist))]\n",
    "            NNs += [odist]\n",
    "        return np.array(y), np.array(NNs)"
   ]
  },
  {
   "cell_type": "code",
   "execution_count": null,
   "metadata": {},
   "outputs": [],
   "source": [
    "%%time\n",
    "fig, axs = plt.subplots(2, 4)\n",
    "\n",
    "# Synthetic data 5\n",
    "P, xi, yi = synthData5()\n",
    "\n",
    "for i, ax in np.ndenumerate(axs):\n",
    "    t, s = i\n",
    "    k = 2**(4*t + s)\n",
    "    knnr = kNNRegr(k)\n",
    "    knnr.fit(Q, y=VL)\n",
    "    \n",
    "    y_, NNs = knnr.pred(P)\n",
    "    y_ = np.asarray(y_)\n",
    "\n",
    "    zi = griddata(P, y_, (yi, -xi), method='linear')\n",
    "    ax.imshow(zi)\n",
    "    ax.set_title('%s-NN' % k)\n",
    "    ax.axis('off')\n",
    "\n",
    "fig.savefig('output/kNN_regressionB.png', bbox_inches='tight')\n",
    "plt.show()"
   ]
  }
 ],
 "metadata": {
  "kernelspec": {
   "display_name": "Python 3",
   "language": "python",
   "name": "python3"
  },
  "language_info": {
   "codemirror_mode": {
    "name": "ipython",
    "version": 3
   },
   "file_extension": ".py",
   "mimetype": "text/x-python",
   "name": "python",
   "nbconvert_exporter": "python",
   "pygments_lexer": "ipython3",
   "version": "3.7.10"
  }
 },
 "nbformat": 4,
 "nbformat_minor": 2
}
