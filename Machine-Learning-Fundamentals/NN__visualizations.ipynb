{
 "cells": [
  {
   "cell_type": "markdown",
   "metadata": {},
   "source": [
    "# Neural Network - Visualizations\n",
    "---\n",
    "- Author: Diego Inácio\n",
    "- GitHub: [github.com/diegoinacio](https://github.com/diegoinacio)"
   ]
  },
  {
   "cell_type": "code",
   "execution_count": null,
   "metadata": {},
   "outputs": [],
   "source": [
    "%matplotlib inline\n",
    "import matplotlib\n",
    "import matplotlib.pyplot as plt\n",
    "import matplotlib.animation as manim\n",
    "import numpy as np\n",
    "import imageio as iio\n",
    "\n",
    "from NN__utils import *"
   ]
  },
  {
   "cell_type": "code",
   "execution_count": null,
   "metadata": {},
   "outputs": [],
   "source": [
    "plt.rcParams['figure.figsize'] = (16, 8)\n",
    "plt.set_cmap('prism')"
   ]
  },
  {
   "cell_type": "markdown",
   "metadata": {},
   "source": [
    "## 1. Perceptron\n",
    "---"
   ]
  },
  {
   "cell_type": "code",
   "execution_count": null,
   "metadata": {},
   "outputs": [],
   "source": [
    "%%time\n",
    "fig, (axA, axB) = plt.subplots(1, 2)\n",
    "\n",
    "# Synthetic data 1 and 2\n",
    "x1, y1 = synthData1()\n",
    "x2, y2 = synthData2()\n",
    "\n",
    "# vizualization\n",
    "axA.scatter(*x1, c=y1.ravel())\n",
    "axB.scatter(*x2, c=y2.ravel())\n",
    "fig.savefig('output/NN_perceptron_synthData.png', bbox_inches='tight')\n",
    "plt.show()"
   ]
  },
  {
   "cell_type": "code",
   "execution_count": null,
   "metadata": {},
   "outputs": [],
   "source": [
    "class Perceptron(object):\n",
    "    def __init__(self, dim=2, alpha=0.01, iters=16, seed=1):\n",
    "        super(Perceptron, self).__init__()\n",
    "        self._iters = iters\n",
    "        self._alpha = alpha\n",
    "        np.random.seed(seed)\n",
    "        self._w = np.random.randn(dim, 1)\n",
    "        self._b = np.random.random()\n",
    "        self._cost = 0.0\n",
    "    @property\n",
    "    def iters(self):\n",
    "        return self._iters\n",
    "    @iters.setter\n",
    "    def iters(self, iters):\n",
    "        self._iters = int(iters)\n",
    "    @property\n",
    "    def alpha(self):\n",
    "        return self._alpha\n",
    "    @alpha.setter\n",
    "    def alpha(self, alpha):\n",
    "        self._alpha = int(alpha)\n",
    "    @property\n",
    "    def w(self):\n",
    "        return self._w\n",
    "    @property\n",
    "    def b(self):\n",
    "        return self._b\n",
    "    @property\n",
    "    def cost(self):\n",
    "        return self._cost\n",
    "    def fit(self, X, y):\n",
    "        w, b = self._w, self._b\n",
    "        alpha = self._alpha\n",
    "        m = y.shape[1]\n",
    "        for i in range(self._iters):\n",
    "            Z = np.dot(w.T, X) + b\n",
    "            A = 1/(1 + np.exp(-Z))\n",
    "            dw = 1/m*np.dot(X, (A - y).T)\n",
    "            db = 1/m*np.sum(A - y, axis=1)\n",
    "            w = w - alpha*dw\n",
    "            b = b - alpha*db\n",
    "        self._w, self._b = w, b\n",
    "        self._cost = -1/m*np.sum(y*np.log(A) + (1 - y)*np.log(1 - A), axis=1)\n",
    "        self._cost = np.squeeze(self._cost)\n",
    "    def pred(self, x, beta=0.5):\n",
    "        w, b = self._w, self._b\n",
    "        z = np.dot(w.T, x) + b\n",
    "        a = 1/(1 + np.exp(-z))\n",
    "        return a > beta"
   ]
  },
  {
   "cell_type": "code",
   "execution_count": null,
   "metadata": {},
   "outputs": [],
   "source": [
    "%%time\n",
    "fig, (axA, axB) = plt.subplots(1, 2)\n",
    "\n",
    "X = np.random.uniform(-3, 3, (2, 5000))\n",
    "np.random.seed(sum([ord(e) for e in 'perceptron']))\n",
    "p = Perceptron()\n",
    "\n",
    "K = 20\n",
    "def animation(frame):\n",
    "    axA.cla(); axB.cla()\n",
    "    p.iters = frame*1000 + 1\n",
    "    p.fit(x1, y1)\n",
    "    y1_hat = p.pred(X)\n",
    "    p.fit(x2, y2)\n",
    "    y2_hat = p.pred(X)\n",
    "    axA.scatter(*X, c=y1_hat.ravel(), marker='*',\n",
    "                alpha=0.05, edgecolors='none', s=512)\n",
    "    axA.scatter(*x1, c=y1.ravel())\n",
    "    axB.scatter(*X, c=y2_hat.ravel(), marker='*',\n",
    "                alpha=0.05, edgecolors='none', s=512)\n",
    "    axB.scatter(*x2, c=y2.ravel())\n",
    "    fig.suptitle('learning rate = {0} | iter = {1} | cost = {2:.3f}'.format(p.alpha, p.iters - 1, p.cost))\n",
    "    \n",
    "    return fig.canvas.draw()\n",
    "\n",
    "anim = manim.FuncAnimation(fig, animation, frames=K, interval=500)\n",
    "    \n",
    "anim.save('output/NN_perceptron.gif', writer=\"imagemagick\", extra_args=\"convert\")\n",
    "plt.close()\n",
    "\n",
    "# Solve repetition problem\n",
    "! magick convert output/NN_perceptron.gif -loop 0 output/NN_perceptron.gif\n",
    "! echo GIF exported and reconverted. Disregard any message above."
   ]
  }
 ],
 "metadata": {
  "kernelspec": {
   "display_name": "Python 3",
   "language": "python",
   "name": "python3"
  },
  "language_info": {
   "codemirror_mode": {
    "name": "ipython",
    "version": 3
   },
   "file_extension": ".py",
   "mimetype": "text/x-python",
   "name": "python",
   "nbconvert_exporter": "python",
   "pygments_lexer": "ipython3",
   "version": "3.7.10"
  }
 },
 "nbformat": 4,
 "nbformat_minor": 2
}
