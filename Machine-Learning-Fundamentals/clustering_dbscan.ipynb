{
 "cells": [
  {
   "cell_type": "markdown",
   "metadata": {},
   "source": [
    "# Clustering [DBSCAN]\n",
    "---\n",
    "- Author: Diego Inácio\n",
    "- GitHub: [github.com/diegoinacio](https://github.com/diegoinacio)\n",
    "- Notebook: [clustering_dbscan.ipynb](https://github.com/diegoinacio/machine-learning-notebooks/blob/master/Machine-Learning-Fundamentals/clustering_dbscan.ipynb)\n",
    "---\n",
    "Overview and implementation of *clustering algorithm* using the *DBSCAN* technique."
   ]
  },
  {
   "cell_type": "code",
   "execution_count": null,
   "metadata": {},
   "outputs": [],
   "source": [
    "%matplotlib inline\n",
    "import matplotlib\n",
    "import matplotlib.pyplot as plt\n",
    "import numpy as np\n",
    "\n",
    "from clustering__utils import *"
   ]
  },
  {
   "cell_type": "markdown",
   "metadata": {},
   "source": [
    "## 1. Synthetic data\n",
    "---"
   ]
  },
  {
   "cell_type": "code",
   "execution_count": null,
   "metadata": {},
   "outputs": [],
   "source": [
    "x1, y1, x2, y2 = synthData()\n",
    "X1 = np.array([x1, y1]).T\n",
    "X2 = np.array([x2, y2]).T"
   ]
  },
  {
   "cell_type": "markdown",
   "metadata": {},
   "source": [
    "![synthetic data](output/clustering_synthetic_data.png \"Synthetic data\")"
   ]
  },
  {
   "cell_type": "markdown",
   "metadata": {},
   "source": [
    "## 2. Algorithm\n",
    "---"
   ]
  },
  {
   "cell_type": "code",
   "execution_count": null,
   "metadata": {},
   "outputs": [],
   "source": [
    "class DBSCAN(Distance):\n",
    "    def __init__(self, epsilon=1, minPts=4):\n",
    "        super(DBSCAN, self).__init__()\n",
    "        self._epsilon = epsilon\n",
    "        self._minPts = minPts\n",
    "\n",
    "    def pred(self, X):\n",
    "        n = X.shape[0]\n",
    "        C = 0\n",
    "        label = np.zeros(n, int)\n",
    "        for i, p in enumerate(X):\n",
    "            if label[i]:\n",
    "                continue\n",
    "            d = self.distance(p, X)\n",
    "            conj = d <= self._epsilon\n",
    "            if np.sum(conj) - 1 < self._minPts:\n",
    "                label[i] = -1\n",
    "                continue\n",
    "            C += 1\n",
    "            argwhere = np.argwhere(conj)\n",
    "            argwhere = list(np.ravel(argwhere))\n",
    "            for q in argwhere:\n",
    "                if label[q] == -1:\n",
    "                    label[q] = C\n",
    "                if label[q] != 0:\n",
    "                    continue\n",
    "                label[q] = C\n",
    "                d = self.distance(X[q], np.delete(X, q, axis=0))\n",
    "                conj2 = d <= self._epsilon\n",
    "                if np.sum(conj2) >= self._minPts:\n",
    "                    argwhere2 = np.ravel(np.argwhere(conj2))\n",
    "                    argwhere += [a for a in argwhere2 if a not in argwhere]\n",
    "        return label"
   ]
  },
  {
   "cell_type": "markdown",
   "metadata": {},
   "source": [
    "### 2.1. Application\n",
    "---"
   ]
  },
  {
   "cell_type": "code",
   "execution_count": null,
   "metadata": {},
   "outputs": [],
   "source": [
    "%%time\n",
    "\n",
    "epsilon1 = 0.5; minPts1 = 8\n",
    "dbscan1 = DBSCAN(epsilon1, minPts1)\n",
    "E1 = dbscan1.pred(X1)\n",
    "\n",
    "epsilon2 = 1; minPts2 = 8\n",
    "dbscan2 = DBSCAN(epsilon2, minPts2)\n",
    "E2 = dbscan2.pred(X2)"
   ]
  },
  {
   "cell_type": "markdown",
   "metadata": {},
   "source": [
    "![dbscan](output/clustering_dbscan.png \"DBSCAN\")"
   ]
  }
 ],
 "metadata": {
  "kernelspec": {
   "display_name": "Python 3",
   "language": "python",
   "name": "python3"
  },
  "language_info": {
   "codemirror_mode": {
    "name": "ipython",
    "version": 3
   },
   "file_extension": ".py",
   "mimetype": "text/x-python",
   "name": "python",
   "nbconvert_exporter": "python",
   "pygments_lexer": "ipython3",
   "version": "3.7.7"
  }
 },
 "nbformat": 4,
 "nbformat_minor": 2
}
