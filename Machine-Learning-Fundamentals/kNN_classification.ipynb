{
 "cells": [
  {
   "cell_type": "markdown",
   "metadata": {},
   "source": [
    "# k-NN Classification\n",
    "---\n",
    "- Author: Diego Inácio\n",
    "- GitHub: [github.com/diegoinacio](https://github.com/diegoinacio)\n",
    "- Notebook: [kNN_classification.ipynb](https://github.com/diegoinacio/machine-learning-notebooks/blob/master/Machine-Learning-Fundamentals/kNN_classification.ipynb)\n",
    "---\n",
    "Overview and implementation of *k-Nearest Neighbor Classification*."
   ]
  },
  {
   "cell_type": "code",
   "execution_count": null,
   "metadata": {},
   "outputs": [],
   "source": [
    "%matplotlib inline\n",
    "import matplotlib\n",
    "import matplotlib.pyplot as plt\n",
    "import numpy as np\n",
    "\n",
    "from kNN__utils import *"
   ]
  },
  {
   "cell_type": "markdown",
   "metadata": {},
   "source": [
    "## 1. Algorithm\n",
    "---"
   ]
  },
  {
   "cell_type": "code",
   "execution_count": null,
   "metadata": {},
   "outputs": [],
   "source": [
    "class kNNClass(Distance):\n",
    "    def __init__(self, k=1):\n",
    "        super(kNNClass, self).__init__()\n",
    "        self._k = k\n",
    "        self._q = None\n",
    "        self._class = None\n",
    "    \n",
    "    def fit(self, X, y):\n",
    "        self._q = X\n",
    "        self._class = y\n",
    "    \n",
    "    def pred(self, P):\n",
    "        y, NNs = [], []\n",
    "        for i, p in enumerate(P):\n",
    "            dist = self.distance(p, self._q)\n",
    "            odist = np.argsort(dist)[:self._k]\n",
    "            fdist = np.ravel(self._class[odist])\n",
    "            hist = np.bincount(fdist)\n",
    "            index = np.argmax(hist)\n",
    "            y += [index]\n",
    "            NNs += [odist]\n",
    "        return np.array(y), np.array(NNs)"
   ]
  },
  {
   "cell_type": "code",
   "execution_count": null,
   "metadata": {},
   "outputs": [],
   "source": [
    "# Synthetic data 1\n",
    "Q1, Q2, CL = synthData1()\n",
    "Q = np.array([Q1, Q2]).T\n",
    "\n",
    "p = [[0.5, 0.5]]\n",
    "colors = ['#FF00AA', '#AAFF00', '#00AAFF']"
   ]
  },
  {
   "cell_type": "code",
   "execution_count": null,
   "metadata": {},
   "outputs": [],
   "source": [
    "k = 20\n",
    "knnc = kNNClass(k)\n",
    "knnc.fit(Q, y=CL)\n",
    "y_, NNs = knnc.pred(p)"
   ]
  },
  {
   "cell_type": "markdown",
   "metadata": {},
   "source": [
    "!['kNN classification A'](output/kNN_classificationA.gif \"k-Nearest Neighbor A\")"
   ]
  },
  {
   "cell_type": "code",
   "execution_count": null,
   "metadata": {},
   "outputs": [],
   "source": [
    "%%time \n",
    "\n",
    "# Synthetic data 2\n",
    "P1, P2 = synthData2()\n",
    "P = np.array([P1, P2]).T\n",
    "\n",
    "k = 128\n",
    "knnc = kNNClass(k)\n",
    "knnc.fit(Q, y=CL)\n",
    "y_, NNs = knnc.pred(P)"
   ]
  },
  {
   "cell_type": "markdown",
   "metadata": {},
   "source": [
    "!['kNN classification B'](output/kNN_classificationB.png \"k-Nearest Neighbor B\")"
   ]
  }
 ],
 "metadata": {
  "kernelspec": {
   "display_name": "Python 3",
   "language": "python",
   "name": "python3"
  },
  "language_info": {
   "codemirror_mode": {
    "name": "ipython",
    "version": 3
   },
   "file_extension": ".py",
   "mimetype": "text/x-python",
   "name": "python",
   "nbconvert_exporter": "python",
   "pygments_lexer": "ipython3",
   "version": "3.7.7"
  }
 },
 "nbformat": 4,
 "nbformat_minor": 2
}
