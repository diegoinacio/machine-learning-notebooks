{
 "cells": [
  {
   "cell_type": "markdown",
   "metadata": {},
   "source": [
    "# Linear Regression\n",
    "---\n",
    "- Author: Diego Inácio\n",
    "- GitHub: [github.com/diegoinacio](https://github.com/diegoinacio)\n",
    "- Notebook: [regression_linear.ipynb](https://github.com/diegoinacio/machine-learning-notebooks/blob/master/Machine-Learning-Fundamentals/regression_linear.ipynb)\n",
    "---\n",
    "Overview and implementation of *Linear Regression* analysis."
   ]
  },
  {
   "cell_type": "code",
   "execution_count": null,
   "metadata": {},
   "outputs": [],
   "source": [
    "%matplotlib inline\n",
    "import matplotlib\n",
    "import matplotlib.pyplot as plt\n",
    "import numpy as np\n",
    "\n",
    "from regression__utils import *"
   ]
  },
  {
   "cell_type": "code",
   "execution_count": null,
   "metadata": {},
   "outputs": [],
   "source": [
    "# Synthetic data 1\n",
    "x, yA, yB, yC, yD = synthData1()"
   ]
  },
  {
   "cell_type": "markdown",
   "metadata": {},
   "source": [
    "![linear regression correlation](output/regression_linear_correlation.png \"Linear Regression Correlation\")"
   ]
  },
  {
   "cell_type": "markdown",
   "metadata": {},
   "source": [
    "## 1. Simple\n",
    "---\n",
    "$$ \\large\n",
    "    y_i=mx_i+b\n",
    "$$\n",
    "\n",
    "Where **m** describes the angular coefficient (or line slope) and **b** the linear coefficient (or line y-intersept).\n",
    "\n",
    "$$ \\large\n",
    "    m=\\frac{\\sum_i^n (x_i-\\overline{x})(y_i-\\overline{y})}{\\sum_i^n (x_i-\\overline{x})^2}\n",
    "$$\n",
    "\n",
    "$$ \\large\n",
    "    b=\\overline{y}-m\\overline{x}\n",
    "$$"
   ]
  },
  {
   "cell_type": "code",
   "execution_count": null,
   "metadata": {},
   "outputs": [],
   "source": [
    "class linearRegression_simple(object):\n",
    "    def __init__(self):\n",
    "        self._m = 0\n",
    "        self._b = 0\n",
    "    \n",
    "    def fit(self, X, y):\n",
    "        X = np.array(X)\n",
    "        y = np.array(y)\n",
    "        X_ = X.mean()\n",
    "        y_ = y.mean()\n",
    "        num = ((X - X_)*(y - y_)).sum()\n",
    "        den = ((X - X_)**2).sum()\n",
    "        self._m = num/den\n",
    "        self._b = y_ - self._m*X_\n",
    "    \n",
    "    def pred(self, x):\n",
    "        x = np.array(x)\n",
    "        return self._m*x + self._b"
   ]
  },
  {
   "cell_type": "code",
   "execution_count": null,
   "metadata": {},
   "outputs": [],
   "source": [
    "lrs = linearRegression_simple()"
   ]
  },
  {
   "cell_type": "code",
   "execution_count": null,
   "metadata": {},
   "outputs": [],
   "source": [
    "%%time\n",
    "\n",
    "lrs.fit(x, yA)\n",
    "yA_ = lrs.pred(x)\n",
    "\n",
    "lrs.fit(x, yB)\n",
    "yB_ = lrs.pred(x)\n",
    "\n",
    "lrs.fit(x, yC)\n",
    "yC_ = lrs.pred(x)\n",
    "\n",
    "lrs.fit(x, yD)\n",
    "yD_ = lrs.pred(x)"
   ]
  },
  {
   "cell_type": "markdown",
   "metadata": {},
   "source": [
    "![linear regression prediction](output/regression_linear_pred.png \"Linear Regression Prediction\")\n",
    "\n",
    "$$ \\large\n",
    "MSE=\\frac{1}{n} \\sum_i^n (Y_i- \\hat{Y}_i)^2\n",
    "$$\n",
    "\n",
    "![linear regression residuals](output/regression_linear_residual.png \"Linear Regression Residuals\")"
   ]
  },
  {
   "cell_type": "markdown",
   "metadata": {},
   "source": [
    "## 2. Multiple\n",
    "---\n",
    "$$ \\large\n",
    "y=m_1x_1+m_2x_2+...+m_nx_n+b\n",
    "$$"
   ]
  },
  {
   "cell_type": "code",
   "execution_count": null,
   "metadata": {},
   "outputs": [],
   "source": [
    "class linearRegression_multiple(object):\n",
    "    def __init__(self):\n",
    "        self._m = 0\n",
    "        self._b = 0\n",
    "    \n",
    "    def fit(self, X, y):\n",
    "        X = np.array(X).T\n",
    "        y = np.array(y).reshape(-1, 1)\n",
    "        X_ = X.mean(axis = 0)\n",
    "        y_ = y.mean(axis = 0)\n",
    "        num = ((X - X_)*(y - y_)).sum(axis = 0)\n",
    "        den = ((X - X_)**2).sum(axis = 0)\n",
    "        self._m = num/den\n",
    "        self._b = y_ - (self._m*X_).sum()\n",
    "    \n",
    "    def pred(self, x):\n",
    "        x = np.array(x).T\n",
    "        return (self._m*x).sum(axis = 1) + self._b"
   ]
  },
  {
   "cell_type": "code",
   "execution_count": null,
   "metadata": {},
   "outputs": [],
   "source": [
    "lrm = linearRegression_multiple()"
   ]
  },
  {
   "cell_type": "code",
   "execution_count": null,
   "metadata": {},
   "outputs": [],
   "source": [
    "%%time \n",
    "# Synthetic data 2\n",
    "M = 10\n",
    "s, t, x1, x2, y = synthData2(M)\n",
    "\n",
    "# Prediction\n",
    "lrm.fit([x1, x2], y)\n",
    "y_ = lrm.pred([x1, x2])"
   ]
  },
  {
   "cell_type": "markdown",
   "metadata": {},
   "source": [
    "![linear regression multiple](output/regression_linear_multiple_pred.png \"Linear Regression Multiple\")\n",
    "![linear regression multiple residuals](output/regression_linear_multipla_residual.png \"Linear Regression Multiple Residuals\")"
   ]
  },
  {
   "cell_type": "markdown",
   "metadata": {},
   "source": [
    "## 3. Gradient Descent\n",
    "---\n",
    "$$ \\large\n",
    "    e_{m,b}=\\frac{1}{n} \\sum_i^n (y_i-(mx_i+b))^2\n",
    "$$\n",
    "\n",
    "To perform the gradient descent as a function of the error, it is necessary to calculate the gradient vector $\\nabla$ of the function, described by:\n",
    "\n",
    "$$ \\large\n",
    "\\nabla e_{m,b}=\\Big\\langle\\frac{\\partial e}{\\partial m},\\frac{\\partial e}{\\partial b}\\Big\\rangle\n",
    "$$\n",
    "\n",
    "where:\n",
    "\n",
    "$$ \\large\n",
    "\\begin{aligned}\n",
    "    \\frac{\\partial e}{\\partial m}&=\\frac{2}{n} \\sum_{i}^{n}-x_i(y_i-(mx_i+b)), \\\\\n",
    "    \\frac{\\partial e}{\\partial b}&=\\frac{2}{n} \\sum_{i}^{n}-(y_i-(mx_i+b))\n",
    "\\end{aligned}\n",
    "$$"
   ]
  },
  {
   "cell_type": "code",
   "execution_count": null,
   "metadata": {},
   "outputs": [],
   "source": [
    "class linearRegression_GD(object):\n",
    "    def __init__(self,\n",
    "                 mo = 0,\n",
    "                 bo = 0,\n",
    "                 rate = 0.001):\n",
    "        self._m = mo\n",
    "        self._b = bo\n",
    "        self.rate = rate\n",
    "        \n",
    "    def fit_step(self, X, y):\n",
    "        X = np.array(X)\n",
    "        y = np.array(y)\n",
    "        n = X.size\n",
    "        dm = (2/n)*np.sum(-x*(y - (self._m*x + self._b)))\n",
    "        db = (2/n)*np.sum(-(y - (self._m*x + self._b)))\n",
    "        self._m -= dm*self.rate\n",
    "        self._b -= db*self.rate\n",
    "        \n",
    "    def pred(self, x):\n",
    "        x = np.array(x)\n",
    "        return self._m*x + self._b"
   ]
  },
  {
   "cell_type": "code",
   "execution_count": null,
   "metadata": {},
   "outputs": [],
   "source": [
    "%%time\n",
    "lrgd = linearRegression_GD(rate=0.01)\n",
    "\n",
    "# Synthetic data 3\n",
    "x, x_, y = synthData3()\n",
    "\n",
    "iterations = 3072\n",
    "for i in range(iterations):\n",
    "    lrgd.fit_step(x, y)\n",
    "y_ = lrgd.pred(x)"
   ]
  },
  {
   "cell_type": "markdown",
   "metadata": {},
   "source": [
    "![gradient descent](output/regression_linear_gradDesc.gif \"Gradient Descent\")"
   ]
  },
  {
   "cell_type": "markdown",
   "metadata": {},
   "source": [
    "## 4. Non-linear analysis\n",
    "---"
   ]
  },
  {
   "cell_type": "code",
   "execution_count": null,
   "metadata": {},
   "outputs": [],
   "source": [
    "# Synthetic data 4\n",
    "# Anscombe's quartet\n",
    "x1, y1, x2, y2, x3, y3, x4, y4 = synthData4()"
   ]
  },
  {
   "cell_type": "code",
   "execution_count": null,
   "metadata": {},
   "outputs": [],
   "source": [
    "%%time\n",
    "lrs.fit(x1, y1)\n",
    "y1_ = lrs.pred(x1)\n",
    "\n",
    "lrs.fit(x2, y2)\n",
    "y2_ = lrs.pred(x2)\n",
    "\n",
    "lrs.fit(x3, y3)\n",
    "y3_ = lrs.pred(x3)\n",
    "\n",
    "lrs.fit(x4, y4)\n",
    "y4_ = lrs.pred(x4)"
   ]
  },
  {
   "cell_type": "markdown",
   "metadata": {},
   "source": [
    "![non linear](output/regression_linear_anscombe_pred.png \"Non-linear\")\n",
    "![non linear residuals](output/regression_linear_anscombe_residual.png \"Non-linear Residuals\")"
   ]
  }
 ],
 "metadata": {
  "kernelspec": {
   "display_name": "Python 3",
   "language": "python",
   "name": "python3"
  },
  "language_info": {
   "codemirror_mode": {
    "name": "ipython",
    "version": 3
   },
   "file_extension": ".py",
   "mimetype": "text/x-python",
   "name": "python",
   "nbconvert_exporter": "python",
   "pygments_lexer": "ipython3",
   "version": "3.7.7"
  }
 },
 "nbformat": 4,
 "nbformat_minor": 2
}
