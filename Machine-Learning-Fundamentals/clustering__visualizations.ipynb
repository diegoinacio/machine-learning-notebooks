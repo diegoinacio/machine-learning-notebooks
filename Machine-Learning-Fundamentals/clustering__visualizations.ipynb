{
 "cells": [
  {
   "cell_type": "markdown",
   "metadata": {},
   "source": [
    "# Clustering - Visualizations\n",
    "---\n",
    "- Author: Diego Inácio\n",
    "- GitHub: [github.com/diegoinacio](https://github.com/diegoinacio)"
   ]
  },
  {
   "cell_type": "code",
   "execution_count": null,
   "metadata": {},
   "outputs": [],
   "source": [
    "%matplotlib inline\n",
    "import matplotlib\n",
    "import matplotlib.pyplot as plt\n",
    "import matplotlib.animation as manim\n",
    "import numpy as np\n",
    "import imageio as iio\n",
    "\n",
    "from clustering__utils import *"
   ]
  },
  {
   "cell_type": "code",
   "execution_count": null,
   "metadata": {},
   "outputs": [],
   "source": [
    "plt.rcParams['figure.figsize'] = (16, 8)\n",
    "plt.set_cmap('prism')"
   ]
  },
  {
   "cell_type": "markdown",
   "metadata": {},
   "source": [
    "## 1. Synthetic data\n",
    "---"
   ]
  },
  {
   "cell_type": "code",
   "execution_count": null,
   "metadata": {},
   "outputs": [],
   "source": [
    "%%time\n",
    "fig, (axA, axB) = plt.subplots(1, 2)\n",
    "\n",
    "x1, y1, x2, y2 = synthData()\n",
    "X1 = np.array([x1, y1]).T\n",
    "X2 = np.array([x2, y2]).T\n",
    "    \n",
    "# visualization\n",
    "axA.scatter(x1, y1, s=8); axA.set_title('dataset A')\n",
    "axB.scatter(x2, y2, s=8); axB.set_title('dataset B')\n",
    "\n",
    "plt.savefig('output/clustering_synthetic_data.png', bbox_inches='tight')\n",
    "plt.show()"
   ]
  },
  {
   "cell_type": "markdown",
   "metadata": {},
   "source": [
    "## 2. k-Means\n",
    "---"
   ]
  },
  {
   "cell_type": "code",
   "execution_count": null,
   "metadata": {},
   "outputs": [],
   "source": [
    "class kMeans(Distance):\n",
    "    def __init__(self, K=2, iters=16, seed=1):\n",
    "        super(kMeans, self).__init__()\n",
    "        self._K = K\n",
    "        self._iters = iters\n",
    "        self._seed = seed\n",
    "        self._C = None\n",
    "    \n",
    "    def _FNC(self, x, c, n):\n",
    "        # for each point,\n",
    "        # find the nearest center\n",
    "        cmp = np.ndarray(n, dtype=int)\n",
    "        for i, p in enumerate(x):\n",
    "            d = self.distance(p, self._C)\n",
    "            cmp[i] = np.argmin(d)\n",
    "        return cmp\n",
    "    \n",
    "    def pred(self, X):\n",
    "        # prediction\n",
    "        n, dim = X.shape\n",
    "        np.random.seed(self._seed)\n",
    "        sel = np.random.randint(0, n, self._K)\n",
    "        self._C = X[sel]\n",
    "        cmp = self._FNC(X, self._C, n)\n",
    "        for _ in range(self._iters):\n",
    "            # adjust position of centroids\n",
    "            # to the mean value\n",
    "            for i in range(sel.size):\n",
    "                P = X[cmp == i]\n",
    "                self._C[i] = np.mean(P, axis=0)\n",
    "            cmp = self._FNC(X, self._C, n)\n",
    "        return cmp, self._C"
   ]
  },
  {
   "cell_type": "markdown",
   "metadata": {},
   "source": [
    "### 2.1. Elbow method\n",
    "---"
   ]
  },
  {
   "cell_type": "code",
   "execution_count": null,
   "metadata": {},
   "outputs": [],
   "source": [
    "# elbow method\n",
    "Cs = 12\n",
    "V1 = np.zeros(Cs)\n",
    "V2 = np.zeros(Cs)\n",
    "D = Distance()\n",
    "for k in range(Cs):\n",
    "    kmeans = kMeans(K=k + 1, iters=48, seed=6)\n",
    "    fnc1, C1 = kmeans.pred(X1)\n",
    "    fnc2, C2 = kmeans.pred(X2)\n",
    "    for i, [c1, c2] in enumerate(zip(C1, C2)):\n",
    "        d1 = D.distance(c1, X1[fnc1 == i])**2\n",
    "        d2 = D.distance(c2, X2[fnc2 == i])**2\n",
    "        V1[k] += np.sum(d1)\n",
    "        V2[k] += np.sum(d2)\n",
    "\n",
    "fig, (axA, axB) = plt.subplots(1, 2)\n",
    "\n",
    "axA.plot(range(1, Cs + 1), V1, marker='o')\n",
    "axA.scatter(3, V1[2], s=1024, edgecolor='red', facecolor='none')\n",
    "axA.set_xticks(range(Cs + 1))\n",
    "axA.set_xlim([1, Cs])\n",
    "\n",
    "axB.plot(range(1, Cs + 1), V2, marker='o')\n",
    "axB.scatter(6, V2[5], s=1024, edgecolor='red', facecolor='none')\n",
    "axB.set_xticks(range(Cs + 1))\n",
    "axB.set_xlim([1, Cs])\n",
    "\n",
    "plt.savefig('output/clustering_k-means_elbowMethod.png', bbox_inches='tight')\n",
    "plt.show()"
   ]
  },
  {
   "cell_type": "markdown",
   "metadata": {},
   "source": [
    "### 2.2. Visualization\n",
    "---"
   ]
  },
  {
   "cell_type": "code",
   "execution_count": null,
   "metadata": {},
   "outputs": [],
   "source": [
    "%%time\n",
    "fig, (axA, axB) = plt.subplots(1, 2)\n",
    "\n",
    "iters = 21\n",
    "def animation(frame):\n",
    "    axA.cla() ; axB.cla()\n",
    "    \n",
    "    iters = frame; seed = 6\n",
    "    \n",
    "    K1 = 3\n",
    "    kmeans1 = kMeans(K1, iters, seed)\n",
    "    fnc1, C1 = kmeans1.pred(X1)\n",
    "    \n",
    "    K2 = 6\n",
    "    kmeans2 = kMeans(K2, iters, seed)\n",
    "    fnc2, C2 = kmeans2.pred(X2)\n",
    "    \n",
    "    axA.scatter(*X1.T, c=fnc1, s=8)\n",
    "    axB.scatter(*X2.T, c=fnc2, s=8)\n",
    "    axA.scatter(*C1.T, marker='*', s=256,\n",
    "                c=range(K1), edgecolors='black')\n",
    "    axB.scatter(*C2.T, marker='*', s=256,\n",
    "                c=range(K2), edgecolors='black')\n",
    "    axA.set_title('k = {0} ; i = {1:02d}'.format(K1, frame))\n",
    "    axB.set_title('k = {0} ; i = {1:02d}'.format(K2, frame))\n",
    "\n",
    "    return fig.canvas.draw()\n",
    "\n",
    "anim = manim.FuncAnimation(fig, animation, frames=iters, interval=500)\n",
    "    \n",
    "anim.save('output/clustering_k-means.gif', writer=\"imagemagick\", extra_args=\"convert\")\n",
    "plt.close()\n",
    "\n",
    "# Solve repetition problem\n",
    "! magick convert output/clustering_k-means.gif -loop 0 output/clustering_k-means.gif\n",
    "! echo GIF exported and reconverted. Disregard the any message above."
   ]
  },
  {
   "cell_type": "markdown",
   "metadata": {},
   "source": [
    "## 3. DBSCAN\n",
    "---"
   ]
  },
  {
   "cell_type": "code",
   "execution_count": null,
   "metadata": {},
   "outputs": [],
   "source": [
    "class DBSCAN(Distance):\n",
    "    def __init__(self, epsilon=1, minPts=4):\n",
    "        super(DBSCAN, self).__init__()\n",
    "        self._epsilon = epsilon\n",
    "        self._minPts = minPts\n",
    "\n",
    "    def pred(self, X):\n",
    "        n = X.shape[0]\n",
    "        C = 0\n",
    "        label = np.zeros(n, int)\n",
    "        for i, p in enumerate(X):\n",
    "            if label[i]:\n",
    "                continue\n",
    "            d = self.distance(p, X)\n",
    "            conj = d <= self._epsilon\n",
    "            if np.sum(conj) - 1 < self._minPts:\n",
    "                label[i] = -1\n",
    "                continue\n",
    "            C += 1\n",
    "            argwhere = np.argwhere(conj)\n",
    "            argwhere = list(np.ravel(argwhere))\n",
    "            for q in argwhere:\n",
    "                if label[q] == -1:\n",
    "                    label[q] = C\n",
    "                if label[q] != 0:\n",
    "                    continue\n",
    "                label[q] = C\n",
    "                d = self.distance(X[q], np.delete(X, q, axis=0))\n",
    "                conj2 = d <= self._epsilon\n",
    "                if np.sum(conj2) >= self._minPts:\n",
    "                    argwhere2 = np.ravel(np.argwhere(conj2))\n",
    "                    argwhere += [a for a in argwhere2 if a not in argwhere]\n",
    "        return label"
   ]
  },
  {
   "cell_type": "markdown",
   "metadata": {},
   "source": [
    "### 3.1. Visualization\n",
    "---"
   ]
  },
  {
   "cell_type": "code",
   "execution_count": null,
   "metadata": {},
   "outputs": [],
   "source": [
    "%%time\n",
    "fig, (axA, axB) = plt.subplots(1, 2)\n",
    "\n",
    "epsilon1 = 0.5; minPts1 = 8\n",
    "dbscan1 = DBSCAN(epsilon1, minPts1)\n",
    "E1 = dbscan1.pred(X1)\n",
    "for e in np.unique(E1):\n",
    "    p = (E1 == e).sum()\n",
    "    if p > 1:\n",
    "        label = 'label {0} : {1}'.format(e, p)\n",
    "        axA.scatter(*X1[E1 == e].T, s=8, label=label)\n",
    "axA.legend()\n",
    "axA.set_title(r'$\\epsilon$ = {0} ; minimum points = {1}'.format(epsilon1, minPts1))\n",
    "\n",
    "epsilon2 = 1; minPts2 = 8\n",
    "dbscan2 = DBSCAN(epsilon2, minPts2)\n",
    "E2 = dbscan2.pred(X2)\n",
    "for e in np.unique(E2):\n",
    "    p = (E2 == e).sum()\n",
    "    if p > 1:\n",
    "        label = 'label {0} : {1}'.format(e, p)\n",
    "        axB.scatter(*X2[E2 == e].T, s=8, label=label)\n",
    "axB.legend()\n",
    "axB.set_title(r'$\\epsilon$ = {0} ; minimum points = {1}'.format(epsilon2, minPts2))\n",
    "\n",
    "plt.savefig('output/clustering_dbscan.png', bbox_inches='tight')\n",
    "plt.show()"
   ]
  }
 ],
 "metadata": {
  "kernelspec": {
   "display_name": "Python 3",
   "language": "python",
   "name": "python3"
  },
  "language_info": {
   "codemirror_mode": {
    "name": "ipython",
    "version": 3
   },
   "file_extension": ".py",
   "mimetype": "text/x-python",
   "name": "python",
   "nbconvert_exporter": "python",
   "pygments_lexer": "ipython3",
   "version": "3.7.10"
  }
 },
 "nbformat": 4,
 "nbformat_minor": 2
}
