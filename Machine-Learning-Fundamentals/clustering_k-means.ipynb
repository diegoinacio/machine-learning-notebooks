{
 "cells": [
  {
   "cell_type": "markdown",
   "metadata": {},
   "source": [
    "# Clustering [k-means]\n",
    "---\n",
    "- Author: Diego Inácio\n",
    "- GitHub: [github.com/diegoinacio](https://github.com/diegoinacio)\n",
    "- Notebook: [clustering_k-means.ipynb](https://github.com/diegoinacio/machine-learning-notebooks/blob/master/Machine-Learning-Fundamentals/clustering_k-means.ipynb)\n",
    "---\n",
    "Overview and implementation of *clustering algorithm* using the *k-means* technique."
   ]
  },
  {
   "cell_type": "code",
   "execution_count": null,
   "metadata": {},
   "outputs": [],
   "source": [
    "%matplotlib inline\n",
    "import matplotlib\n",
    "import matplotlib.pyplot as plt\n",
    "import numpy as np\n",
    "\n",
    "from clustering__utils import *"
   ]
  },
  {
   "cell_type": "markdown",
   "metadata": {},
   "source": [
    "## 1. Synthetic data\n",
    "---"
   ]
  },
  {
   "cell_type": "code",
   "execution_count": null,
   "metadata": {},
   "outputs": [],
   "source": [
    "x1, y1, x2, y2 = synthData()\n",
    "X1 = np.array([x1, y1]).T\n",
    "X2 = np.array([x2, y2]).T"
   ]
  },
  {
   "cell_type": "markdown",
   "metadata": {},
   "source": [
    "![synthetic data](output/clustering_synthetic_data.png \"Synthetic data\")"
   ]
  },
  {
   "cell_type": "markdown",
   "metadata": {},
   "source": [
    "## 2. Algorithm\n",
    "---"
   ]
  },
  {
   "cell_type": "code",
   "execution_count": null,
   "metadata": {},
   "outputs": [],
   "source": [
    "class kMeans(Distance):\n",
    "    def __init__(self, K=2, iters=16, seed=1):\n",
    "        super(kMeans, self).__init__()\n",
    "        self._K = K\n",
    "        self._iters = iters\n",
    "        self._seed = seed\n",
    "        self._C = None\n",
    "    \n",
    "    def _FNC(self, x, c, n):\n",
    "        # for each point,\n",
    "        # find the nearest center\n",
    "        cmp = np.ndarray(n, dtype=int)\n",
    "        for i, p in enumerate(x):\n",
    "            d = self.distance(p, self._C)\n",
    "            cmp[i] = np.argmin(d)\n",
    "        return cmp\n",
    "    \n",
    "    def pred(self, X):\n",
    "        # prediction\n",
    "        n, dim = X.shape\n",
    "        np.random.seed(self._seed)\n",
    "        sel = np.random.randint(0, n, self._K)\n",
    "        self._C = X[sel]\n",
    "        cmp = self._FNC(X, self._C, n)\n",
    "        for _ in range(self._iters):\n",
    "            # adjust position of centroids\n",
    "            # to the mean value\n",
    "            for i in range(sel.size):\n",
    "                P = X[cmp == i]\n",
    "                self._C[i] = np.mean(P, axis=0)\n",
    "            cmp = self._FNC(X, self._C, n)\n",
    "        return cmp, self._C"
   ]
  },
  {
   "cell_type": "markdown",
   "metadata": {},
   "source": [
    "### 2.1. Elbow method\n",
    "---\n",
    "Method to define the number of *K*."
   ]
  },
  {
   "cell_type": "code",
   "execution_count": null,
   "metadata": {},
   "outputs": [],
   "source": [
    "%%time\n",
    "\n",
    "# elbow method\n",
    "Cs = 12\n",
    "V1 = np.zeros(Cs)\n",
    "V2 = np.zeros(Cs)\n",
    "D = Distance()\n",
    "for k in range(Cs):\n",
    "    kmeans = kMeans(K=k + 1, seed=6)\n",
    "    fnc1, C1 = kmeans.pred(X1)\n",
    "    fnc2, C2 = kmeans.pred(X2)\n",
    "    for i, [c1, c2] in enumerate(zip(C1, C2)):\n",
    "        d1 = D.distance(c1, X1[fnc1 == i])**2\n",
    "        d2 = D.distance(c2, X2[fnc2 == i])**2\n",
    "        V1[k] += np.sum(d1)\n",
    "        V2[k] += np.sum(d2)"
   ]
  },
  {
   "cell_type": "markdown",
   "metadata": {},
   "source": [
    "![elbow method](output/clustering_k-means_elbowMethod.png \"Elbow Method\")"
   ]
  },
  {
   "cell_type": "markdown",
   "metadata": {},
   "source": [
    "### 2.2. Application\n",
    "---\n",
    "Based on *elbow method* $C_1$ is 3 and $C_2$ is 6."
   ]
  },
  {
   "cell_type": "code",
   "execution_count": null,
   "metadata": {},
   "outputs": [],
   "source": [
    "%%time\n",
    "\n",
    "iters = 20; seed = 6\n",
    "\n",
    "K1 = 3\n",
    "kmeans1 = kMeans(K1, iters, seed)\n",
    "fnc1, C1 = kmeans1.pred(X1)\n",
    "\n",
    "K2 = 6\n",
    "kmeans2 = kMeans(K2, iters, seed)\n",
    "fnc2, C2 = kmeans2.pred(X2)"
   ]
  },
  {
   "cell_type": "markdown",
   "metadata": {},
   "source": [
    "![k-means](output/clustering_k-means.gif \"k-Means\")"
   ]
  }
 ],
 "metadata": {
  "kernelspec": {
   "display_name": "Python 3",
   "language": "python",
   "name": "python3"
  },
  "language_info": {
   "codemirror_mode": {
    "name": "ipython",
    "version": 3
   },
   "file_extension": ".py",
   "mimetype": "text/x-python",
   "name": "python",
   "nbconvert_exporter": "python",
   "pygments_lexer": "ipython3",
   "version": "3.7.7"
  }
 },
 "nbformat": 4,
 "nbformat_minor": 2
}
