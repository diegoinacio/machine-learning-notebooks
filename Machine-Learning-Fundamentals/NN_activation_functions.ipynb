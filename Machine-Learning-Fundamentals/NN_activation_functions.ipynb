{
 "cells": [
  {
   "cell_type": "markdown",
   "metadata": {},
   "source": [
    "# Activation Functions\n",
    "---\n",
    "- Author: Diego Inácio\n",
    "- GitHub: [github.com/diegoinacio](https://github.com/diegoinacio)\n",
    "- Notebook: [NN_activation_functions.ipynb](https://github.com/diegoinacio/machine-learning-notebooks/blob/master/Machine-Learning-Fundamentals/NN_activation_functions.ipynb)\n",
    "---\n",
    "Brief overview about some of the main *activation functions* applicable to *Neural Networks* and *Deep Learning systems*.\n",
    "\n",
    "<font color=\"#CC0000\">[<b>PT-BR</b> content]</font>\n",
    "\n",
    "Em *redes neurais*, a função de ativação $\\large \\varphi$ é a parte do neurônio que promove a não-linearidade na propagação positiva entre os sinais de entrada e a saída. Para a minimização do erro e atualização dos pesos no processo do gradiente descendente e retropropagação, é necessário calcular a derivada parcial da respectiva função, representada por $\\large \\varphi'$. Seguem algumas das funções de ativação mais utilizadas.."
   ]
  },
  {
   "cell_type": "code",
   "execution_count": null,
   "metadata": {},
   "outputs": [],
   "source": [
    "%matplotlib inline\n",
    "import matplotlib.pyplot as plt\n",
    "import numpy as np"
   ]
  },
  {
   "cell_type": "code",
   "execution_count": null,
   "metadata": {},
   "outputs": [],
   "source": [
    "plt.rcParams['figure.figsize'] = (16, 4)\n",
    "def displayPlot(xlim=[-10, 10], ylim=[-0.1, 1.1], ncol=2):\n",
    "    legend = plt.legend(loc=1, ncol=ncol, framealpha=0, bbox_to_anchor=(1, -0.1))\n",
    "    plt.setp(legend.get_texts(), color='0.75', size=12)\n",
    "    plt.grid(True, alpha=0.25)\n",
    "    plt.xlim(xlim); plt.ylim(ylim)"
   ]
  },
  {
   "cell_type": "code",
   "execution_count": null,
   "metadata": {},
   "outputs": [],
   "source": [
    "np.seterr(all = 'ignore')\n",
    "v = np.linspace(-10, 10, 1000)"
   ]
  },
  {
   "cell_type": "markdown",
   "metadata": {},
   "source": [
    "## Identidade\n",
    "---\n",
    "Função biunívoca que retorna o mesmo valor utilizado em sua entrada, de tal forma que $f: x \\mapsto x$. A função identidade é definida por:\n",
    "\n",
    "$$\n",
    "\\large \\varphi(\\upsilon)=\\upsilon\n",
    "\\hspace{2cm}\n",
    "\\therefore\n",
    "\\hspace{2cm}\n",
    "\\varphi'(\\upsilon)=1\n",
    "$$"
   ]
  },
  {
   "cell_type": "code",
   "execution_count": null,
   "metadata": {},
   "outputs": [],
   "source": [
    "phi = v\n",
    "phi_prime = v*0 + 1\n",
    "plt.plot(v, phi, label='função')\n",
    "plt.plot(v, phi_prime, '--', label='derivada')\n",
    "displayPlot(ylim = [-8, 8])"
   ]
  },
  {
   "cell_type": "markdown",
   "metadata": {},
   "source": [
    "Sua forma com inclinação $\\beta$ é definida por: $\\large \\varphi(\\upsilon)=\\alpha \\upsilon$"
   ]
  },
  {
   "cell_type": "code",
   "execution_count": null,
   "metadata": {},
   "outputs": [],
   "source": [
    "B = np.linspace(1, 9, 5)\n",
    "for b in B:\n",
    "    phi = v*b\n",
    "    plt.plot(v, phi, label = 'β = {0:.2f}'.format(b))\n",
    "displayPlot(ncol=len(B), ylim=[-8, 8])"
   ]
  },
  {
   "cell_type": "markdown",
   "metadata": {},
   "source": [
    "## Heaviside\n",
    "---\n",
    "\n",
    "$$\n",
    "\\large \\varphi(\\upsilon)=\n",
    "\\begin{cases}\n",
    "1 ,\\upsilon < 0 \\\\\n",
    "0 ,\\upsilon \\geq 0\n",
    "\\end{cases}\n",
    "\\hspace{2cm}\n",
    "\\therefore\n",
    "\\hspace{2cm}\n",
    "\\varphi'(\\upsilon)=\n",
    "\\begin{cases}\n",
    "0, \\upsilon \\neq 0 \\\\\n",
    "?, \\upsilon = 0\n",
    "\\end{cases}\n",
    "$$"
   ]
  },
  {
   "cell_type": "code",
   "execution_count": null,
   "metadata": {},
   "outputs": [],
   "source": [
    "phi = v >= 0\n",
    "phi_prime = ~(v != 0)\n",
    "plt.plot(v, phi, label='função')\n",
    "plt.plot(v, phi_prime, '--', label='derivada')\n",
    "displayPlot()"
   ]
  },
  {
   "cell_type": "markdown",
   "metadata": {},
   "source": [
    "## Logística\n",
    "---\n",
    "\n",
    "$$\n",
    "\\large \\varphi(\\upsilon)=\\frac{1}{1 + e^{-\\upsilon}}\n",
    "\\hspace{2cm}\n",
    "\\therefore\n",
    "\\hspace{2cm}\n",
    "\\varphi'(\\upsilon)=\\frac{e^{-\\upsilon}}{(1+e^{-\\upsilon})^2}=\\varphi(\\upsilon)(1-\\varphi(\\upsilon))\n",
    "$$"
   ]
  },
  {
   "cell_type": "code",
   "execution_count": null,
   "metadata": {},
   "outputs": [],
   "source": [
    "phi = 1/(1 + np.exp(-v))\n",
    "phi_prime = phi*(1 - phi)\n",
    "plt.plot(v, phi, label='função')\n",
    "plt.plot(v, phi_prime, '--', label='derivada')\n",
    "displayPlot()"
   ]
  },
  {
   "cell_type": "markdown",
   "metadata": {},
   "source": [
    "Sua forma com inclinação $\\beta$ é definida por: $\\large \\varphi(\\upsilon)=\\frac{1}{1+e^{-\\beta \\upsilon}}$"
   ]
  },
  {
   "cell_type": "code",
   "execution_count": null,
   "metadata": {},
   "outputs": [],
   "source": [
    "B = np.linspace(0, 2, 5)\n",
    "for b in B:\n",
    "    phi = 1/(1 + np.exp(-b*v))\n",
    "    plt.plot(v, phi, label='β = {0:.2f}'.format(b))\n",
    "displayPlot(ncol=len(B))"
   ]
  },
  {
   "cell_type": "markdown",
   "metadata": {},
   "source": [
    "## Tangente hiperbólica\n",
    "---\n",
    "$$\n",
    "\\large \\varphi(\\upsilon)=tanh(\\upsilon)=\\frac{2}{1 + e^{-2\\upsilon}}-1\n",
    "\\hspace{2cm}\n",
    "\\therefore\n",
    "\\hspace{2cm}\n",
    "\\varphi'(\\upsilon)=\\frac{4e^{-2\\upsilon}}{(1+e^{-2\\upsilon})^2}=1-\\varphi(\\upsilon)^2\n",
    "$$"
   ]
  },
  {
   "cell_type": "code",
   "execution_count": null,
   "metadata": {},
   "outputs": [],
   "source": [
    "phi = 2/(1 + np.exp(-2*v)) - 1\n",
    "phi_prime = 1 - phi**2\n",
    "plt.plot(v, phi, label='função')\n",
    "plt.plot(v, phi_prime, '--', label='derivada')\n",
    "displayPlot(ylim=[-1.1, 1.1])"
   ]
  },
  {
   "cell_type": "markdown",
   "metadata": {},
   "source": [
    "Sua forma com inclinação $\\beta$ é definida por: $\\large \\varphi(\\upsilon)=\\frac{2}{1+e^{-2\\beta \\upsilon}}-1$"
   ]
  },
  {
   "cell_type": "code",
   "execution_count": null,
   "metadata": {},
   "outputs": [],
   "source": [
    "B = np.linspace(0, 2, 5)\n",
    "for b in B:\n",
    "    phi = 2/(1 + np.exp(-2*b*v)) - 1\n",
    "    plt.plot(v, phi, label='β = {0:.2f}'.format(b))\n",
    "displayPlot(ncol=len(B), ylim=[-1.1, 1.1])"
   ]
  },
  {
   "cell_type": "markdown",
   "metadata": {},
   "source": [
    "## Arco tangente\n",
    "---\n",
    "$$\n",
    "\\large \\varphi(\\upsilon)=tan^{-1}(\\upsilon)\n",
    "\\hspace{2cm}\n",
    "\\therefore\n",
    "\\hspace{2cm}\n",
    "\\varphi'(\\upsilon)=\\frac{1}{1+\\upsilon^2}\n",
    "$$"
   ]
  },
  {
   "cell_type": "code",
   "execution_count": null,
   "metadata": {},
   "outputs": [],
   "source": [
    "phi = np.arctan(v)\n",
    "phi_prime = 1/(v**2 + 1)\n",
    "plt.plot(v, phi, label='função')\n",
    "plt.plot(v, phi_prime, '--', label='derivada')\n",
    "displayPlot(ylim=[-1.6, 1.6])"
   ]
  },
  {
   "cell_type": "markdown",
   "metadata": {},
   "source": [
    "Sua forma com inclinação $\\beta$ é definida por: $\\large \\varphi(\\upsilon)=tan^{-1}(\\beta\\upsilon)$"
   ]
  },
  {
   "cell_type": "code",
   "execution_count": null,
   "metadata": {},
   "outputs": [],
   "source": [
    "B = np.linspace(0, 2, 5)\n",
    "for b in B:\n",
    "    phi = np.arctan(b*v)\n",
    "    plt.plot(v, phi, label='β = {0:.2f}'.format(b))\n",
    "displayPlot(ncol=len(B), ylim=[-1.6, 1.6])"
   ]
  },
  {
   "cell_type": "markdown",
   "metadata": {},
   "source": [
    "## SoftSign\n",
    "---\n",
    "$$\n",
    "\\large \\varphi(\\upsilon)=\\frac{\\upsilon}{1 + \\mid\\upsilon\\mid}\n",
    "\\hspace{2cm}\n",
    "\\therefore\n",
    "\\hspace{2cm}\n",
    "\\varphi(\\upsilon)=\\frac{1}{(1 + \\mid\\upsilon\\mid)^2}\n",
    "$$"
   ]
  },
  {
   "cell_type": "code",
   "execution_count": null,
   "metadata": {},
   "outputs": [],
   "source": [
    "phi = v/(1 + np.abs(v))\n",
    "phi_prime = 1/(1 + np.abs(v))**2\n",
    "plt.plot(v, phi, label='função')\n",
    "plt.plot(v, phi_prime, '--', label='derivada')\n",
    "displayPlot(ylim=[-1.1, 1.1])"
   ]
  },
  {
   "cell_type": "markdown",
   "metadata": {},
   "source": [
    "Sua forma com inclinação $\\beta$ é definida por: $\\large \\varphi(\\upsilon)=\\frac{\\beta\\upsilon}{1+\\mid \\beta\\upsilon \\mid}$"
   ]
  },
  {
   "cell_type": "code",
   "execution_count": null,
   "metadata": {},
   "outputs": [],
   "source": [
    "B = np.linspace(0, 2, 5)\n",
    "for b in B:\n",
    "    phi = b*v/(1 + np.abs(b*v))\n",
    "    plt.plot(v, phi, label='β = {0:.2f}'.format(b))\n",
    "displayPlot(ncol=len(B), ylim=[-1.1, 1.1])"
   ]
  },
  {
   "cell_type": "markdown",
   "metadata": {},
   "source": [
    "## ReLU\n",
    "---\n",
    "\n",
    "$$\n",
    "\\large \\varphi(\\upsilon)=\n",
    "\\begin{cases}\n",
    "0 ,\\upsilon < 0 \\\\\n",
    "\\upsilon ,\\upsilon \\geq 0\n",
    "\\end{cases}\n",
    "\\hspace{2cm}\n",
    "\\therefore\n",
    "\\hspace{2cm}\n",
    "\\varphi'(\\upsilon)=\n",
    "\\begin{cases}\n",
    "0, \\upsilon < 0 \\\\\n",
    "1, \\upsilon \\geq 0\n",
    "\\end{cases}\n",
    "$$"
   ]
  },
  {
   "cell_type": "code",
   "execution_count": null,
   "metadata": {},
   "outputs": [],
   "source": [
    "phi = v*(v >= 0)\n",
    "phi_prime = (v >= 0)\n",
    "plt.plot(v, phi, label='função')\n",
    "plt.plot(v, phi_prime, '--', label='derivada')\n",
    "displayPlot(xlim=[-2, 2], ylim=[-0.1, 1.1])"
   ]
  },
  {
   "cell_type": "markdown",
   "metadata": {},
   "source": [
    "Sua forma com inclinação $\\beta$ é definida por: $\\large \\varphi(\\upsilon)=\\begin{cases}0 ,\\upsilon < 0 \\\\\\beta \\upsilon ,\\upsilon \\geq 0\\end{cases}$"
   ]
  },
  {
   "cell_type": "code",
   "execution_count": null,
   "metadata": {},
   "outputs": [],
   "source": [
    "B = np.linspace(0, 2, 5)\n",
    "for b in B:\n",
    "    phi = b*v*(v >= 0)\n",
    "    plt.plot(v, phi, label='β = {0:.2f}'.format(b))\n",
    "displayPlot(ncol=len(B), xlim=[-2, 2], ylim=[-0.1, 1.1])"
   ]
  },
  {
   "cell_type": "markdown",
   "metadata": {},
   "source": [
    "## PReLU\n",
    "---\n",
    "\n",
    "$$\n",
    "\\large \\varphi(\\alpha, \\upsilon)=\n",
    "\\begin{cases}\n",
    "\\alpha \\upsilon ,\\upsilon < 0 \\\\\n",
    "\\upsilon ,\\upsilon \\geq 0\n",
    "\\end{cases}\n",
    "\\hspace{2cm}\n",
    "\\therefore\n",
    "\\hspace{2cm}\n",
    "\\varphi'(\\alpha, \\upsilon)=\n",
    "\\begin{cases}\n",
    "\\alpha, \\upsilon < 0 \\\\\n",
    "1, \\upsilon \\geq 0\n",
    "\\end{cases}\n",
    "$$"
   ]
  },
  {
   "cell_type": "code",
   "execution_count": null,
   "metadata": {},
   "outputs": [],
   "source": [
    "a = 0.2\n",
    "phi = np.where(v >= 0, v, a*v)\n",
    "phi_prime = np.where(v >= 0, 1, a)\n",
    "plt.plot(v, phi, label='função (α = {0})'.format(a))\n",
    "plt.plot(v, phi_prime, '--', label='derivada')\n",
    "displayPlot(xlim=[-2, 2], ylim=[-0.6, 1.1])"
   ]
  },
  {
   "cell_type": "markdown",
   "metadata": {},
   "source": [
    "Variando $\\alpha$ temos:"
   ]
  },
  {
   "cell_type": "code",
   "execution_count": null,
   "metadata": {},
   "outputs": [],
   "source": [
    "A = np.linspace(0, 2, 5)\n",
    "for a in A:\n",
    "    phi = np.where(v >= 0, v, a*v)\n",
    "    plt.plot(v, phi, label='α = {0:.2f}'.format(a))\n",
    "displayPlot(ncol=len(A), xlim=[-2, 2], ylim=[-1.1, 1.1])"
   ]
  },
  {
   "cell_type": "markdown",
   "metadata": {},
   "source": [
    "## ELU\n",
    "---\n",
    "\n",
    "$$\n",
    "\\large \\varphi(\\alpha, \\upsilon)=\n",
    "\\begin{cases}\n",
    "\\alpha(e^\\upsilon-1) ,\\upsilon < 0 \\\\\n",
    "\\upsilon ,\\upsilon \\geq 0\n",
    "\\end{cases}\n",
    "\\hspace{2cm}\n",
    "\\therefore\n",
    "\\hspace{2cm}\n",
    "\\varphi'(\\alpha, \\upsilon)=\n",
    "\\begin{cases}\n",
    "\\varphi(\\upsilon) + \\alpha, \\upsilon < 0 \\\\\n",
    "1, \\upsilon \\geq 0\n",
    "\\end{cases}\n",
    "$$"
   ]
  },
  {
   "cell_type": "code",
   "execution_count": null,
   "metadata": {},
   "outputs": [],
   "source": [
    "a = 1\n",
    "phi = np.where(v >= 0, v, a*(np.exp(v) - 1))\n",
    "phi_prime = np.where(v >= 0, 1, phi + a)\n",
    "plt.plot(v, phi, label='função (α = {0})'.format(a))\n",
    "plt.plot(v, phi_prime, '--', label='derivada')\n",
    "displayPlot(xlim=[-2, 2], ylim=[-1.1, 1.1])"
   ]
  },
  {
   "cell_type": "markdown",
   "metadata": {},
   "source": [
    "Variando $\\alpha$ temos:"
   ]
  },
  {
   "cell_type": "code",
   "execution_count": null,
   "metadata": {},
   "outputs": [],
   "source": [
    "A= np.linspace(0, 2, 5)\n",
    "for a in A:\n",
    "    phi = np.where(v >= 0, v, a*(np.exp(v) - 1))\n",
    "    plt.plot(v, phi, label='α = {0:.2f}'.format(a))\n",
    "displayPlot(ncol=len(A), xlim=[-2, 2], ylim=[-1.1, 1.1])"
   ]
  },
  {
   "cell_type": "markdown",
   "metadata": {},
   "source": [
    "## SoftPlus\n",
    "---\n",
    "\n",
    "$$\n",
    "\\large \\varphi(\\upsilon)=\\ln(1+e^\\upsilon)\n",
    "\\hspace{2cm}\n",
    "\\therefore\n",
    "\\hspace{2cm}\n",
    "\\varphi'(\\upsilon)=\\frac{1}{1+e^{-\\upsilon}}\n",
    "$$"
   ]
  },
  {
   "cell_type": "code",
   "execution_count": null,
   "metadata": {},
   "outputs": [],
   "source": [
    "phi = np.log(1 + np.exp(v))\n",
    "phi_prime = 1/(1 + np.exp(-v))\n",
    "plt.plot(v, phi, label='função')\n",
    "plt.plot(v, phi_prime, '--', label='derivada')\n",
    "displayPlot(ylim=[-0.1, 2])"
   ]
  },
  {
   "cell_type": "markdown",
   "metadata": {},
   "source": [
    "Sua forma com inclinação $\\beta$ é definida por: $\\large \\varphi(\\upsilon)=\\frac{1}{1+e^{-\\beta \\upsilon}}$"
   ]
  },
  {
   "cell_type": "code",
   "execution_count": null,
   "metadata": {},
   "outputs": [],
   "source": [
    "B = np.linspace(0, 2, 5)\n",
    "for b in B:\n",
    "    phi = np.log(1 + np.exp(b*v))\n",
    "    plt.plot(v, phi, label='β = {0:.2f}'.format(b))\n",
    "displayPlot(ncol=len(B), ylim=[-0.1, 2])"
   ]
  },
  {
   "cell_type": "markdown",
   "metadata": {},
   "source": [
    "## SoftExponential\n",
    "---\n",
    "\n",
    "$$\n",
    "\\large \\varphi(\\alpha, \\upsilon)=\n",
    "\\begin{cases}\n",
    "-\\frac{\\ln(1 - \\alpha(\\alpha+\\upsilon))}{\\alpha}, \\alpha < 0 \\\\\n",
    "\\upsilon, \\alpha=0 \\\\\n",
    "\\alpha + \\frac{e^{\\alpha\\upsilon}-1}{\\alpha}, \\alpha > 0\n",
    "\\end{cases}\n",
    "\\hspace{2cm}\n",
    "\\therefore\n",
    "\\hspace{2cm}\n",
    "\\varphi'(\\alpha, \\upsilon)=\n",
    "\\begin{cases}\n",
    "\\frac{1}{1-\\alpha(\\alpha+\\upsilon)}, \\alpha < 0 \\\\\n",
    "e^{\\alpha\\upsilon}, \\alpha \\geq 0\n",
    "\\end{cases}\n",
    "$$"
   ]
  },
  {
   "cell_type": "code",
   "execution_count": null,
   "metadata": {},
   "outputs": [],
   "source": [
    "a = 0.5\n",
    "phi = np.where(a == 0, v,\n",
    "     np.where(a > 0, (np.exp(a*v) - 1)/a,\n",
    "              - np.log(1 - a*(a + v))/a))\n",
    "phi_prime = np.where(a >= 0, a + np.exp(a*v),\n",
    "                     1/(1 - a*(a + v)))\n",
    "plt.plot(v, phi, label='função (α = {0})'.format(a))\n",
    "plt.plot(v, phi_prime, '--', label='derivada')\n",
    "displayPlot(ylim=[-2.1, 2.1])"
   ]
  },
  {
   "cell_type": "markdown",
   "metadata": {},
   "source": [
    "Variando $\\alpha$ temos:"
   ]
  },
  {
   "cell_type": "code",
   "execution_count": null,
   "metadata": {},
   "outputs": [],
   "source": [
    "A = np.linspace(-1.1, 1, 5)\n",
    "for a in A:\n",
    "    phi = np.where(a == 0, v,\n",
    "         np.where(a > 0, a + (np.exp(a*v) - 1)/a, \n",
    "                 - np.log(1 - a*(a + v))/a))\n",
    "    plt.plot(v, phi, label='β = {0:.2f}'.format(a))\n",
    "displayPlot(ncol=len(A), ylim=[-2.1, 2.1])"
   ]
  },
  {
   "cell_type": "markdown",
   "metadata": {},
   "source": [
    "## Sinusóide\n",
    "---\n",
    "\n",
    "$$\n",
    "\\large \\varphi(\\upsilon)=sin(\\upsilon)\n",
    "\\hspace{2cm}\n",
    "\\therefore\n",
    "\\hspace{2cm}\n",
    "\\varphi'(\\upsilon)=cos(\\upsilon)\n",
    "$$"
   ]
  },
  {
   "cell_type": "code",
   "execution_count": null,
   "metadata": {},
   "outputs": [],
   "source": [
    "phi = np.sin(v)\n",
    "phi_prime = np.cos(v)\n",
    "plt.plot(v, phi, label='função')\n",
    "plt.plot(v, phi_prime, '--', label='derivada')\n",
    "displayPlot(ylim=[-1.1, 1.1])"
   ]
  },
  {
   "cell_type": "markdown",
   "metadata": {},
   "source": [
    "Sua forma com parâmetro $\\beta$ é definida por: $\\large \\varphi(\\upsilon)=sin(\\beta x)$"
   ]
  },
  {
   "cell_type": "code",
   "execution_count": null,
   "metadata": {},
   "outputs": [],
   "source": [
    "B = np.linspace(1, 2, 5)\n",
    "for b in B:\n",
    "    phi = np.sin(b*v)\n",
    "    plt.plot(v, phi, label='β = {0:.2f}'.format(b))\n",
    "displayPlot(ncol=len(B), ylim=[-1.1, 1.1])"
   ]
  },
  {
   "cell_type": "markdown",
   "metadata": {},
   "source": [
    "## Seno cardinal\n",
    "---\n",
    "\n",
    "$$\n",
    "\\large \\varphi(\\alpha, \\upsilon)=\n",
    "\\begin{cases}\n",
    "1, \\upsilon = 0 \\\\\n",
    "\\frac{sin(\\upsilon)}{\\upsilon}, \\upsilon \\neq 0\n",
    "\\end{cases}\n",
    "\\hspace{2cm}\n",
    "\\therefore\n",
    "\\hspace{2cm}\n",
    "\\varphi'(\\alpha, \\upsilon)=\n",
    "\\begin{cases}\n",
    "0, \\upsilon = 0 \\\\\n",
    "\\frac{cos(\\upsilon)}{\\upsilon} - \\frac{sin(\\upsilon)}{\\upsilon^2}, \\upsilon \\neq 0\n",
    "\\end{cases}\n",
    "$$"
   ]
  },
  {
   "cell_type": "code",
   "execution_count": null,
   "metadata": {},
   "outputs": [],
   "source": [
    "phi = np.where(v == 0, 1, np.sin(v)/v)\n",
    "phi_prime = np.where(v == 0, 0, np.cos(v)/v - np.sin(v)/v**2)\n",
    "plt.plot(v, phi, label='função)')\n",
    "plt.plot(v, phi_prime, '--', label='derivada')\n",
    "displayPlot(ylim=[-1.1, 1.1])"
   ]
  },
  {
   "cell_type": "markdown",
   "metadata": {},
   "source": [
    "Sua forma com parâmetro $\\beta$ é definida por: $\\large \\varphi(\\upsilon)=\\begin{cases}1 ,\\upsilon = 0 \\\\\\frac{sin(\\beta\\upsilon)}{\\beta\\upsilon},\\upsilon \\neq 0\\end{cases}$"
   ]
  },
  {
   "cell_type": "code",
   "execution_count": null,
   "metadata": {},
   "outputs": [],
   "source": [
    "B = np.linspace(0.1, 2, 5)\n",
    "for b in B:\n",
    "    phi = np.where(v == 0, 1, np.sin(b*v)/(b*v))\n",
    "    plt.plot(v, phi, label='β = {0:.2f}'.format(b))\n",
    "displayPlot(ncol=len(B), ylim=[-0.3, 1.1])"
   ]
  },
  {
   "cell_type": "markdown",
   "metadata": {},
   "source": [
    "## Gaussiana\n",
    "---\n",
    "\n",
    "$$\n",
    "\\large \\varphi(\\upsilon)=e^{-\\upsilon^2}\n",
    "\\hspace{2cm}\n",
    "\\therefore\n",
    "\\hspace{2cm}\n",
    "\\varphi'(\\upsilon)=-2\\upsilon e^{-\\upsilon^2}\n",
    "$$"
   ]
  },
  {
   "cell_type": "code",
   "execution_count": null,
   "metadata": {},
   "outputs": [],
   "source": [
    "phi = np.exp(-v**2)\n",
    "phi_prime = -2*v*np.exp(-v**2)\n",
    "plt.plot(v, phi, label='função')\n",
    "plt.plot(v, phi_prime, '--', label='derivada')\n",
    "displayPlot(xlim=[-4, 4], ylim=[-1.1, 1.1])"
   ]
  },
  {
   "cell_type": "markdown",
   "metadata": {},
   "source": [
    "Sua forma com parâmetro $\\beta$ é definida por: $\\large \\varphi(\\upsilon)=e^{-\\beta\\upsilon^2}$"
   ]
  },
  {
   "cell_type": "code",
   "execution_count": null,
   "metadata": {},
   "outputs": [],
   "source": [
    "B = np.linspace(0, 2, 5)\n",
    "for b in B:\n",
    "    phi = np.exp(-b*v**2)\n",
    "    plt.plot(v, phi, label='β = {0:.2f}'.format(b))\n",
    "displayPlot(ncol=len(B), xlim=[-4, 4], ylim=[-0.1, 1.1])"
   ]
  }
 ],
 "metadata": {
  "kernelspec": {
   "display_name": "Python 3",
   "language": "python",
   "name": "python3"
  },
  "language_info": {
   "codemirror_mode": {
    "name": "ipython",
    "version": 3
   },
   "file_extension": ".py",
   "mimetype": "text/x-python",
   "name": "python",
   "nbconvert_exporter": "python",
   "pygments_lexer": "ipython3",
   "version": "3.7.7"
  }
 },
 "nbformat": 4,
 "nbformat_minor": 2
}
