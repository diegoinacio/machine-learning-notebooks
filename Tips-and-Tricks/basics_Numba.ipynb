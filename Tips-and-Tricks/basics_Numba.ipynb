{
 "cells": [
  {
   "cell_type": "markdown",
   "metadata": {},
   "source": [
    "# Basics [Numba]\n",
    "---\n",
    "- Author: Diego Inácio\n",
    "- GitHub: [github.com/diegoinacio](https://github.com/diegoinacio)\n",
    "- Notebook: [basics_Numba.ipynb](https://github.com/diegoinacio/machine-learning-notebooks/blob/master/Tips-and-Tricks/basics_Numba.ipynb)\n",
    "---\n",
    "Basic functions and operations using [Numba](http://numba.pydata.org/), *NumPy* and *Python*."
   ]
  },
  {
   "cell_type": "code",
   "execution_count": null,
   "metadata": {},
   "outputs": [],
   "source": [
    "import numpy as np"
   ]
  },
  {
   "cell_type": "markdown",
   "metadata": {},
   "source": [
    "## Installation\n",
    "---\n",
    "\n",
    "[Installation](http://numba.pydata.org/numba-doc/latest/user/installing.html) command for *anaconda* and *pip*:\n",
    "\n",
    "```\n",
    "$ conda install numba\n",
    "```\n",
    "\n",
    "or\n",
    "\n",
    "```\n",
    "$ pip install numba\n",
    "```"
   ]
  },
  {
   "cell_type": "code",
   "execution_count": null,
   "metadata": {},
   "outputs": [],
   "source": [
    "import numba"
   ]
  },
  {
   "cell_type": "markdown",
   "metadata": {},
   "source": [
    "## Jit\n",
    "---\n",
    "Jit is the principal and most fundamental Numba's feature. It is a compiler which basically converts a function into efficient machine code."
   ]
  },
  {
   "cell_type": "code",
   "execution_count": null,
   "metadata": {},
   "outputs": [],
   "source": [
    "from numba import jit"
   ]
  },
  {
   "cell_type": "markdown",
   "metadata": {},
   "source": [
    "For example, given a matrix $M$ which is expected the sum of all elements. In a \"Pythonic\" way, the probom could be solved by:"
   ]
  },
  {
   "cell_type": "code",
   "execution_count": null,
   "metadata": {},
   "outputs": [],
   "source": [
    "def sum_matrix(M):\n",
    "    N1, N2 = M.shape\n",
    "    result = 0\n",
    "    for i in range(N1):\n",
    "        for j in range(N2):\n",
    "            result += M[i, j]\n",
    "    return result"
   ]
  },
  {
   "cell_type": "markdown",
   "metadata": {},
   "source": [
    "Despite Numpy having a native proper function to get this value, *jit* can converts the function in such as faster as **np.sum**. The procedure is basically to pass the original functions as an argument."
   ]
  },
  {
   "cell_type": "code",
   "execution_count": null,
   "metadata": {},
   "outputs": [],
   "source": [
    "sum_matrix_jit = jit()(sum_matrix)"
   ]
  },
  {
   "cell_type": "code",
   "execution_count": null,
   "metadata": {},
   "outputs": [],
   "source": [
    "np.random.seed(1234)\n",
    "M = np.random.random([int(4e3)]*2)\n",
    "# Time measurement over the situations\n",
    "print('{:<14} |'.format('sum_matrix'), end=' ')\n",
    "%timeit -n 1 -r 3 sum_matrix(M)\n",
    "print('{:<14} |'.format('np.sum'), end=' ')\n",
    "%timeit -n 5 -r 10 np.sum(M)\n",
    "print('{:<14} |'.format('sum_matrix_jit'), end=' ')\n",
    "%timeit -n 5 -r 10 sum_matrix_jit(M)"
   ]
  },
  {
   "cell_type": "markdown",
   "metadata": {},
   "source": [
    "### Using decorator @jit\n",
    "---\n",
    "A common way to work with numba's features is through decorators. The equivalent process to get the function conversion *jit()(sum_matrix)* using decorator would be by:"
   ]
  },
  {
   "cell_type": "code",
   "execution_count": null,
   "metadata": {},
   "outputs": [],
   "source": [
    "@jit\n",
    "def sum_matrix_jit(M):\n",
    "    N1, N2 = M.shape\n",
    "    result = 0\n",
    "    for i in range(N1):\n",
    "        for j in range(N2):\n",
    "            result += M[i, j]\n",
    "    return result"
   ]
  },
  {
   "cell_type": "markdown",
   "metadata": {},
   "source": [
    "### nopython and @njit\n",
    "---\n",
    "Run *jit* entirely without the involvement of the Python interpreter. This mode promotes a best performance for loop based functions. For any non numerical situation which python interpreter is important, this mode must be avoided."
   ]
  },
  {
   "cell_type": "code",
   "execution_count": null,
   "metadata": {},
   "outputs": [],
   "source": [
    "from numba import njit"
   ]
  },
  {
   "cell_type": "markdown",
   "metadata": {},
   "source": [
    "Both decorators **@njit** and **@jit(nopython=True)** are the same."
   ]
  },
  {
   "cell_type": "code",
   "execution_count": null,
   "metadata": {},
   "outputs": [],
   "source": [
    "@njit # or @jit(nopython=True)\n",
    "def sum_matrix_njit(M):\n",
    "    N1, N2 = M.shape\n",
    "    result = 0\n",
    "    for i in range(N1):\n",
    "        for j in range(N2):\n",
    "            result += M[i, j]\n",
    "    return result"
   ]
  },
  {
   "cell_type": "code",
   "execution_count": null,
   "metadata": {},
   "outputs": [],
   "source": [
    "# Time measurement\n",
    "print('{:<15} |'.format('sum_matrix_jit'), end=' ')\n",
    "%timeit -n 5 -r 10 sum_matrix_jit(M)\n",
    "print('{:<15} |'.format('sum_matrix_njit'), end=' ')\n",
    "%timeit -n 5 -r 10 sum_matrix_njit(M)"
   ]
  },
  {
   "cell_type": "markdown",
   "metadata": {},
   "source": [
    "### *parallel* flag and *prange*\n",
    "---\n",
    "Jit has a flag which enables the automatic parallelization, and in addition, Numba has implemented the ability to run loops in parallel using *prange*."
   ]
  },
  {
   "cell_type": "code",
   "execution_count": null,
   "metadata": {},
   "outputs": [],
   "source": [
    "from numba import prange"
   ]
  },
  {
   "cell_type": "code",
   "execution_count": null,
   "metadata": {},
   "outputs": [],
   "source": [
    "@jit(nopython=True, parallel=True)\n",
    "def sum_matrix_pjit(M):\n",
    "    N1, N2 = M.shape\n",
    "    result = 0\n",
    "    for i in prange(N1):\n",
    "        for j in prange(N2):\n",
    "            result += M[i, j]\n",
    "    return result"
   ]
  },
  {
   "cell_type": "code",
   "execution_count": null,
   "metadata": {},
   "outputs": [],
   "source": [
    "# Time measurement over the situations\n",
    "print('{:<15} |'.format('sum_matrix_njit'), end=' ')\n",
    "%timeit -n 5 -r 10 sum_matrix_njit(M)\n",
    "print('{:<15} |'.format('sum_matrix_pjit'), end=' ')\n",
    "%timeit -n 5 -r 10 sum_matrix_pjit(M)"
   ]
  },
  {
   "cell_type": "markdown",
   "metadata": {},
   "source": [
    "## Vectorization\n",
    "---\n",
    "Functions which operate over array elements."
   ]
  },
  {
   "cell_type": "code",
   "execution_count": null,
   "metadata": {},
   "outputs": [],
   "source": [
    "from numba import void, int64, float64"
   ]
  },
  {
   "cell_type": "markdown",
   "metadata": {},
   "source": [
    "### @vectorize\n",
    "---\n",
    "Efficient way to write functions [ufunc](https://docs.scipy.org/doc/numpy/reference/ufuncs.html) which operate over each element of n-dimensional arrays. The auxiliar arguments can be scalar or other arrays which must have the same dims so each element will obey the same order."
   ]
  },
  {
   "cell_type": "code",
   "execution_count": null,
   "metadata": {},
   "outputs": [],
   "source": [
    "from numba import vectorize"
   ]
  },
  {
   "cell_type": "markdown",
   "metadata": {},
   "source": [
    "The following example calculates the [Greatest Common Factor](https://en.wikipedia.org/wiki/Greatest_common_divisor) between each element pair from the matrices $M_1$ and $M_2$. The \"*vectorized*\" function operates over the relative elements $x_{1,i}$ and $x_{2,i}$."
   ]
  },
  {
   "cell_type": "code",
   "execution_count": null,
   "metadata": {},
   "outputs": [],
   "source": [
    "@vectorize(\n",
    "    [int64(int64, int64)],\n",
    "    target='parallel'\n",
    ")\n",
    "def GCF(x1, x2):\n",
    "    result = 1\n",
    "    x = min(x1, x2)\n",
    "    for i in prange(2, x + 1):\n",
    "        div1 = (x1 % i) == 0\n",
    "        div2 = (x2 % i) == 0\n",
    "        if div1 and div2:\n",
    "            result = i\n",
    "    return result"
   ]
  },
  {
   "cell_type": "code",
   "execution_count": null,
   "metadata": {},
   "outputs": [],
   "source": [
    "N = 1024\n",
    "np.random.seed(1234)\n",
    "M1 = np.random.randint(1, 99, (N, N))\n",
    "M2 = np.random.randint(1, 99, (N, N))\n",
    "# Time measurement\n",
    "%timeit -n 5 -r 10 GCF(M1, M2)"
   ]
  },
  {
   "cell_type": "code",
   "execution_count": null,
   "metadata": {},
   "outputs": [],
   "source": [
    "# Example using 4x30 matrices\n",
    "np.random.seed(1234)\n",
    "M1 = np.random.randint(1, 99, (4, 30))\n",
    "M2 = np.random.randint(1, 99, (4, 30))\n",
    "# Visualize tables\n",
    "np.set_printoptions(linewidth=125)\n",
    "print(M1, end=' M1\\n\\n')\n",
    "print(M2, end=' M2\\n\\n')\n",
    "print(GCF(M1, M2), end=' GCF')"
   ]
  },
  {
   "cell_type": "markdown",
   "metadata": {},
   "source": [
    "### @guvectorize\n",
    "---\n",
    "Similar to *@vectorize* but operates over arbitrary number of elements of input arrays. One difference is the function doesn't necessarily return a value. Instead, it can take the result as an argument. At its declaration, the function's layout is defined in symbolic form like *'(m,n),(),()->(m)'*, where the first argument '*(m,n)*' is and array with dimensions **m**x**n**, the following two arguments '*()*' are scalar or one-element array and the last argument '*(m)*' is the output, which is an array with size **m**."
   ]
  },
  {
   "cell_type": "code",
   "execution_count": null,
   "metadata": {},
   "outputs": [],
   "source": [
    "from numba import guvectorize"
   ]
  },
  {
   "cell_type": "markdown",
   "metadata": {},
   "source": [
    "The following example calculates the *density* of a point based on the tridimensional distances from the other points. The input **P** is a list of *n* 3D coordinates and the output **R** is an array of densities of the points."
   ]
  },
  {
   "cell_type": "code",
   "execution_count": null,
   "metadata": {},
   "outputs": [],
   "source": [
    "@guvectorize(\n",
    "    [void(\n",
    "        float64[:,:],\n",
    "        int64,\n",
    "        float64,\n",
    "        float64[:]\n",
    "    )],\n",
    "    '(n,m),(),()->(n)'\n",
    ")\n",
    "def density(P, N, r, R):\n",
    "    for i in prange(N):\n",
    "        x, y, z = P[i]\n",
    "        for j in prange(i + 1, N):\n",
    "            if i == j:\n",
    "                continue\n",
    "            u, v, w = P[j]\n",
    "            dx = abs(x - u)\n",
    "            if dx > r:\n",
    "                continue\n",
    "            dy = abs(y - v)\n",
    "            if dy > r:\n",
    "                continue\n",
    "            dz = abs(z - w)\n",
    "            if dz > r:\n",
    "                continue\n",
    "            d = (dx**2 + dy**2 + dz**2)**0.5\n",
    "            R[i] += 1 - d/(3*r*r)**0.5\n",
    "            R[j] += 1 - d/(3*r*r)**0.5"
   ]
  },
  {
   "cell_type": "code",
   "execution_count": null,
   "metadata": {},
   "outputs": [],
   "source": [
    "N = 2500\n",
    "np.random.seed(1234)\n",
    "# Gaussian mixture\n",
    "P = np.vstack((\n",
    "    np.random.normal((-3,0,0), 1.8, (N, 3))*(1, 1, 1/10),\n",
    "    np.random.normal((0,4,0), 1.4, (N, 3))*(1, 1, 1/10),\n",
    "    np.random.normal((3,0,0), 1.0, (N, 3))*(1, 1, 1/10)\n",
    "))\n",
    "# Output array\n",
    "R = np.zeros(3*N)\n",
    "# Time measurement\n",
    "%time D = density(P, 3*N, 0.75, R)"
   ]
  },
  {
   "cell_type": "code",
   "execution_count": null,
   "metadata": {},
   "outputs": [],
   "source": [
    "%matplotlib inline\n",
    "import matplotlib.pyplot as plt\n",
    "from mpl_toolkits.mplot3d import Axes3D"
   ]
  },
  {
   "cell_type": "code",
   "execution_count": null,
   "metadata": {},
   "outputs": [],
   "source": [
    "fig = plt.figure(figsize=(20, 10))\n",
    "ax = Axes3D(fig)\n",
    "ax.view_init(elev=60, azim=30)\n",
    "# Visualize points\n",
    "sct = ax.scatter(*P.T[:3], s=20, c=D)\n",
    "ax.set_title('number of points: ' + str(3*N), size=20)\n",
    "plt.colorbar(sct)\n",
    "plt.show()"
   ]
  },
  {
   "cell_type": "markdown",
   "metadata": {},
   "source": [
    "## Stencil\n",
    "---\n",
    "Efficient way to create stencil kernels. Similarly to *vectorization*, it operates over elements but with the possibility of moving around the element's neighborhood."
   ]
  },
  {
   "cell_type": "code",
   "execution_count": null,
   "metadata": {},
   "outputs": [],
   "source": [
    "from numba import stencil"
   ]
  },
  {
   "cell_type": "markdown",
   "metadata": {},
   "source": [
    "Stencil promotes a very convenient way to produce spatial filtering for image processing."
   ]
  },
  {
   "cell_type": "code",
   "execution_count": null,
   "metadata": {},
   "outputs": [],
   "source": [
    "from imageio import imread\n",
    "M = imread('_data/tomography.png')"
   ]
  },
  {
   "cell_type": "markdown",
   "metadata": {},
   "source": [
    "### Box Filter\n",
    "---\n",
    "The [box filter](https://en.wikipedia.org/wiki/Box_blur) results in the average value from the kernel defined by each pixel's neighborhood. The following example shows the box filtering with a kernel 7x7.\n"
   ]
  },
  {
   "cell_type": "code",
   "execution_count": null,
   "metadata": {},
   "outputs": [],
   "source": [
    "# Box Filter 7x7\n",
    "@stencil(\n",
    "    neighborhood=(\n",
    "        (-3, 3),\n",
    "        (-3, 3)\n",
    "    ))\n",
    "def box_filter(M):\n",
    "    output = 0\n",
    "    for i in range(-3, 4):\n",
    "        for j in range(-3, 4):\n",
    "            output += M[i, j]\n",
    "    return output/49"
   ]
  },
  {
   "cell_type": "code",
   "execution_count": null,
   "metadata": {},
   "outputs": [],
   "source": [
    "%time Mb = box_filter(M)"
   ]
  },
  {
   "cell_type": "code",
   "execution_count": null,
   "metadata": {},
   "outputs": [],
   "source": [
    "fig, (axA, axB) = plt.subplots(1, 2, figsize=(20, 10))\n",
    "# Plot images\n",
    "axA.imshow(M)\n",
    "axA.set_title('Input image')\n",
    "axB.imshow(Mb)\n",
    "axB.set_title('Box Filter 7x7')\n",
    "\n",
    "plt.show()"
   ]
  },
  {
   "cell_type": "markdown",
   "metadata": {},
   "source": [
    "### Parameterized *box filter*\n",
    "---\n",
    "Box filter parameterized by radius $r$, which results in a kernel with diameter $2r + 1$."
   ]
  },
  {
   "cell_type": "code",
   "execution_count": null,
   "metadata": {},
   "outputs": [],
   "source": [
    "def pbox_filter(M, r):\n",
    "    @stencil(neighborhood=(\n",
    "        (-r, r),\n",
    "        (-r, r)\n",
    "    ))\n",
    "    def box_filter(M):\n",
    "        output = 0\n",
    "        for i in range(-r, r + 1):\n",
    "            for j in range(-r, r + 1):\n",
    "                output += M[i, j]\n",
    "        return output/(2*r + 1)**2\n",
    "    return box_filter(M)"
   ]
  },
  {
   "cell_type": "code",
   "execution_count": null,
   "metadata": {},
   "outputs": [],
   "source": [
    "# Init parameters\n",
    "rA = 2\n",
    "rB = 9\n",
    "# Run box filters\n",
    "%time MpA = pbox_filter(M, rA)\n",
    "%time MpB = pbox_filter(M, rB)"
   ]
  },
  {
   "cell_type": "code",
   "execution_count": null,
   "metadata": {},
   "outputs": [],
   "source": [
    "fig, (axA, axB) = plt.subplots(1, 2, figsize=(20, 10))\n",
    "# Plot images\n",
    "axA.imshow(MpA)\n",
    "axA.set_title('Box Filter {0}x{0}'.format(rA*2 + 1))\n",
    "axB.imshow(MpB)\n",
    "axB.set_title('Box Filter {0}x{0}'.format(rB*2 + 1))\n",
    "\n",
    "plt.show()"
   ]
  }
 ],
 "metadata": {
  "kernelspec": {
   "display_name": "Python 3",
   "language": "python",
   "name": "python3"
  },
  "language_info": {
   "codemirror_mode": {
    "name": "ipython",
    "version": 3
   },
   "file_extension": ".py",
   "mimetype": "text/x-python",
   "name": "python",
   "nbconvert_exporter": "python",
   "pygments_lexer": "ipython3",
   "version": "3.7.10"
  }
 },
 "nbformat": 4,
 "nbformat_minor": 2
}
