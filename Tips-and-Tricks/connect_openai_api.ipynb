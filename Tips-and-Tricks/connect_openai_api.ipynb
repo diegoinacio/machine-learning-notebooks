{
 "cells": [
  {
   "attachments": {},
   "cell_type": "markdown",
   "id": "selective-opinion",
   "metadata": {},
   "source": [
    "# Connect to OpenAI API\n",
    "---\n",
    "- Author: Diego Inácio\n",
    "- GitHub: [github.com/diegoinacio](https://github.com/diegoinacio)\n",
    "- Notebook: [connect_openai_api.ipynb](https://github.com/diegoinacio/machine-learning-notebooks/blob/master/Tips-and-Tricks/connect_openai_api.ipynb)\n",
    "---\n",
    "Step by step how to connect to *OpenAI API* and brief introduction.\n",
    "\n",
    "[OpenAI's API](https://openai.com/api/) is a set of tools and services that allow developers to train and deploy AI models. The API provides access to OpenAI's vast collection of resources, including datasets, algorithms, and pretrained models. The API also allows developers to create and train their own AI models."
   ]
  },
  {
   "cell_type": "code",
   "execution_count": null,
   "id": "velvet-cooper",
   "metadata": {},
   "outputs": [],
   "source": [
    "from IPython.display import (\n",
    "    HTML, display\n",
    ")\n",
    "\n",
    "import os\n",
    "import dotenv as de\n",
    "\n",
    "import openai"
   ]
  },
  {
   "cell_type": "markdown",
   "id": "exceptional-debate",
   "metadata": {},
   "source": [
    "## Installation\n",
    "---\n",
    "To install the unofficial API and libraries, just the following command for pip or anaconda:\n",
    "\n",
    "``` python\n",
    ">>> pip install openai\n",
    "```\n",
    "\n",
    "or \n",
    "\n",
    "``` python\n",
    ">>> conda install -c conda-forge openai\n",
    "```"
   ]
  },
  {
   "cell_type": "markdown",
   "id": "modern-hundred",
   "metadata": {},
   "source": [
    "## Getting the API key\n",
    "---\n",
    "In order to connect to the *OpenAI's API* the developer needs access to an **API key**. To get one, first create an account at [beta.openai.com](https://beta.openai.com/) and [create a new secret key](https://beta.openai.com/account/api-keys) by accessing their user settings.\n",
    "\n",
    "After creating, save this secret key somewhere safe and accessible. You won't be able to view it again through your OpenAI account. If you lose this secret key, you'll need to generate a new one. The generated key must seem like:\n",
    "\n",
    "| SECRET KEY | CREATED      | LAST USED |\n",
    "| :--------: | :----------: | :-------: |\n",
    "| sk-...Ksf8 | Jan 01, 2022 | Never     |\n",
    "\n",
    "To configure the API with our generated secret key, use the python command:\n",
    "\n",
    "``` python\n",
    "openai.api_key = <your key here>\n",
    "```\n",
    "\n",
    "In order to protect your key from explicit usage, I strongly recommend using some environment variable method or so. For this example, I'll be using [dotenv](https://pypi.org/project/python-dotenv/) and an external `.env` file."
   ]
  },
  {
   "cell_type": "code",
   "execution_count": null,
   "id": "regional-polls",
   "metadata": {},
   "outputs": [],
   "source": [
    "de.load_dotenv(de.find_dotenv())\n",
    "\n",
    "OPENAI_API_KEY = os.environ.get(\"OPENAI_API_KEY\")\n",
    "\n",
    "openai.api_key = OPENAI_API_KEY"
   ]
  },
  {
   "cell_type": "markdown",
   "id": "american-brunswick",
   "metadata": {},
   "source": [
    "## Connection test\n",
    "---\n",
    "To test the connection with OpenAI API, we will generate natural language text using a [GPT-3](https://beta.openai.com/docs/models/gpt-3) model."
   ]
  },
  {
   "cell_type": "code",
   "execution_count": null,
   "id": "mental-student",
   "metadata": {},
   "outputs": [],
   "source": [
    "PROMPT = \"What are Artificial Intelligence and Machine Learning?\"\n",
    "\n",
    "response = openai.Completion.create(\n",
    "    model=\"text-davinci-003\",\n",
    "    prompt=PROMPT,\n",
    "    max_tokens=100\n",
    ")\n",
    "\n",
    "print(response[\"choices\"][0][\"text\"])"
   ]
  }
 ],
 "metadata": {
  "kernelspec": {
   "display_name": "Python [conda env:root] *",
   "language": "python",
   "name": "conda-root-py"
  },
  "language_info": {
   "codemirror_mode": {
    "name": "ipython",
    "version": 3
   },
   "file_extension": ".py",
   "mimetype": "text/x-python",
   "name": "python",
   "nbconvert_exporter": "python",
   "pygments_lexer": "ipython3",
   "version": "3.7.10"
  }
 },
 "nbformat": 4,
 "nbformat_minor": 5
}
