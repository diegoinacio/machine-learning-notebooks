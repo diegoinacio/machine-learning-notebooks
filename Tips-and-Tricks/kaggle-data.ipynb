{
 "cells": [
  {
   "attachments": {},
   "cell_type": "markdown",
   "id": "amended-avatar",
   "metadata": {},
   "source": [
    "# Kaggle data\n",
    "---\n",
    "- Author: Diego Inácio\n",
    "- GitHub: [github.com/diegoinacio](https://github.com/diegoinacio)\n",
    "- Notebook: [kaggle-data.ipynb](https://github.com/diegoinacio/machine-learning-notebooks/blob/master/Tips-and-Tricks/kaggle-data.ipynb)\n",
    "---\n",
    "Methods to obtain datasets from the *Kaggle* platform.\n",
    "\n",
    "[Keggle](https://www.kaggle.com/) is basically an online community for *data scientists*. It is a platform that provide users ways to practice *machine learning*, *data analysis* or any kind of *data mining* projects. There is a lot of datasets available on Kaggle ready to be downloaded and explored. Here we will se how to get them."
   ]
  },
  {
   "cell_type": "code",
   "execution_count": null,
   "id": "loaded-worship",
   "metadata": {},
   "outputs": [],
   "source": [
    "import os\n",
    "import sys\n",
    "import zipfile\n",
    "import pandas as pd"
   ]
  },
  {
   "cell_type": "markdown",
   "id": "coordinate-mouse",
   "metadata": {},
   "source": [
    "## Before getting the data\n",
    "---\n",
    "Before downloading any dataset, we have to set our credentials to explore Kaggle's API. The first step is to create an *API token* by doing the following steps below:\n",
    "\n",
    "- Visit [Kaggle](https://www.kaggle.com/) and go to your profile and click on account;\n",
    "- Roll down and click on **Create new API Token** button. \n",
    "\n",
    "```\n",
    "This will download a file called `kaggle.json`, which will provide us our **username** and **key** like:\n",
    "```\n",
    "\n",
    "``` json\n",
    "{\"username\": \"diegoinacio\", \"key\": \"abfj3......2q9b\"}\n",
    "```\n",
    "\n",
    "- Place this file in `$HOME/.kaggle/kaggle.json`"
   ]
  },
  {
   "cell_type": "markdown",
   "id": "social-basics",
   "metadata": {},
   "source": [
    "## Kaggle API\n",
    "---\n",
    "To access Kaggle API functionality, first install the kaggle tools:\n",
    "\n",
    "``` shell\n",
    "pip install kaggle --upgrade\n",
    "```\n",
    "\n",
    "It will provide us with the possibility to access both the **CLI** functionality and Python interface. To know more, you can reach the [project repository](https://github.com/Kaggle/kaggle-api)."
   ]
  },
  {
   "cell_type": "code",
   "execution_count": null,
   "id": "other-individual",
   "metadata": {},
   "outputs": [],
   "source": [
    "!kaggle -h"
   ]
  },
  {
   "cell_type": "code",
   "execution_count": null,
   "id": "disciplinary-cursor",
   "metadata": {},
   "outputs": [],
   "source": [
    "import kaggle"
   ]
  },
  {
   "cell_type": "markdown",
   "id": "wrapped-austin",
   "metadata": {},
   "source": [
    "### Datasets via CLI\n",
    "---"
   ]
  },
  {
   "cell_type": "code",
   "execution_count": null,
   "id": "organized-google",
   "metadata": {},
   "outputs": [],
   "source": [
    "!kaggle datasets list"
   ]
  },
  {
   "cell_type": "code",
   "execution_count": null,
   "id": "altered-musician",
   "metadata": {},
   "outputs": [],
   "source": [
    "!kaggle datasets download ahsan81/hotel-reservations-classification-dataset"
   ]
  },
  {
   "cell_type": "code",
   "execution_count": null,
   "id": "referenced-ticket",
   "metadata": {},
   "outputs": [],
   "source": [
    "zf = zipfile.ZipFile(\"./hotel-reservations-classification-dataset.zip\") \n",
    "df = pd.read_csv(zf.open(\"Hotel Reservations.csv\"))"
   ]
  },
  {
   "cell_type": "code",
   "execution_count": null,
   "id": "stunning-turkey",
   "metadata": {},
   "outputs": [],
   "source": [
    "df"
   ]
  },
  {
   "cell_type": "markdown",
   "id": "entitled-compound",
   "metadata": {},
   "source": [
    "### Datasets via Python interface\n",
    "---"
   ]
  },
  {
   "cell_type": "code",
   "execution_count": null,
   "id": "adolescent-order",
   "metadata": {},
   "outputs": [],
   "source": [
    "from kaggle.api.kaggle_api_extended import KaggleApi"
   ]
  },
  {
   "cell_type": "code",
   "execution_count": null,
   "id": "boxed-reaction",
   "metadata": {},
   "outputs": [],
   "source": [
    "api = KaggleApi()\n",
    "api.authenticate()"
   ]
  },
  {
   "cell_type": "code",
   "execution_count": null,
   "id": "eight-occasions",
   "metadata": {},
   "outputs": [],
   "source": [
    "api.dataset_list()"
   ]
  },
  {
   "cell_type": "code",
   "execution_count": null,
   "id": "based-induction",
   "metadata": {},
   "outputs": [],
   "source": [
    "api.dataset_download_files(\"senapatirajesh/netflix-tv-shows-and-movies\")"
   ]
  },
  {
   "cell_type": "code",
   "execution_count": null,
   "id": "laughing-program",
   "metadata": {},
   "outputs": [],
   "source": [
    "zf = zipfile.ZipFile(\"./netflix-tv-shows-and-movies.zip\") \n",
    "df = pd.read_csv(zf.open(\"NetFlix.csv\"))"
   ]
  },
  {
   "cell_type": "code",
   "execution_count": null,
   "id": "indie-samuel",
   "metadata": {},
   "outputs": [],
   "source": [
    "df"
   ]
  },
  {
   "cell_type": "markdown",
   "id": "retired-medium",
   "metadata": {},
   "source": [
    "## opendatasets library\n",
    "---\n",
    "[opendatasets](https://github.com/JovianHQ/opendatasets/) is a Python library for downloading datasets not only from Kaggle but also from any online sources like Google Drive and others. To install that just run the following command:\n",
    "\n",
    "``` shell\n",
    "pip install opendatasets\n",
    "```"
   ]
  },
  {
   "cell_type": "code",
   "execution_count": null,
   "id": "embedded-oriental",
   "metadata": {},
   "outputs": [],
   "source": [
    "import opendatasets as ods"
   ]
  },
  {
   "cell_type": "markdown",
   "id": "above-little",
   "metadata": {},
   "source": [
    "To download from any source just provide an url. In the case of Kaggle, the command will interactively ask you for the **username** and **key** obtained from `kaggle.json` file. Copy and paste into the interactive widgets."
   ]
  },
  {
   "cell_type": "code",
   "execution_count": null,
   "id": "mobile-dressing",
   "metadata": {},
   "outputs": [],
   "source": [
    "# This command will ask you for your username and key (from kaggle.json) interactively\n",
    "dataset_url = \"https://www.kaggle.com/rakkesharv/spotify-top-10000-streamed-songs\"\n",
    "ods.download(dataset_url)"
   ]
  },
  {
   "cell_type": "code",
   "execution_count": null,
   "id": "seven-biology",
   "metadata": {},
   "outputs": [],
   "source": [
    "df = pd.read_csv(\"./spotify-top-10000-streamed-songs/Spotify_final_dataset.csv\")"
   ]
  },
  {
   "cell_type": "code",
   "execution_count": null,
   "id": "pointed-desert",
   "metadata": {},
   "outputs": [],
   "source": [
    "df"
   ]
  }
 ],
 "metadata": {
  "kernelspec": {
   "display_name": "Python [conda env:root] *",
   "language": "python",
   "name": "conda-root-py"
  },
  "language_info": {
   "codemirror_mode": {
    "name": "ipython",
    "version": 3
   },
   "file_extension": ".py",
   "mimetype": "text/x-python",
   "name": "python",
   "nbconvert_exporter": "python",
   "pygments_lexer": "ipython3",
   "version": "3.7.10"
  }
 },
 "nbformat": 4,
 "nbformat_minor": 5
}
