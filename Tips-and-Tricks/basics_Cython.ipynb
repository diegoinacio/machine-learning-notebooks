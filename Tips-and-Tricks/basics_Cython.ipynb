{
 "cells": [
  {
   "cell_type": "markdown",
   "metadata": {},
   "source": [
    "# Basics [Cython]\n",
    "---\n",
    "- Author: Diego Inácio\n",
    "- GitHub: [github.com/diegoinacio](https://github.com/diegoinacio)\n",
    "- Notebook: [basics_Cython.ipynb](https://github.com/diegoinacio/machine-learning-notebooks/blob/master/Tips-and-Tricks/basics_Cython.ipynb)\n",
    "---\n",
    "Basic functions and operations using [Cython](https://cython.org/) and *Python*."
   ]
  },
  {
   "cell_type": "markdown",
   "metadata": {},
   "source": [
    "## Installation\n",
    "---\n",
    "\n",
    "[Installation](http://docs.cython.org/en/latest/src/quickstart/install.html) command for *anaconda* and *pip*:\n",
    "\n",
    "```\n",
    "$ conda install -c anaconda cython\n",
    "```\n",
    "\n",
    "or\n",
    "\n",
    "```\n",
    "$ pip install Cython\n",
    "```"
   ]
  },
  {
   "cell_type": "code",
   "execution_count": null,
   "metadata": {},
   "outputs": [],
   "source": [
    "import cython"
   ]
  },
  {
   "cell_type": "markdown",
   "metadata": {},
   "source": [
    "## Compilation\n",
    "---\n",
    "A *Cython* source file has the name of the module followed by the extension `.pyx`. For example, given the source file `examples_cy.pyx` with a simple function which returns a string.\n",
    "\n",
    "```python\n",
    "def hello_cython():\n",
    "    return 'Hello, Cython!'\n",
    "```\n",
    "\n",
    "The following step consist of creating the `setup.py`, which will be responsible for the compilation process.\n",
    "\n",
    "```python\n",
    "from setuptools import setup\n",
    "from Cython.Build import cythonize\n",
    "\n",
    "setup(\n",
    "    name=\"Examples Cython\",\n",
    "    ext_modules=cythonize(\"examples_cy.pyx\")\n",
    ")\n",
    "```\n",
    "\n",
    "Given that, the compilation step is done by running the command:\n",
    "\n",
    "```\n",
    "$ python setup.py build_ext --inplace\n",
    "```"
   ]
  },
  {
   "cell_type": "code",
   "execution_count": null,
   "metadata": {},
   "outputs": [],
   "source": [
    "from examples_cy import hello_cython"
   ]
  },
  {
   "cell_type": "code",
   "execution_count": null,
   "metadata": {},
   "outputs": [],
   "source": [
    "print(hello_cython())"
   ]
  },
  {
   "cell_type": "markdown",
   "metadata": {},
   "source": [
    "## Performance\n",
    "---\n",
    "The following example, we will try to approximate the value $\\large\\pi$ with the idea of $\\\\tan^{-1}1=\\frac{\\pi}{4}$ using the power series of *arctan*, defined by:\n",
    "\n",
    "$$\\large\n",
    "4 \\sum_{n=0}^{N}\\frac{(-1)^n}{2n+1} \\approx \\pi\n",
    "$$\n",
    "\n",
    "where $N$ tends to the infinity."
   ]
  },
  {
   "cell_type": "code",
   "execution_count": null,
   "metadata": {},
   "outputs": [],
   "source": [
    "def pi_py(N):\n",
    "    pi = 0\n",
    "    for n in range(N):\n",
    "        pi += (-1)**n/(2*n + 1)\n",
    "    return 4*pi\n",
    "\n",
    "print(pi_py(1000000))"
   ]
  },
  {
   "cell_type": "markdown",
   "metadata": {},
   "source": [
    "In the same *Cython* source file `examples_cy.pyx`, lets include the function and adapt it to be compiled.\n",
    "\n",
    "```python\n",
    "cdef double pi_cy(int N):\n",
    "    cdef double pi = 0\n",
    "    cdef int n\n",
    "    for n in range(N):\n",
    "        pi += (-1)**n/(2*n + 1)\n",
    "    return 4*pi\n",
    "```\n",
    "\n",
    "*p.s.: compile it again running the command:*\n",
    "\n",
    "```\n",
    "$ python setup.py build_ext --inplace\n",
    "```"
   ]
  },
  {
   "cell_type": "code",
   "execution_count": null,
   "metadata": {},
   "outputs": [],
   "source": [
    "from examples_cy import pi_cy"
   ]
  },
  {
   "cell_type": "code",
   "execution_count": null,
   "metadata": {},
   "outputs": [],
   "source": [
    "# Time measurement over the situations\n",
    "print('[Python] pi_py |', end=' ')\n",
    "%timeit -n 5 -r 5 pi_py(1000000)\n",
    "print('[Cython] pi_cy |', end=' ')\n",
    "%timeit -n 5 -r 5 pi_cy(1000000)"
   ]
  },
  {
   "cell_type": "markdown",
   "metadata": {},
   "source": [
    "## Cython and Jupyter Notebook\n",
    "---\n",
    "To enable support for *Cython* compilation in *Jupyter Notebooks*, we have to run firstly the command:"
   ]
  },
  {
   "cell_type": "code",
   "execution_count": null,
   "metadata": {},
   "outputs": [],
   "source": [
    "%load_ext Cython"
   ]
  },
  {
   "cell_type": "markdown",
   "metadata": {},
   "source": [
    "It will allow the *C functions* declaration inside cells, using the magic function `%%cython` for multiple lines.\n",
    "\n",
    "*p.s.: the function call must be within the same cell*"
   ]
  },
  {
   "cell_type": "code",
   "execution_count": null,
   "metadata": {},
   "outputs": [],
   "source": [
    "%%cython\n",
    "\n",
    "cdef int factorial(int x):\n",
    "    if x <= 1:\n",
    "        return 1\n",
    "    return x*factorial(x - 1)\n",
    "\n",
    "print(factorial(10))"
   ]
  }
 ],
 "metadata": {
  "kernelspec": {
   "display_name": "Python 3",
   "language": "python",
   "name": "python3"
  },
  "language_info": {
   "codemirror_mode": {
    "name": "ipython",
    "version": 3
   },
   "file_extension": ".py",
   "mimetype": "text/x-python",
   "name": "python",
   "nbconvert_exporter": "python",
   "pygments_lexer": "ipython3",
   "version": "3.7.10"
  }
 },
 "nbformat": 4,
 "nbformat_minor": 2
}
